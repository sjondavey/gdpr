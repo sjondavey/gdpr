{
 "cells": [
  {
   "cell_type": "code",
   "execution_count": 1,
   "metadata": {},
   "outputs": [],
   "source": [
    "\n",
    "response = 'The criteria that must be met by the controller of personal data operating CCTV under the GDPR include:\\n\\n1. **Data Protection by Design and by Default**: Controllers must implement appropriate technical and organisational measures before starting the collection and processing of video footage. This includes built-in privacy-enhancing technologies, default settings that minimize data processing, and tools that enable the highest possible protection of personal data. These measures should be integrated into both the design specifications of the technology and organisational practices (Reference: 1, 3).\\n\\n2. **Lawfulness of Processing**: The processing of personal data through video surveillance must be legally permissible. This can be justified under Article 6 (1) (e) if it is necessary to perform a task carried out in the public interest or in the exercise of official authority. Member States may also introduce specific national legislation to adapt the application of GDPR rules (Reference: 2).\\n\\n3. **Technical and Organisational Measures**: Controllers must secure personal data adequately, proportional to the risks to the rights and freedoms of natural persons. This includes ensuring system and data confidentiality, integrity, and availability, and implementing measures to safeguard all data-protection principles during processing. Controllers should also establish means for data subjects to exercise their rights as defined in Articles 15-22 GDPR (Reference: 3).\\n\\n4. **Organisational Measures**: Controllers should adopt internal frameworks and policies that cover management and operation of the video surveillance system, purpose and scope of the project, transparency measures, recording and storage duration, access control, operational procedures, and incident management (Reference: 3).\\n\\n5. **Technical Measures**: Controllers must ensure physical security of all system components, protect footage transmission, use data encryption, and implement hardware and software-based solutions against cyber attacks. Access control measures should ensure that only authorized individuals can access the system and data (Reference: 3).  \\nReference:  \\nSection 9.2 from Guidelines 3/2019 on processing of personal data through video devices  \\nSection 3.2 from Guidelines 3/2019 on processing of personal data through video devices  \\nSection 9 from Guidelines 3/2019 on processing of personal data through video devices'"
   ]
  },
  {
   "cell_type": "code",
   "execution_count": 2,
   "metadata": {},
   "outputs": [],
   "source": [
    "\n",
    "parts = response.rsplit('Reference:', 1)"
   ]
  },
  {
   "cell_type": "code",
   "execution_count": 9,
   "metadata": {},
   "outputs": [
    {
     "data": {
      "text/plain": [
       "'The criteria that must be met by the controller of personal data operating CCTV under the GDPR include:\\n\\n1. **Data Protection by Design and by Default**: Controllers must implement appropriate technical and organisational measures before starting the collection and processing of video footage. This includes built-in privacy-enhancing technologies, default settings that minimize data processing, and tools that enable the highest possible protection of personal data. These measures should be integrated into both the design specifications of the technology and organisational practices (Reference: 1, 3).\\n\\n2. **Lawfulness of Processing**: The processing of personal data through video surveillance must be legally permissible. This can be justified under Article 6 (1) (e) if it is necessary to perform a task carried out in the public interest or in the exercise of official authority. Member States may also introduce specific national legislation to adapt the application of GDPR rules (Reference: 2).\\n\\n3. **Technical and Organisational Measures**: Controllers must secure personal data adequately, proportional to the risks to the rights and freedoms of natural persons. This includes ensuring system and data confidentiality, integrity, and availability, and implementing measures to safeguard all data-protection principles during processing. Controllers should also establish means for data subjects to exercise their rights as defined in Articles 15-22 GDPR (Reference: 3).\\n\\n4. **Organisational Measures**: Controllers should adopt internal frameworks and policies that cover management and operation of the video surveillance system, purpose and scope of the project, transparency measures, recording and storage duration, access control, operational procedures, and incident management (Reference: 3).\\n\\n5. **Technical Measures**: Controllers must ensure physical security of all system components, protect footage transmission, use data encryption, and implement hardware and software-based solutions against cyber attacks. Access control measures should ensure that only authorized individuals can access the system and data (Reference: 3).'"
      ]
     },
     "execution_count": 9,
     "metadata": {},
     "output_type": "execute_result"
    }
   ],
   "source": [
    "parts[0].strip()\n"
   ]
  },
  {
   "cell_type": "code",
   "execution_count": 4,
   "metadata": {},
   "outputs": [
    {
     "data": {
      "text/plain": [
       "['Section 9.2 from Guidelines 3/2019 on processing of personal data through video devices  ',\n",
       " 'Section 3.2 from Guidelines 3/2019 on processing of personal data through video devices  ',\n",
       " 'Section 9 from Guidelines 3/2019 on processing of personal data through video devices']"
      ]
     },
     "execution_count": 4,
     "metadata": {},
     "output_type": "execute_result"
    }
   ],
   "source": [
    "references = parts[1].strip().split('\\n')\n",
    "references\n"
   ]
  },
  {
   "cell_type": "code",
   "execution_count": null,
   "metadata": {},
   "outputs": [],
   "source": [
    "all_references = st.session_state['chat'].references[response.strip()]"
   ]
  }
 ],
 "metadata": {
  "kernelspec": {
   "display_name": "Python 3.10.4 ('env': venv)",
   "language": "python",
   "name": "python3"
  },
  "language_info": {
   "codemirror_mode": {
    "name": "ipython",
    "version": 3
   },
   "file_extension": ".py",
   "mimetype": "text/x-python",
   "name": "python",
   "nbconvert_exporter": "python",
   "pygments_lexer": "ipython3",
   "version": "3.10.4"
  },
  "orig_nbformat": 4,
  "vscode": {
   "interpreter": {
    "hash": "20591bc9273590117cdd0f52559c248ef39f0181da66e3521068e03aa47654cd"
   }
  }
 },
 "nbformat": 4,
 "nbformat_minor": 2
}
