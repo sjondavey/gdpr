{
 "cells": [
  {
   "cell_type": "code",
   "execution_count": 2,
   "metadata": {},
   "outputs": [
    {
     "name": "stdout",
     "output_type": "stream",
     "text": [
      "File converted successfully and saved as ./inputs/documents/article_47_bcr_1.csv.\n"
     ]
    }
   ],
   "source": [
    "# Define the input and output file paths\n",
    "input_file = \"./inputs/documents/article_47_bcr.csv\"\n",
    "output_file = \"./inputs/documents/article_47_bcr_1.csv\"\n",
    "\n",
    "# Read the file and replace '\\r' with '\\n'\n",
    "with open(input_file, 'r', newline='\\r') as file:\n",
    "    content = file.read()\n",
    "\n",
    "# Write the modified content to a new file\n",
    "with open(output_file, 'w', newline='\\n') as file:\n",
    "    file.write(content)\n",
    "\n",
    "print(f\"File converted successfully and saved as {output_file}.\")"
   ]
  },
  {
   "cell_type": "code",
   "execution_count": 3,
   "metadata": {},
   "outputs": [],
   "source": [
    "import pandas as pd\n",
    "\n",
    "path_to_manual_as_csv_file = \"./inputs/documents/article_47_bcr.csv\"\n",
    "\n",
    "# Read the file and replace '\\r' with '\\n'\n",
    "with open(path_to_manual_as_csv_file, 'r', encoding='utf-8') as file:\n",
    "    content = file.read().replace('\\r', '\\n')\n",
    "\n",
    "# Use pd.read_csv to read the modified content\n",
    "from io import StringIO\n",
    "document_as_df = pd.read_csv(StringIO(content), sep=\"|\", encoding=\"utf-8\", na_filter=False)"
   ]
  },
  {
   "cell_type": "code",
   "execution_count": 5,
   "metadata": {},
   "outputs": [
    {
     "data": {
      "text/html": [
       "<div>\n",
       "<style scoped>\n",
       "    .dataframe tbody tr th:only-of-type {\n",
       "        vertical-align: middle;\n",
       "    }\n",
       "\n",
       "    .dataframe tbody tr th {\n",
       "        vertical-align: top;\n",
       "    }\n",
       "\n",
       "    .dataframe thead th {\n",
       "        text-align: right;\n",
       "    }\n",
       "</style>\n",
       "<table border=\"1\" class=\"dataframe\">\n",
       "  <thead>\n",
       "    <tr style=\"text-align: right;\">\n",
       "      <th></th>\n",
       "      <th>section</th>\n",
       "      <th>point</th>\n",
       "      <th>heading</th>\n",
       "      <th>text</th>\n",
       "      <th>section_reference</th>\n",
       "    </tr>\n",
       "  </thead>\n",
       "  <tbody>\n",
       "    <tr>\n",
       "      <th>0</th>\n",
       "      <td>1</td>\n",
       "      <td></td>\n",
       "      <td>True</td>\n",
       "      <td>INTRODUCTION</td>\n",
       "      <td>1</td>\n",
       "    </tr>\n",
       "    <tr>\n",
       "      <th>1</th>\n",
       "      <td>1</td>\n",
       "      <td>1</td>\n",
       "      <td>False</td>\n",
       "      <td>The GDPR expressly provides for the use of bin...</td>\n",
       "      <td>1.1</td>\n",
       "    </tr>\n",
       "    <tr>\n",
       "      <th>2</th>\n",
       "      <td>1</td>\n",
       "      <td>2</td>\n",
       "      <td>False</td>\n",
       "      <td>On 6 February 2018, the Article 29 Working Par...</td>\n",
       "      <td>1.2</td>\n",
       "    </tr>\n",
       "    <tr>\n",
       "      <th>3</th>\n",
       "      <td>1</td>\n",
       "      <td>3</td>\n",
       "      <td>False</td>\n",
       "      <td>On 11 April 2018, the Article 29 Working Party...</td>\n",
       "      <td>1.3</td>\n",
       "    </tr>\n",
       "    <tr>\n",
       "      <th>4</th>\n",
       "      <td>1</td>\n",
       "      <td>4</td>\n",
       "      <td>False</td>\n",
       "      <td>These recommendations are meant to:</td>\n",
       "      <td>1.4</td>\n",
       "    </tr>\n",
       "    <tr>\n",
       "      <th>...</th>\n",
       "      <td>...</td>\n",
       "      <td>...</td>\n",
       "      <td>...</td>\n",
       "      <td>...</td>\n",
       "      <td>...</td>\n",
       "    </tr>\n",
       "    <tr>\n",
       "      <th>150</th>\n",
       "      <td>3</td>\n",
       "      <td>8</td>\n",
       "      <td>True</td>\n",
       "      <td>MECHANISMS FOR REPORTING AND RECORDING CHANGES</td>\n",
       "      <td>3.8</td>\n",
       "    </tr>\n",
       "    <tr>\n",
       "      <th>151</th>\n",
       "      <td>3</td>\n",
       "      <td>8.1</td>\n",
       "      <td>False</td>\n",
       "      <td>The BCR-C have to be kept up-to-date in order ...</td>\n",
       "      <td>3.8.1</td>\n",
       "    </tr>\n",
       "    <tr>\n",
       "      <th>152</th>\n",
       "      <td>3</td>\n",
       "      <td>9</td>\n",
       "      <td>True</td>\n",
       "      <td>DEFINITIONS</td>\n",
       "      <td>3.9</td>\n",
       "    </tr>\n",
       "    <tr>\n",
       "      <th>153</th>\n",
       "      <td>3</td>\n",
       "      <td>9.1</td>\n",
       "      <td>False</td>\n",
       "      <td>The applicant should include a list of definit...</td>\n",
       "      <td>3.9.1</td>\n",
       "    </tr>\n",
       "    <tr>\n",
       "      <th>154</th>\n",
       "      <td>Analysis</td>\n",
       "      <td>1</td>\n",
       "      <td>False</td>\n",
       "      <td>Points that need to be addressed in a binding ...</td>\n",
       "      <td>Analysis</td>\n",
       "    </tr>\n",
       "  </tbody>\n",
       "</table>\n",
       "<p>155 rows × 5 columns</p>\n",
       "</div>"
      ],
      "text/plain": [
       "      section point  heading  \\\n",
       "0           1           True   \n",
       "1           1     1    False   \n",
       "2           1     2    False   \n",
       "3           1     3    False   \n",
       "4           1     4    False   \n",
       "..        ...   ...      ...   \n",
       "150         3     8     True   \n",
       "151         3   8.1    False   \n",
       "152         3     9     True   \n",
       "153         3   9.1    False   \n",
       "154  Analysis     1    False   \n",
       "\n",
       "                                                  text section_reference  \n",
       "0                                        INTRODUCTION                  1  \n",
       "1    The GDPR expressly provides for the use of bin...               1.1  \n",
       "2    On 6 February 2018, the Article 29 Working Par...               1.2  \n",
       "3    On 11 April 2018, the Article 29 Working Party...               1.3  \n",
       "4                 These recommendations are meant to:                1.4  \n",
       "..                                                 ...               ...  \n",
       "150     MECHANISMS FOR REPORTING AND RECORDING CHANGES               3.8  \n",
       "151  The BCR-C have to be kept up-to-date in order ...             3.8.1  \n",
       "152                                        DEFINITIONS               3.9  \n",
       "153  The applicant should include a list of definit...             3.9.1  \n",
       "154  Points that need to be addressed in a binding ...          Analysis  \n",
       "\n",
       "[155 rows x 5 columns]"
      ]
     },
     "execution_count": 5,
     "metadata": {},
     "output_type": "execute_result"
    }
   ],
   "source": [
    "document_as_df"
   ]
  },
  {
   "cell_type": "code",
   "execution_count": 6,
   "metadata": {},
   "outputs": [
    {
     "data": {
      "text/plain": [
       "'Points that need to be addressed in a binding corporate resolution for controllers (BCR-C) are:\\n3.1.1: Duty to respect the BCR-C (Article 47(1)(a) and (2)(c) GDPR [^15]).\\n3.1.2: Explanation of how the BCR-C are internally[^16] made binding on the BCR members, and on their employees (Article 47(1)(a) and (2)(c) GDPR).\\n3.1.3.1: Creation of third-party beneficiary rights that are enforceable by data subjects (Article 47(1)(b), (2)(c) and (e) GDPR).\\n3.1.3.2: Right to judicial remedies, redress and compensation for data subjects (Article 47(2)(e) and Articles 77 to 82 GDPR).\\n3.1.4: One or more BCR member(s) in the EEA with delegated data protection responsibility accept liability for paying compensation to data subjects and remedying breaches of the BCR-C (hereinafter \"Liable BCR Member(s)\") (Article 47(2)(f) GDPR).\\n3.1.5: The Liable BCR member(s) has sufficient assets (Article 70(1)(i) GDPR).\\n3.1.6: The burden of proof lies with the Liable BCR member(s) (Article 47(2)(f) GDPR).\\n3.1.7: Easy access to the BCR-C for data subjects (Article 47(2)(g) GDPR).\\n3.2.1: Description of the material scope of the BCR-C (Article 47(2)(b) GDPR).\\n3.2.2: List of BCR members, and description of the geographical scope of the BCR-C (Article 47(2)(a) GDPR).\\n3.3.1: Suitable training programme (Article 47(2)(n) GDPR).\\n3.3.2: Complaint handling process for the BCR-C (Article 47(2)(i) and Article 12(3) GDPR).\\n3.3.3: Audit programme covering the BCR-C (Article 47(2)(j) and (l) and Article 38(3) GDPR).\\n3.3.4: Creation of a network of data protection officers (DPOs) or appropriate staff for monitoring compliance with the BCR-C (Article 47(2)(h) and Article 38(3) GDPR).\\n3.4.1: Duty to cooperate with Competent SAs (Article 47(2)(l) GDPR and Article 31 GDPR).\\n3.5.1.1: Description of the data protection principles (Article 47(2)(d) GDPR and Article 5 GDPR).\\n3.5.1.2: Lawfulness of processing (Article 47(2)(d), Article 5(1)(a), and Articles 6 and 9 GDPR).\\n3.5.1.3: Security and personal data breach notifications (Article 47(2)(d) and Articles 32 to 34 GDPR).\\n3.5.1.4: Restrictions on onward transfers (Article 47(2)(d) GDPR and Article 44 GDPR).\\n3.5.2: Rights of data subjects (Article 47(2)(e), Articles 12 to 19 and 21 to 22 GDPR).\\n3.5.3: Accountability and other tools (Article 47(2)(d), and Articles 30, 35-36 GDPR).\\n3.5.4.1: Local laws and practices affecting compliance with the BCR-C[^23] (Article 47(2)(m) GDPR).\\n3.5.4.2: Obligations of the data importer in case of government access requests (Article 47(2)(m) GDPR).\\n3.6.1: Termination (Article 70(1)(i) GDPR).\\n3.7.1: Non-Compliance (Article 70(1)(i) GDPR).\\n3.8.1: Process for updating the BCR-C (Article 47(2)(k) GDPR).\\n3.9.1: List of definitions (Article 70(1)(i) GDPR).\\n\\n[^15]: References in this paper to GDPR provisions do not imply that GDPR applies directly to the BCR members acting as data importers, but should rather be understood as the threshold for commitments that need to be made in a BCR. If the BCR make reference to GDPR provisions, possible wording to indicate this might e.g. be \"in line with Article X of the GDPR\", \"… as those provided for by Article X of the GDPR\".\\n[^16]: Please note that, besides having internal binding nature (i.e. binding effect on the BCR members and their employees), the BCR-C must also have an external binding effect in the sense of providing legal enforceability (of certain parts of the BCR-C) for the data subjects by creating third-party beneficiary rights. See Section 1.3 below as regards this external binding effect.\\n[^23]: For further details, see EDPB Recommendations 01/2020 on measures that supplement transfer tools to ensure compliance with the EU level of protection of personal data, available at https://edpb.europa.eu/our-work-tools/our-documents/recommendations/recommendations-012020-measures-supplement-transfer en.'"
      ]
     },
     "execution_count": 6,
     "metadata": {},
     "output_type": "execute_result"
    }
   ],
   "source": [
    "document_as_df.iloc[154]['text']"
   ]
  },
  {
   "cell_type": "code",
   "execution_count": null,
   "metadata": {},
   "outputs": [],
   "source": []
  }
 ],
 "metadata": {
  "kernelspec": {
   "display_name": "env",
   "language": "python",
   "name": "python3"
  },
  "language_info": {
   "codemirror_mode": {
    "name": "ipython",
    "version": 3
   },
   "file_extension": ".py",
   "mimetype": "text/x-python",
   "name": "python",
   "nbconvert_exporter": "python",
   "pygments_lexer": "ipython3",
   "version": "3.10.10"
  }
 },
 "nbformat": 4,
 "nbformat_minor": 2
}
