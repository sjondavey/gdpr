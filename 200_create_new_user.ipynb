{
 "cells": [
  {
   "cell_type": "code",
   "execution_count": 4,
   "metadata": {},
   "outputs": [],
   "source": [
    "import bcrypt\n"
   ]
  },
  {
   "cell_type": "code",
   "execution_count": 3,
   "metadata": {},
   "outputs": [
    {
     "name": "stdout",
     "output_type": "stream",
     "text": [
      "Generated Username: QuietMoon\n",
      "Generated Password: Sky580}\n"
     ]
    }
   ],
   "source": [
    "import random\n",
    "\n",
    "adjectives = [\"Happy\", \"Quiet\", \"Clever\", \"Brave\", \"Shiny\", \"Bright\", \"Calm\", \"Bold\", \"Charming\"]\n",
    "nouns = [\"Lion\", \"River\", \"Mountain\", \"Sky\", \"Tree\", \"Star\", \"Bird\", \"Sun\", \"Moon\"]\n",
    "\n",
    "def generate_username():\n",
    "    adjective = random.choice(adjectives)\n",
    "    noun = random.choice(nouns)\n",
    "    return f\"{adjective}{noun}\"\n",
    "\n",
    "username = generate_username()\n",
    "print(\"Generated Username:\", username)\n",
    "\n",
    "import random\n",
    "import string\n",
    "\n",
    "def generate_password():\n",
    "    words = [\"Tree\", \"Star\", \"Moon\", \"River\", \"Sun\", \"Rock\", \"Sky\", \"Bird\", \"Cloud\"]\n",
    "    word = random.choice(words)\n",
    "    number = random.randint(100, 999)\n",
    "    special_char = random.choice(string.punctuation)\n",
    "    return f\"{word}{number}{special_char}\"\n",
    "\n",
    "password = generate_password()\n",
    "print(\"Generated Password:\", password)\n"
   ]
  },
  {
   "cell_type": "code",
   "execution_count": 2,
   "metadata": {},
   "outputs": [
    {
     "ename": "NameError",
     "evalue": "name 'bcrypt' is not defined",
     "output_type": "error",
     "traceback": [
      "\u001b[1;31m---------------------------------------------------------------------------\u001b[0m",
      "\u001b[1;31mNameError\u001b[0m                                 Traceback (most recent call last)",
      "Input \u001b[1;32mIn [2]\u001b[0m, in \u001b[0;36m<cell line: 2>\u001b[1;34m()\u001b[0m\n\u001b[0;32m      1\u001b[0m \u001b[38;5;66;03m# Generate a salt\u001b[39;00m\n\u001b[1;32m----> 2\u001b[0m salt \u001b[38;5;241m=\u001b[39m \u001b[43mbcrypt\u001b[49m\u001b[38;5;241m.\u001b[39mgensalt()\n\u001b[0;32m      4\u001b[0m \u001b[38;5;66;03m# Hash the password\u001b[39;00m\n\u001b[0;32m      5\u001b[0m hashed_password \u001b[38;5;241m=\u001b[39m bcrypt\u001b[38;5;241m.\u001b[39mhashpw(password\u001b[38;5;241m.\u001b[39mencode(), salt)\n",
      "\u001b[1;31mNameError\u001b[0m: name 'bcrypt' is not defined"
     ]
    }
   ],
   "source": [
    "\n",
    "# Generate a salt\n",
    "salt = bcrypt.gensalt()\n",
    "\n",
    "# Hash the password\n",
    "hashed_password = bcrypt.hashpw(password.encode(), salt)\n",
    "\n",
    "# Print the hashed password\n",
    "print(f'{username} = \\\"{hashed_password.decode()}\\\"')"
   ]
  }
 ],
 "metadata": {
  "kernelspec": {
   "display_name": "env",
   "language": "python",
   "name": "python3"
  },
  "language_info": {
   "codemirror_mode": {
    "name": "ipython",
    "version": 3
   },
   "file_extension": ".py",
   "mimetype": "text/x-python",
   "name": "python",
   "nbconvert_exporter": "python",
   "pygments_lexer": "ipython3",
   "version": "3.10.4"
  },
  "orig_nbformat": 4
 },
 "nbformat": 4,
 "nbformat_minor": 2
}
