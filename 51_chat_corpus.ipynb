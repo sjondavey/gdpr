{
 "cells": [
  {
   "cell_type": "code",
   "execution_count": 1,
   "metadata": {},
   "outputs": [],
   "source": [
    "import logging\n",
    "log_level = logging.INFO\n",
    "# log_level = logging.DEBUG\n",
    "log_level = 15\n",
    "logging.basicConfig(level=log_level)\n",
    "logger = logging.getLogger(__name__)\n",
    "logger.setLevel(log_level)\n",
    "\n",
    "import os\n",
    "from dotenv import load_dotenv\n",
    "load_dotenv()\n",
    "secret_name = \"OPENAI_API_KEY_GDPR\"\n",
    "openai_api_key = os.getenv(secret_name)\n",
    "key = os.getenv('DECRYPTION_KEY_GDPR')\n"
   ]
  },
  {
   "cell_type": "code",
   "execution_count": 2,
   "metadata": {},
   "outputs": [],
   "source": [
    "import os\n",
    "import pandas as pd\n",
    "from openai import OpenAI\n",
    "\n",
    "from regulations_rag.embeddings import  EmbeddingParameters\n",
    "from regulations_rag.rerank import RerankAlgos\n",
    "from regulations_rag.corpus_chat import ChatParameters\n",
    "\n",
    "import importlib\n",
    "import gdpr_rag.corpus_index\n",
    "importlib.reload(gdpr_rag.corpus_index)\n",
    "from gdpr_rag.corpus_index import GDPRCorpusIndex\n",
    "\n",
    "import regulations_rag.corpus_chat\n",
    "importlib.reload(regulations_rag.corpus_index)\n",
    "from regulations_rag.corpus_chat import CorpusChat\n",
    "\n",
    "from IPython.display import Markdown, display\n",
    "\n",
    "# import gdpr_rag.corpus_chat\n",
    "# importlib.reload(gdpr_rag.corpus_chat)\n",
    "# from gdpr_rag.corpus_chat import CorpusChatCEMAD\n"
   ]
  },
  {
   "cell_type": "code",
   "execution_count": 3,
   "metadata": {},
   "outputs": [
    {
     "name": "stderr",
     "output_type": "stream",
     "text": [
      "DEV:regulations_rag.corpus_chat:test_user: Reset Conversation History\n"
     ]
    }
   ],
   "source": [
    "api_key=os.environ.get(\"OPENAI_API_KEY\")\n",
    "chat_parameters = ChatParameters(chat_model = \"gpt-4o\", api_key=api_key, temperature = 0, max_tokens = 500, token_limit_when_truncating_message_queue = 3500)\n",
    "#chat_parameters = ChatParameters(chat_model = \"gpt-4-turbo\", temperature = 0, max_tokens = 500)\n",
    "\n",
    "embedding_parameters = EmbeddingParameters(\"text-embedding-3-large\", 1024)\n",
    "\n",
    "corpus_index = GDPRCorpusIndex(key)\n",
    "\n",
    "rerank_algo  = RerankAlgos.LLM\n",
    "if rerank_algo == RerankAlgos.LLM:\n",
    "    rerank_algo.params[\"openai_client\"] = chat_parameters.openai_client\n",
    "    rerank_algo.params[\"model_to_use\"] = chat_parameters.model\n",
    "    rerank_algo.params[\"user_type\"] = corpus_index.user_type\n",
    "    rerank_algo.params[\"corpus_description\"] = corpus_index.corpus_description\n",
    "    rerank_algo.params[\"final_token_cap\"] = 5000 # can go large with the new models\n",
    "\n",
    "\n",
    "chat = CorpusChat(\n",
    "                    embedding_parameters = embedding_parameters, \n",
    "                    chat_parameters = chat_parameters, \n",
    "                    corpus_index = corpus_index,\n",
    "                    rerank_algo = RerankAlgos.LLM,   \n",
    "                    user_name_for_logging = 'test_user')\n",
    "\n",
    "chat.strick_rag = False\n",
    "\n"
   ]
  },
  {
   "cell_type": "code",
   "execution_count": 11,
   "metadata": {},
   "outputs": [
    {
     "name": "stderr",
     "output_type": "stream",
     "text": [
      "DEV:regulations_rag.corpus_chat:test_user: Reset Conversation History\n",
      "DEV:regulations_rag.corpus_chat:CorpusChat.user_provides_input() processing test_user's question: what is gdpr?\n",
      "DEV:regulations_rag.path_search:similarity_search called\n",
      "INFO:httpx:HTTP Request: POST https://api.openai.com/v1/embeddings \"HTTP/1.1 200 OK\"\n",
      "DEV:regulations_rag.corpus_index:--   No relevant definitions found\n",
      "DEV:regulations_rag.corpus_index:Selecting the top 15 items based on cosine-similarity score\n",
      "DEV:regulations_rag.corpus_index:0.0531:                 GDPR:                    2:        question: What is gdpr?\n",
      "DEV:regulations_rag.corpus_index:0.3627:                 GDPR:                    2:        question: What does GDPR apply to?\n",
      "DEV:regulations_rag.corpus_index:--   Relevant sections found\n",
      "DEV:regulations_rag.rerank:Re-ranking using LLM\n",
      "INFO:httpx:HTTP Request: POST https://api.openai.com/v1/chat/completions \"HTTP/1.1 200 OK\"\n",
      "DEV:regulations_rag.rerank:--   results requested by LLM filter\n",
      "DEV:regulations_rag.rerank:2\n",
      "DEV:regulations_rag.path_rag:resource_augmented_query called with System Prompt:\n",
      "You are answering questions about the General Data Protection Regulation (GDPR) for a Controller based only on the reference extracts provided. You have 3 options:\n",
      "1) Answer the question. Preface an answer with the tag 'ANSWER:'. All referenced extracts must be quoted at the end of the answer, not in the body, by number, in a comma separated list starting after the keyword 'Reference:'. Do not include the word Extract, only provide the number(s).\n",
      "2) Request additional documentation. If, in the body of the extract(s) provided, there is a reference to another section that is directly relevant and not already provided, respond with the word 'SECTION:' followed by 'Extract extract_number, Reference: section_reference' - for example SECTION: Extract 1, Reference: \\d{1,2})(?:\\((\\d{1,2})\\))?(?:\\(([a-z])\\).\n",
      "3) State 'NONE:' and nothing else in all other cases\n",
      "\n",
      "DEV:regulations_rag.path_rag:resource_augmented_query called with User Prompt:\n",
      "Question: what is gdpr?\n",
      "\n",
      "Extract 1:\n",
      "2 Material scope\n",
      "    1. This Regulation applies to the processing of personal data wholly or partly by automated means and to the processing other than by automated means of personal data which form part of a filing system or are intended to form part of a filing system.\n",
      "    2. This Regulation does not apply to the processing of personal data:\n",
      "        (a) in the course of an activity which falls outside the scope of Union law;\n",
      "        (b) by the Member States when carrying out activities which fall within the scope of Chapter 2 of Title V of the TEU;\n",
      "        (c) by a natural person in the course of a purely personal or household activity;\n",
      "        (d) by competent authorities for the purposes of the prevention, investigation, detection or prosecution of criminal offences or the execution of criminal penalties, including the safeguarding against and the prevention of threats to public security.\n",
      "    3. For the processing of personal data by the Union institutions, bodies, offices and agencies, Regulation (EC) No 45/2001 applies. Regulation (EC) No 45/2001 and other Union legal acts applicable to such processing of personal data shall be adapted to the principles and rules of this Regulation in accordance with Article 98.\n",
      "    4. This Regulation shall be without prejudice to the application of Directive 2000/31/EC, in particular of the liability rules of intermediary service providers in Articles 12 to 15 of that Directive.\n",
      "\n",
      "\n",
      "INFO:httpx:HTTP Request: POST https://api.openai.com/v1/chat/completions \"HTTP/1.1 200 OK\"\n"
     ]
    }
   ],
   "source": [
    "\n",
    "#user_content = \"Can I collect data from children?\"\n",
    "user_content = \"What is required from you to ensure data protection by design and by default?\"\n",
    "user_content = \"How can you show that you comply with data protection by design and by default requirements?\"\n",
    "user_content = \"What should processors and producers consider when helping you design or procure solutions that embed data protection by design and by default (DPbDD)?\"\n",
    "user_content = \"What is the process for reporting changes in binding corporate rules?\"\n",
    "user_content = \"Can special categories of personal data be used in automated decision-making?\"\n",
    "\n",
    "# user_content = \"what is the difference between a controller and a dpo?\"\n",
    "# user_content = \"Write me what criteria in terms of the GDPR regulation must be met by the controller of personal data that operates CCTV?\"\n",
    "# user_content = \"How does GDPR relate to ISO27001 and the AI ​​Act?\"\n",
    "#user_content = \"How does GDPR relate to ISO27001 and the AI Act?\"\n",
    "\n",
    "# user_content = \"Can an employer monitor employees?\"\n",
    "# user_content = \"hi\"\n",
    "user_content = \"Can employers monitor workers?\"\n",
    "#user_content = \"Is video surveillance regulated\"\n",
    "user_content = \"what is gdpr?\"\n",
    "\n",
    "chat.strict_rag = False\n",
    "chat.reset_conversation_history()\n",
    "chat.user_provides_input(user_content)"
   ]
  },
  {
   "cell_type": "code",
   "execution_count": 8,
   "metadata": {},
   "outputs": [
    {
     "data": {
      "text/markdown": [
       "The system was not able to answer the question using the provided documents"
      ],
      "text/plain": [
       "<IPython.core.display.Markdown object>"
      ]
     },
     "metadata": {},
     "output_type": "display_data"
    }
   ],
   "source": [
    "display(Markdown(chat.messages_intermediate[-1]['content']))"
   ]
  },
  {
   "cell_type": "code",
   "execution_count": 6,
   "metadata": {},
   "outputs": [
    {
     "name": "stderr",
     "output_type": "stream",
     "text": [
      "DEV:regulations_rag.corpus_chat:CorpusChat.user_provides_input() processing test_user's question: Can you summarise Section 3 from General Data Protection Regulation?\n",
      "DEV:regulations_rag.path_search:similarity_search called\n",
      "INFO:httpx:HTTP Request: POST https://api.openai.com/v1/embeddings \"HTTP/1.1 200 OK\"\n",
      "DEV:regulations_rag.corpus_index:--   No relevant definitions found\n",
      "DEV:regulations_rag.corpus_index:Selecting the top 15 items based on cosine-similarity score\n",
      "DEV:regulations_rag.corpus_index:0.3676:          CovidHealth:                    6:        question:  Are there any built-in restrictions on individuals' rights under GDPR (General Data Protection Regulation)?\n",
      "DEV:regulations_rag.corpus_index:--   Relevant sections found\n",
      "DEV:regulations_rag.rerank:Re-ranking using LLM\n",
      "INFO:httpx:HTTP Request: POST https://api.openai.com/v1/chat/completions \"HTTP/1.1 200 OK\"\n",
      "DEV:regulations_rag.rerank: should be an integer between 1 and 1 but it is not\n",
      "DEV:regulations_rag.rerank:--   results requested by LLM filter\n",
      "DEV:regulations_rag.corpus_index:--   Re-ranking concluded there were no relevant sections\n",
      "DEV:regulations_rag.corpus_chat:Executing default corpus_chat.execute_path_no_retrieval_with_conversation_history()\n",
      "DEV:regulations_rag.corpus_chat:Executing CorpusChat.execute_path_no_retrieval_no_conversation_history() for permissive question answering i.e. asking the LLM to answer the question without supporting documents\n",
      "DEV:regulations_rag.path_no_rag_data:CorpusChat.query_without_resources() called\n",
      "DEV:regulations_rag.path_no_rag_data:create_system_content_no_rag_data() called with default system content for RAG without supporting data\n"
     ]
    },
    {
     "name": "stdout",
     "output_type": "stream",
     "text": [
      "Warning: gpt-4o and gpt-4o-mini may update over time. Returning num tokens assuming gpt-4o-2024-08-06.\n"
     ]
    },
    {
     "name": "stderr",
     "output_type": "stream",
     "text": [
      "INFO:httpx:HTTP Request: POST https://api.openai.com/v1/chat/completions \"HTTP/1.1 200 OK\"\n"
     ]
    },
    {
     "data": {
      "text/markdown": [
       "NOTE: The following answer is provided without references and should therefore be treated with caution.\n",
       "\n",
       "Section 3 of the General Data Protection Regulation (GDPR) outlines the territorial scope of the regulation. It specifies that the GDPR applies to the processing of personal data in the context of activities of an establishment of a controller or processor in the EU, regardless of where the processing occurs. It also applies to non-EU entities that process personal data of individuals in the EU when offering goods or services to them or monitoring their behavior within the EU. Additionally, it applies to processing by a controller not established in the EU but in a place where EU Member State law applies by virtue of public international law."
      ],
      "text/plain": [
       "<IPython.core.display.Markdown object>"
      ]
     },
     "metadata": {},
     "output_type": "display_data"
    }
   ],
   "source": [
    "user_content = 'Can you summarise Section 3 from General Data Protection Regulation?'\n",
    "chat.strick_rag = False\n",
    "chat.user_provides_input(user_content)\n",
    "display(Markdown(chat.messages_intermediate[-1]['content']))"
   ]
  },
  {
   "cell_type": "code",
   "execution_count": 11,
   "metadata": {},
   "outputs": [
    {
     "data": {
      "text/plain": [
       "{'role': 'assistant',\n",
       " 'content': \"Special categories of personal data can be used in automated decision-making only under specific conditions. According to Article 22(4), such processing is allowed if there is an applicable Article 22(2) exemption, and point (a) or (g) of Article 9(2) applies. This means that the processing must either be based on the explicit consent of the data subject (Article 9(2)(a)) or be necessary for reasons of substantial public interest, on the basis of Union or Member State law (Article 9(2)(g)). In both cases, suitable measures must be in place to safeguard the data subject's rights and freedoms and legitimate interests. \\nReference: \\nSection 22 from General Data Protection Regulation: \\n# 22 Automated individual decision-making, including profiling\\n\\n&nbsp;&nbsp;&nbsp;&nbsp;1. The data subject shall have the right not to be subject to a decision based solely on automated processing, including profiling, which produces legal effects concerning him or her or similarly significantly affects him or her.\\n\\n&nbsp;&nbsp;&nbsp;&nbsp;2. Paragraph 1 shall not apply if the decision:\\n\\n&nbsp;&nbsp;&nbsp;&nbsp;&nbsp;&nbsp;&nbsp;&nbsp;(a) is necessary for entering into, or performance of, a contract between the data subject and a data controller;\\n\\n&nbsp;&nbsp;&nbsp;&nbsp;&nbsp;&nbsp;&nbsp;&nbsp;(b) is authorised by Union or Member State law to which the controller is subject and which also lays down suitable measures to safeguard the data subject's rights and freedoms and legitimate interests; or\\n\\n&nbsp;&nbsp;&nbsp;&nbsp;&nbsp;&nbsp;&nbsp;&nbsp;(c) is based on the data subject's explicit consent.\\n\\n&nbsp;&nbsp;&nbsp;&nbsp;3. In the cases referred to in points (a) and (c) of paragraph 2, the data controller shall implement suitable measures to safeguard the data subject's rights and freedoms and legitimate interests, at least the right to obtain human intervention on the part of the controller, to express his or her point of view and to contest the decision.\\n\\n&nbsp;&nbsp;&nbsp;&nbsp;4. Decisions referred to in paragraph 2 shall not be based on special categories of personal data referred to in Article 9(1), unless point (a) or (g) of Article 9(2) applies and suitable measures to safeguard the data subject's rights and freedoms and legitimate interests are in place.\\n\\n  \\nSection IV.D from Guidelines on Automated individual decision-making and Profiling for the purposes of Regulation 2016/679: \\n# IV Specific provisions on solely automated decision- making as defined in Article 22\\n\\n## IV.D Special categories of personal data - Article 22(4)\\n\\nAutomated decision-making (described in Article 22(1)) that involves special categories of personal data is only allowed under the following cumulative conditions (Article 22(4)):\\n\\n- there is an applicable Article 22(2) exemption; and\\n\\n- point (a) or (g) of Article 9(2) applies.\\n\\n9(2) (a) - the explicit consent of the data subject; or\\n\\n9(2) (g) - processing necessary for reasons of substantial public interest, on the basis of Union or Member State law which shall be proportionate to the aim pursued, respect the essence of the right to data protection and provide for suitable and specific measures to safeguard the fundamental rights and interests of the data subject.\\n\\nIn both of the above cases, the controller must put in place suitable measures to safeguard the data subject's rights and freedoms and legitimate interests.  \\nSection IV.C from Guidelines on Automated individual decision-making and Profiling for the purposes of Regulation 2016/679: \\n# IV Specific provisions on solely automated decision- making as defined in Article 22\\n\\n## IV.C Exceptions from the prohibition\\n\\nArticle 22(1) sets out a general prohibition on solely automated individual decision-making with legal or similarly significant effects, as described above.\\n\\nThis means that the controller should not undertake the processing described in Article 22(1) unless one of the following Article 22(2) exceptions applies - where the decision is:\\n\\n(a) necessary for the performance of or entering into a contract;\\n\\n(b) authorised by Union or Member State law to which the controller is subject and which also lays down suitable measures to safeguard the data subject's rights and freedoms and legitimate interests; or\\n\\n(c) based on the data subject's explicit consent.\\n\\nWhere the decision-making involves special categories of data defined in Article 9(1) the controller must also ensure that they can meet the requirements of Article 22(4).\\n\\n### IV.C.1 Performance of a contract\\n\\nControllers may wish to use solely automated decision-making processes for contractual purposes because they believe it is the most appropriate way to achieve the objective. Routine human involvement can sometimes be impractical or impossible due to the sheer quantity of data being processed.\\n\\nThe controller must be able to show that this type of processing is necessary, taking into account whether a less privacy-intrusive method could be adopted.[^35]  If other effective and less intrusive means to achieve the same goal exist, then it would not be 'necessary'.\\n\\nAutomated decision-making described in Article 22(1) may also be necessary for pre-contractual processing.\\n\\nExample\\n\\nA business advertises an open position. As working for the business in question is popular, the business receives tens of thousands of applications. Due to the exceptionally high volume of applications, the business may find that it is not practically possible to identify fitting candidates without first using fully automated means to sift out irrelevant applications. In this case, automated decision-making may be necessary in order to make a short list of possible candidates, with the intention of entering into a contract with a data subject.\\n\\nChapter III (Section B) provides more information on contracts as a lawful basis for processing.\\n\\n### IV.C.2 Authorised by Union or Member State law\\n\\nAutomated decision-making including profiling could potentially take place under 22(2)(b) if Union or Member State law authorised its use. The relevant law must also lay down suitable measures to safeguard the data subject's rights and freedoms and legitimate interests.\\n\\nRecital 71 says that this could include the use of automated decision-making defined in Article 22(1) for monitoring and preventing fraud and tax-evasion, or to ensure the security and reliability of a service provided by the controller.\\n\\n### IV.C.3 Explicit consent\\n\\nArticle 22 requires explicit consent. Processing that falls within the definition of Article 22(1) poses significant data protection risks and a high level of individual control over personal data is therefore deemed appropriate.\\n\\n'Explicit consent' is not defined in the GDPR. The WP29 guidelines on consent[^36] provide guidance on how this should be interpreted. Chapter III (Section B) provides more information on consent generally.\\n\\n  \\n[^35]: Buttarelli, Giovanni. Assessing the necessity of measures that limit the fundamental right to the protection of personal data. AToolkit European Data Protection Supervisor, 11 April 2017, https://edps.europa.eu/sites/edp/files/publication/17-04-11_necessity_toolkit_en_0.pdf Accessed 24 April 2017  \\n[^36]: Article 29 Data Protection Working Party. Guidelines on Consent under Regulation 2016/679 WP259. 28 November 2017, http://ec.europa.eu/newsroom/just/document.cfm?doc_id=48849. Accessed 18 December 2017  \\n\",\n",
       " 'assistant_response': AnswerWithRAGResponse(answer=\"Special categories of personal data can be used in automated decision-making only under specific conditions. According to Article 22(4), such processing is allowed if there is an applicable Article 22(2) exemption, and point (a) or (g) of Article 9(2) applies. This means that the processing must either be based on the explicit consent of the data subject (Article 9(2)(a)) or be necessary for reasons of substantial public interest, on the basis of Union or Member State law (Article 9(2)(g)). In both cases, suitable measures must be in place to safeguard the data subject's rights and freedoms and legitimate interests.\", references=     document_key                                      document_name  \\\n",
       " 0            GDPR                 General Data Protection Regulation   \n",
       " 1  DecisionMaking  Guidelines on Automated individual decision-ma...   \n",
       " 2  DecisionMaking  Guidelines on Automated individual decision-ma...   \n",
       " \n",
       "   section_reference  is_definition  \\\n",
       " 0                22          False   \n",
       " 1              IV.D          False   \n",
       " 2              IV.C          False   \n",
       " \n",
       "                                                 text  \n",
       " 0  # 22 Automated individual decision-making, inc...  \n",
       " 1  # IV Specific provisions on solely automated d...  \n",
       " 2  # IV Specific provisions on solely automated d...  )}"
      ]
     },
     "execution_count": 11,
     "metadata": {},
     "output_type": "execute_result"
    }
   ],
   "source": [
    "raw_response\n",
    "\n"
   ]
  },
  {
   "cell_type": "code",
   "execution_count": 6,
   "metadata": {},
   "outputs": [
    {
     "ename": "AttributeError",
     "evalue": "'CorpusChat' object has no attribute 'messages'",
     "output_type": "error",
     "traceback": [
      "\u001b[1;31m---------------------------------------------------------------------------\u001b[0m",
      "\u001b[1;31mAttributeError\u001b[0m                            Traceback (most recent call last)",
      "Input \u001b[1;32mIn [6]\u001b[0m, in \u001b[0;36m<cell line: 3>\u001b[1;34m()\u001b[0m\n\u001b[0;32m      1\u001b[0m \u001b[38;5;28;01mfrom\u001b[39;00m \u001b[38;5;21;01mIPython\u001b[39;00m\u001b[38;5;21;01m.\u001b[39;00m\u001b[38;5;21;01mdisplay\u001b[39;00m \u001b[38;5;28;01mimport\u001b[39;00m Markdown, display\n\u001b[1;32m----> 3\u001b[0m m \u001b[38;5;241m=\u001b[39m \u001b[43mchat\u001b[49m\u001b[38;5;241;43m.\u001b[39;49m\u001b[43mmessages\u001b[49m[\u001b[38;5;241m-\u001b[39m\u001b[38;5;241m1\u001b[39m][\u001b[38;5;124m\"\u001b[39m\u001b[38;5;124mcontent\u001b[39m\u001b[38;5;124m\"\u001b[39m]\u001b[38;5;241m.\u001b[39mstrip()\n\u001b[0;32m      4\u001b[0m \u001b[38;5;28mprint\u001b[39m(chat\u001b[38;5;241m.\u001b[39mmessages[\u001b[38;5;241m-\u001b[39m\u001b[38;5;241m1\u001b[39m][\u001b[38;5;124m\"\u001b[39m\u001b[38;5;124mcontent\u001b[39m\u001b[38;5;124m\"\u001b[39m])\n\u001b[0;32m      6\u001b[0m references \u001b[38;5;241m=\u001b[39m chat\u001b[38;5;241m.\u001b[39mreferences[m]\n",
      "\u001b[1;31mAttributeError\u001b[0m: 'CorpusChat' object has no attribute 'messages'"
     ]
    }
   ],
   "source": [
    "from IPython.display import Markdown, display\n",
    "\n",
    "m = chat.messages[-1][\"content\"].strip()\n",
    "print(chat.messages[-1][\"content\"])\n",
    "\n",
    "references = chat.references[m]\n",
    "for index, row in references.iterrows():\n",
    "    display(Markdown(row['text']))    \n"
   ]
  },
  {
   "cell_type": "code",
   "execution_count": 9,
   "metadata": {},
   "outputs": [
    {
     "data": {
      "text/plain": [
       "{'Processors and producers should consider several key factors when helping controllers design or procure solutions that embed data protection by design and by default (DPbDD):\\n\\n1. **Expert Guidance**: Use their expertise to build trust and guide controllers, including SMEs, in designing or procuring solutions that embed data protection into the processing.\\n2. **Facilitate Controllers\\' Needs**: Ensure that the design of products and services facilitates the controllers\\' needs.\\n3. **Effective Implementation**: Focus on the effective implementation of the principles and protection of the rights of data subjects.\\n4. **Certification**: Strive to demonstrate DPbDD in the lifecycle of their development of a processing solution and consider certification as it provides added value and competitive advantage.\\n5. **Specific Protection**: Provide specific protection for children under 18 and other vulnerable groups.\\n6. **Support Compliance**: Facilitate DPbDD implementation to support the controller\\'s ability to comply with Article 25 obligations.\\n7. **State of the Art**: Ensure that the criteria for the \"state of the art\" are met and notify controllers of any changes that may affect the effectiveness of the measures.\\n8. **Demonstrate Compliance**: Demonstrate how their hardware, software, services, or systems enable the controller to comply with the requirements to accountability in accordance with DPbDD.\\n9. **Harmonized Approach**: Encourage a harmonized approach to implement principles and rights effectively.\\n10. **Transparency**: Be transparent on how they assess and demonstrate effective DPbDD implementation.\\n11. **Privacy-Enhancing Technologies (PETs)**: Employ PETs that have reached state-of-the-art maturity if appropriate in a risk-based approach.\\n12. **Legacy Systems**: Ensure that existing legacy systems comply with DPbDD obligations or otherwise cannot be used to process personal data.\\n13. **SMEs Considerations**: Provide guarantees of DPbDD, such as certification and adherence to codes of conduct, and offer professional help and advice.  \\nReference:  \\nSection 6 from Guidelines 4/2019 on Article 25 Data Protection by Design and by Default Version 2.0':      document section_reference  \\\n",
       " 0  Protection                 6   \n",
       " \n",
       "                                                 text  \n",
       " 0  # 6 RECOMMENDATIONS\\n\\n94. Although not direct...  }"
      ]
     },
     "execution_count": 9,
     "metadata": {},
     "output_type": "execute_result"
    }
   ],
   "source": [
    "chat.references"
   ]
  },
  {
   "cell_type": "code",
   "execution_count": 4,
   "metadata": {},
   "outputs": [
    {
     "data": {
      "text/plain": [
       "<gdpr_rag.documents.forgotten.Forgotten at 0x1523d6a8fd0>"
      ]
     },
     "execution_count": 4,
     "metadata": {},
     "output_type": "execute_result"
    }
   ],
   "source": [
    "from IPython.display import Markdown, display\n",
    "\n",
    "# m = chat.corpus.get_text(\"Forgotten\", \"1\")\n",
    "# display(Markdown(m))    \n",
    "\n",
    "d = chat.corpus.get_document(\"Forgotten\")\n",
    "d\n",
    "#print(chat.corpus.get_text(\"CovidLocation\", \"1\"))\n",
    "#print(chat.corpus.get_text(\"Consent\", \"7.1.3\").strip())\n",
    "#print(chat.corpus.get_text(\"GDPR\", \"8\").strip())"
   ]
  },
  {
   "cell_type": "code",
   "execution_count": 6,
   "metadata": {},
   "outputs": [
    {
     "data": {
      "text/plain": [
       "\"3 PART 3 - APPLICABILITY OF ARTICLE 6(1)(B) IN SPECIFIC SITUATIONS \\n\\n3.4 Processing for personalisation of content[^34]\\n57. The EDPB acknowledges that personalisation of content may (but does not always) constitute an intrinsic and expected element of certain online services, and therefore may be regarded as necessary for the performance of the contract with the service user in some cases. Whether such processing can be regarded as an intrinsic aspect of an online service, will depend on the nature of the service provided, the expectations of the average data subject in light not only of the terms of service but also the way the service is promoted to users, and whether the service can be provided without personalisation. Where personalisation of content is not objectively necessary for the purpose of the underlying contract, for example where personalised content delivery is intended to increase user engagement with a service but is not an integral part of using the service, data controllers should consider an alternative lawful basis where applicable.  \\nExample 7   \\nAn online hotel search engine monitors past bookings of users in order to create a profile of their typical expenditure. This profile is subsequently used to recommend particular hotels to the user when returning search results. In this case, profiling of user's past behaviour and financial data would not be objectively necessary for the performance of a contract, i.e. the provision of hospitality services based on particular search criteria provided by the user. Therefore, Article 6(1)(b) would not be applicable to this processing activity.   \\nExample 8   \\nAn online marketplace allows potential buyers to browse for and purchase products. The marketplace wishes to display personalised product suggestions based on which listings the potential buyers have previously viewed on the platform in order to increase interactivity. This personalisation it is not objectively necessary to provide the marketplace service. Thus, such processing of personal data cannot rely on Article 6(1)(b) as a legal basis. \\n\\n[^34] Online services may also need to take into account Directive (EU) 2019/770 of the European Parliament and of the Council of 20 May 2019 on certain aspects concerning contracts for the supply of digital content and digital services (OJ L 136, 22.05.2019, p. 1), which will apply as from 1 January 2022.\""
      ]
     },
     "execution_count": 6,
     "metadata": {},
     "output_type": "execute_result"
    }
   ],
   "source": [
    "d.get_text(\"3.4\")"
   ]
  },
  {
   "cell_type": "code",
   "execution_count": 33,
   "metadata": {},
   "outputs": [
    {
     "data": {
      "text/plain": [
       "'I Restrictions on data subject rights \\n68. Article 23 provides for Member States (or the EU) to legislate for further restrictions on the scope of the data subject rights in relation to transparency and the substantive data subject rights[^55] where such measures respect the essence of the fundamental rights and freedoms and are necessary and proportionate to safeguard one or more of the ten objectives set out in Article 23.1(a) to (j). Where such national measures lessen either the specific data subject rights or the general transparency obligations, which would otherwise apply to data controllers under the GDPR, the data controller should be able to demonstrate how the national provision applies to them. As set out in Article 23.2(h), the legislative measure must contain a provision as to the right of the data subject to be informed about a restriction on their rights, unless so informing them may be prejudicial to the purpose of the restriction. Consistent with this, and in line with principle of fairness, the data controller should also inform data subjects that they are relying on (or will rely on, in the event of a particular data subject right being exercised) such a national legislative restriction to the exercise of data subject rights, or to the transparency obligation, unless doing so would be prejudicial to the purpose of the legislative restriction. As such, transparency requires data controllers to provide adequate upfront information to data subjects about their rights and any particular caveats to those rights which the controller may seek to rely on, so that the data subject is not taken by surprise at a purported restriction of a particular right when they later attempt to exercise it against the controller. In relation to pseudonymisation and data minimisation, and insofar as data controllers may purport to rely on Article 11 of the GDPR, WP29 has previously confirmed in Opinion 3/ 2017[^56] that Article 11 of the GDPR should be interpreted as a way of enforcing genuine data minimisation without hindering the exercise of data subject rights, and that the exercise of data subject rights must be made possible with the help of additional information provided by the data subject.   \\n69. Additionally, Article 85 requires Member States, by law, to reconcile data protection with the right to freedom of expression and information. This requires, amongst other things, that Member States provide for appropriate exemptions or derogations from certain provisions of the GDPR (including from the transparency requirements under Articles 12 - 14) for processing carried out for journalistic, academic, artistic or literary expression purposes, if they are necessary to reconcile the two rights. \\n\\n[^55] As set out in Articles 12 to 22 and 34, and in Article 5 insofar as its provisions correspond to the rights and obligations provided for in Articles 12 to 22.\\n[^56] Opinion 03/2017 on Processing personal data in the context of Cooperative Intelligent Transport Systems (C-ITS) - see paragraph 4.2'"
      ]
     },
     "execution_count": 33,
     "metadata": {},
     "output_type": "execute_result"
    }
   ],
   "source": [
    "from gdpr_rag.documents.transparency import Transparency\n",
    "t = Transparency()\n",
    "t.get_text(\"I\")"
   ]
  },
  {
   "cell_type": "code",
   "execution_count": 5,
   "metadata": {},
   "outputs": [
    {
     "name": "stdout",
     "output_type": "stream",
     "text": [
      "You are answering questions about the General Data Protection Regulation (GDPR) for a Controller based only on the reference extracts provided. You have 3 options:\n",
      "1) Answer the question. Preface an answer with the tag 'ANSWER:'. All referenced extracts must be quoted at the end of the answer, not in the body, by number, in a comma separated list starting after the keyword 'Reference: '. Do not include the word Extract, only provide the number(s).\n",
      "2) Request additional documentation. If, in the body of the extract(s) provided, there is a reference to another section that is directly relevant and not already provided, respond with the word 'SECTION:' followed by 'Extract extract_number, Reference section_reference' - for example SECTION: Extract 1, Reference Article 98.\n",
      "3) State 'NONE:' and nothing else in all other cases\n",
      "\n"
     ]
    }
   ],
   "source": [
    "print(chat._create_system_message(3))"
   ]
  },
  {
   "cell_type": "code",
   "execution_count": null,
   "metadata": {},
   "outputs": [],
   "source": [
    "# BCR\n",
    "user_content = \"What are binding corporate rules?\"\n",
    "user_content = \"How do binding corporate rules become approved?\"\n",
    "user_content = \"What requirements must binding corporate rules meet?\"\n",
    "user_content = \"What details must be spelled out in binding corporate rules?\"\n",
    "user_content = \"What rights do individuals have under binding corporate rules?\"\n",
    "user_content = \"Who is liable if binding corporate rules are breached?\"\n",
    "user_content = \"How are individuals informed about their rights under binding corporate rules?\"\n",
    "user_content = \"What is the role of a data protection officer within a group adopting binding corporate rules?\"\n",
    "user_content = \"What mechanisms ensure compliance with binding corporate rules?\"\n",
    "user_content = \"How is the effectiveness of binding corporate rules verified?\"\n",
    "user_content = \"What happens if local laws conflict with the standards of binding corporate rules?\"\n",
    "user_content = \"What kind of training is required for employees with access to personal data under binding corporate rules?\"\n",
    "user_content = \"What is the process for reporting changes in binding corporate rules?\"\n",
    "\n",
    "# Decision Making\n",
    "user_content = \"What rights do individuals have regarding automated decision-making and profiling?\"\n",
    "user_content = \"What does it mean for a decision to have a legal effect on a person?\"\n",
    "user_content = \"Under what conditions can an individual be subject to automated decision-making?\"\n",
    "user_content = \"What safeguards must be in place when automated decisions are necessary for contracts?\"\n",
    "user_content = \"Can special categories of personal data be used in automated decision-making?\"\n",
    "\n",
    "#DPIA\n",
    "user_content = \"When must you conduct a data protection impact assessment?\"\n",
    "user_content = \"Who should you consult when carrying out a data protection impact assessment?\"\n",
    "user_content = \" What triggers the requirement for a data protection impact assessment?\"\n",
    "user_content = \"How do supervisory authorities contribute to the DPIA process?\"\n",
    "user_content = \"How do supervisory authorities contribute to the data protection impact assessment process?\"\n",
    "user_content =\"What content is required in a data protection impact assessment?\"\n",
    "user_content =\"What content is required in a DPIA?\"\n",
    "user_content = \"Should individuals' views be considered in the assessment process?\"\n",
    "user_content = \"How often should you review the data protection impact assessment?\"\n",
    "\n",
    "#DPO\n",
    "user_content = \"When must you designate a data protection officer?\"\n",
    "user_content = \"Can multiple organisations share a DPO?\"\n",
    "user_content = \"What criteria must a data protection officer meet?\"\n",
    "user_content = \"Can a data protection officer be a contractor?\"\n",
    "user_content = \"How should the contact details of the DPO be shared?\"\n",
    "user_content = \"What types of processing activities require you to appoint a data protection officer?\"\n",
    "user_content = \"How does the scale of data processing affect the requirement to appoint a data protection officer?\"\n",
    "user_content = \"What is large scale?\"\n",
    "user_content = \"What is the difference between a data protection officer and a controller?\"\n",
    "\n",
    "# intl_transfer\n",
    "user_content = \"What are the conditions for transferring personal data to another country or international organisation?\"\n",
    "user_content = \"When is an individual's consent required for data transfer?\"\n",
    "user_content = \"How does a contract affect the transfer of personal data?\"\n",
    "user_content = \"What constitutes an important reason of public interest for transferring personal data?\"\n",
    "user_content = \"When can data be transferred for the establishment, exercise, or defence of legal claims?\"\n",
    "user_content = \"Under what circumstances can personal data be transferred to protect someone's vital interests?\"\n",
    "user_content = \"What are the rules for transferring data from public registers?\"\n",
    "user_content = \"What are the requirements for a non-repetitive transfer based on compelling legitimate interests?\"\n",
    "user_content = \"When are public authorities exempt from certain transfer conditions?\"\n",
    "user_content = \"How does the law recognise public interest for data transfers?\"\n",
    "user_content = \"What documentation is required for assessing data transfers?\"\n",
    "\n",
    "# lead_sa\n",
    "\n",
    "# data breach\n",
    "user_content = \"What action should you take if a personal data breach occurs?\"\n",
    "user_content = \"How soon must you notify the appropriate authority when a data breach is discovered?\"\n",
    "user_content = \"Is there any situation where you might not need to notify a supervisory authority about a data breach?\"\n",
    "user_content = \"What information must you include when reporting a data breach?\"\n",
    "user_content = \"What should be done if all details about a breach can't be reported immediately?\"\n",
    "user_content = \"Why is it important to document all personal data breaches and the response to them?\"\n",
    "\n",
    "user_content = \"When should you inform individuals about a personal data breach?\"\n",
    "user_content = \"What information should be included when notifying an individual about a personal data breach?\"\n",
    "user_content = \"Under what conditions can you avoid informing individuals about a personal data breach?\"\n",
    "user_content = \"What happens if you don't voluntarily notify individuals about a personal data breach?\"\n",
    "\n",
    "\n",
    "# portability\n",
    "user_content = \"What is the right to data portability?\"\n",
    "user_content = \"What does data portability mean for the transfer of data between controllers?\"\n",
    "user_content = \"Is the right to data portability unlimited?\"\n",
    "\n",
    "# transparency\n",
    "user_content = \"What information must be provided to individuals when collecting their personal data?\"\n",
    "user_content = \"What details about the data controller need to be disclosed during data collection?\"\n",
    "user_content = \"What are the required disclosures about the use and processing of personal data?\"\n",
    "user_content = \"When is it necessary to inform individuals about the transfer of their personal data to third countries or international organisations?\"\n",
    "user_content = \"What rights must individuals be informed about concerning their personal data?\"\n",
    "user_content = \"How does the requirement for providing information change if the purpose of data processing changes?\"\n",
    "user_content = \"What information must be provided to individuals when their data is collected indirectly?\"\n",
    "user_content = \"Within what timeframe must information be provided to the data subject when their data is collected indirectly?\"\n",
    "# user_content = \"What actions must be taken if the purpose of data processing changes after initial collection?\"\n",
    "# user_content = \"Are there any circumstances under which the obligation to provide information to data subjects does not apply?\"\n",
    "# user_content = \"How are data subjects informed about their rights concerning their personal data?\"\n",
    "\n",
    "\n",
    "# Codes\n",
    "user_content = \"Who is encouraged to create codes of conduct for GDPR compliance?\"\n",
    "user_content = \"What purposes do codes of conduct serve?\"\n",
    "user_content = \"Can codes of conduct address the protection of children's data?\"\n",
    "user_content = \"How can codes of conduct assist with personal data breaches?\"\n",
    "user_content = \"Can organisations outside the EU adhere to codes of conduct?\"\n",
    "user_content = \"What requirements must a code of conduct meet for approval?\"\n",
    "# user_content = \"Who approves codes of conduct for local purposes?\"\n",
    "# user_content = \"How are codes of conduct evaluated for processing activities across multiple Member States?\"\n",
    "# user_content = \"What role does the Commission play in the validity of codes of conduct?\"\n",
    "# user_content = \"How is the public informed about approved codes of conduct?\"\n",
    "# user_content = \"Where can one find a register of approved codes of conduct?\"\n",
    "# user_content = \"Who can monitor compliance with a code of conduct?\"\n",
    "# user_content = \"What qualifications must a body meet to monitor compliance with a code of conduct?\"\n",
    "user_content = \"How does a body become accredited to monitor a code of conduct?\"\n",
    "# user_content = \"What responsibilities does an accredited body have when a code of conduct is breached?\"\n",
    "# user_content = \"What actions can an accredited monitoring body take if a code of conduct is infringed?\"\n",
    "# user_content = \"Under what circumstances can an accreditation be revoked?\"\n",
    "\n",
    "#user_content = \"Can you give me a worfklow for the approval of a code of conduct?\"\n",
    "\n",
    "# territorial scope\n",
    "user_content = \"When does GDPR apply to non-EU entities?\"\n",
    "user_content = \"I am not based in the EU. Does GDPR apply to me?\"\n",
    "\n",
    "# video\n",
    "user_content = \"Is video surveillance regulated under gdpr?\"\n",
    "\n",
    "# Covid Health\n",
    "user_content = \"What specific purposes allow healthcare data to be processed without explicit consent?\"\n",
    "user_content = \"What are the permissible legal bases for processing health data for scientific research?\"\n",
    "\n",
    "# covid location\n",
    "user_content = \"What types of data should not be collected by contact tracing applications?\"\n",
    "\n",
    "# Concent\n",
    "user_content = \"Can children consent to data collection?\"\n",
    "\n",
    "# Forgotten\n",
    "user_content = \"What is the right to erasure and when does it apply?\"\n"
   ]
  },
  {
   "cell_type": "code",
   "execution_count": 1,
   "metadata": {},
   "outputs": [],
   "source": [
    "from gdpr_rag.documents.dpo import DPO\n",
    "from gdpr_rag.documents.consent import Consent\n",
    "dpo = DPO()\n",
    "consent = Consent()"
   ]
  },
  {
   "cell_type": "code",
   "execution_count": 23,
   "metadata": {},
   "outputs": [
    {
     "data": {
      "text/html": [
       "<div>\n",
       "<style scoped>\n",
       "    .dataframe tbody tr th:only-of-type {\n",
       "        vertical-align: middle;\n",
       "    }\n",
       "\n",
       "    .dataframe tbody tr th {\n",
       "        vertical-align: top;\n",
       "    }\n",
       "\n",
       "    .dataframe thead th {\n",
       "        text-align: right;\n",
       "    }\n",
       "</style>\n",
       "<table border=\"1\" class=\"dataframe\">\n",
       "  <thead>\n",
       "    <tr style=\"text-align: right;\">\n",
       "      <th></th>\n",
       "      <th>section_reference</th>\n",
       "      <th>text</th>\n",
       "      <th>source</th>\n",
       "      <th>embedding</th>\n",
       "      <th>document</th>\n",
       "    </tr>\n",
       "  </thead>\n",
       "  <tbody>\n",
       "    <tr>\n",
       "      <th>0</th>\n",
       "      <td>2.1</td>\n",
       "      <td>gAAAAABmUH9YDpyn75A6P5UBv2tn3enDzLAPpQYXhXxsuk...</td>\n",
       "      <td>summary</td>\n",
       "      <td>[-0.05341560021042824, 0.0171151515096426, -0....</td>\n",
       "      <td>Video</td>\n",
       "    </tr>\n",
       "    <tr>\n",
       "      <th>1</th>\n",
       "      <td>2.2</td>\n",
       "      <td>gAAAAABmUH9YEm2qVPRmHM-J5GQxVp8K7JCYlxzpbBAt6h...</td>\n",
       "      <td>summary</td>\n",
       "      <td>[-0.05042532831430435, -0.034690551459789276, ...</td>\n",
       "      <td>Video</td>\n",
       "    </tr>\n",
       "    <tr>\n",
       "      <th>2</th>\n",
       "      <td>2.3</td>\n",
       "      <td>gAAAAABmUH9Yt_9fPYROaTi2ZIdE-IGpQpFtdHQ1tI6IpM...</td>\n",
       "      <td>summary</td>\n",
       "      <td>[-0.05431677773594856, 0.031087687239050865, -...</td>\n",
       "      <td>Video</td>\n",
       "    </tr>\n",
       "    <tr>\n",
       "      <th>3</th>\n",
       "      <td>3</td>\n",
       "      <td>gAAAAABmUH9YI-aMX31OE0KoFJtf5__giOrAD1XTEiVt1q...</td>\n",
       "      <td>summary</td>\n",
       "      <td>[0.011479574255645275, -0.04576420783996582, -...</td>\n",
       "      <td>Video</td>\n",
       "    </tr>\n",
       "    <tr>\n",
       "      <th>4</th>\n",
       "      <td>3.1.1</td>\n",
       "      <td>gAAAAABmUH9YMHnezbumcNuKAdDdVAelDbD5cu0VuRpGAz...</td>\n",
       "      <td>summary</td>\n",
       "      <td>[0.024606412276625633, -0.012803575955331326, ...</td>\n",
       "      <td>Video</td>\n",
       "    </tr>\n",
       "    <tr>\n",
       "      <th>...</th>\n",
       "      <td>...</td>\n",
       "      <td>...</td>\n",
       "      <td>...</td>\n",
       "      <td>...</td>\n",
       "      <td>...</td>\n",
       "    </tr>\n",
       "    <tr>\n",
       "      <th>123</th>\n",
       "      <td>9.3.2</td>\n",
       "      <td>gAAAAABmUH9YxhYBbjnCjhfyzJSnOqOND6Egd3ErKrbHPX...</td>\n",
       "      <td>question</td>\n",
       "      <td>[-0.004779711831361055, 0.0069802324287593365,...</td>\n",
       "      <td>Video</td>\n",
       "    </tr>\n",
       "    <tr>\n",
       "      <th>124</th>\n",
       "      <td>9.3.2</td>\n",
       "      <td>gAAAAABmUH9YaTg645WLz3LZdFQ_zBII1t0IXvpW96hTbw...</td>\n",
       "      <td>question</td>\n",
       "      <td>[-0.045810651034116745, 0.048128221184015274, ...</td>\n",
       "      <td>Video</td>\n",
       "    </tr>\n",
       "    <tr>\n",
       "      <th>125</th>\n",
       "      <td>9.3.2</td>\n",
       "      <td>gAAAAABmUH9YSxCyP9WC7aFGTLMJSCrcL84pCwxTkSPlhz...</td>\n",
       "      <td>question</td>\n",
       "      <td>[-0.02516673319041729, -0.024208365008234978, ...</td>\n",
       "      <td>Video</td>\n",
       "    </tr>\n",
       "    <tr>\n",
       "      <th>126</th>\n",
       "      <td>10</td>\n",
       "      <td>gAAAAABmUH9YJjSfd9EKsOg7w3xxvlvNGZ5J0T1SWUEaug...</td>\n",
       "      <td>question</td>\n",
       "      <td>[-0.039777971804142, -0.014415937475860119, -0...</td>\n",
       "      <td>Video</td>\n",
       "    </tr>\n",
       "    <tr>\n",
       "      <th>127</th>\n",
       "      <td>10</td>\n",
       "      <td>gAAAAABmUH9Yj5nIKKwnE4CiWi1F78tHeglKQtWPbQiK_w...</td>\n",
       "      <td>question</td>\n",
       "      <td>[-0.025207817554473877, -0.007000169716775417,...</td>\n",
       "      <td>Video</td>\n",
       "    </tr>\n",
       "  </tbody>\n",
       "</table>\n",
       "<p>128 rows × 5 columns</p>\n",
       "</div>"
      ],
      "text/plain": [
       "    section_reference                                               text  \\\n",
       "0                 2.1  gAAAAABmUH9YDpyn75A6P5UBv2tn3enDzLAPpQYXhXxsuk...   \n",
       "1                 2.2  gAAAAABmUH9YEm2qVPRmHM-J5GQxVp8K7JCYlxzpbBAt6h...   \n",
       "2                 2.3  gAAAAABmUH9Yt_9fPYROaTi2ZIdE-IGpQpFtdHQ1tI6IpM...   \n",
       "3                   3  gAAAAABmUH9YI-aMX31OE0KoFJtf5__giOrAD1XTEiVt1q...   \n",
       "4               3.1.1  gAAAAABmUH9YMHnezbumcNuKAdDdVAelDbD5cu0VuRpGAz...   \n",
       "..                ...                                                ...   \n",
       "123             9.3.2  gAAAAABmUH9YxhYBbjnCjhfyzJSnOqOND6Egd3ErKrbHPX...   \n",
       "124             9.3.2  gAAAAABmUH9YaTg645WLz3LZdFQ_zBII1t0IXvpW96hTbw...   \n",
       "125             9.3.2  gAAAAABmUH9YSxCyP9WC7aFGTLMJSCrcL84pCwxTkSPlhz...   \n",
       "126                10  gAAAAABmUH9YJjSfd9EKsOg7w3xxvlvNGZ5J0T1SWUEaug...   \n",
       "127                10  gAAAAABmUH9Yj5nIKKwnE4CiWi1F78tHeglKQtWPbQiK_w...   \n",
       "\n",
       "       source                                          embedding document  \n",
       "0     summary  [-0.05341560021042824, 0.0171151515096426, -0....    Video  \n",
       "1     summary  [-0.05042532831430435, -0.034690551459789276, ...    Video  \n",
       "2     summary  [-0.05431677773594856, 0.031087687239050865, -...    Video  \n",
       "3     summary  [0.011479574255645275, -0.04576420783996582, -...    Video  \n",
       "4     summary  [0.024606412276625633, -0.012803575955331326, ...    Video  \n",
       "..        ...                                                ...      ...  \n",
       "123  question  [-0.004779711831361055, 0.0069802324287593365,...    Video  \n",
       "124  question  [-0.045810651034116745, 0.048128221184015274, ...    Video  \n",
       "125  question  [-0.02516673319041729, -0.024208365008234978, ...    Video  \n",
       "126  question  [-0.039777971804142, -0.014415937475860119, -0...    Video  \n",
       "127  question  [-0.025207817554473877, -0.007000169716775417,...    Video  \n",
       "\n",
       "[128 rows x 5 columns]"
      ]
     },
     "execution_count": 23,
     "metadata": {},
     "output_type": "execute_result"
    }
   ],
   "source": [
    "file = \"./inputs/index/video.parquet\"\n",
    "df = pd.read_parquet(file)\n",
    "df"
   ]
  },
  {
   "cell_type": "code",
   "execution_count": null,
   "metadata": {},
   "outputs": [],
   "source": []
  }
 ],
 "metadata": {
  "kernelspec": {
   "display_name": "env",
   "language": "python",
   "name": "python3"
  },
  "language_info": {
   "codemirror_mode": {
    "name": "ipython",
    "version": 3
   },
   "file_extension": ".py",
   "mimetype": "text/x-python",
   "name": "python",
   "nbconvert_exporter": "python",
   "pygments_lexer": "ipython3",
   "version": "3.10.4"
  },
  "orig_nbformat": 4
 },
 "nbformat": 4,
 "nbformat_minor": 2
}
