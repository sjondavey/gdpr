{
 "cells": [
  {
   "cell_type": "code",
   "execution_count": 1,
   "metadata": {},
   "outputs": [],
   "source": [
    "import pandas as pd\n",
    "from regulations_rag.standard_regulation_index import load_parquet_data, load_index_data_from_files, save_parquet_data"
   ]
  },
  {
   "cell_type": "code",
   "execution_count": 12,
   "metadata": {},
   "outputs": [],
   "source": [
    "path_to_definitions_as_parquet_file = \"./inputs/definitions_gdpr.parquet\"\n",
    "path_to_additional_definitions_as_parquet_file = \"\"\n",
    "path_to_index_as_parquet_file = \"./inputs/index_gdpr.parquet\"\n",
    "path_to_additional_index_as_parquet_file = \"\"\n",
    "path_to_workflow_as_parquet = \"\"\n",
    "\n",
    "#decryption_key = \"\"\n",
    "decryption_key = os.getenv('encryption_key_gdpr')\n",
    "\n",
    "df_definitions, df_index, df_workflow = load_index_data_from_files(path_to_definitions_as_parquet_file, \n",
    "                                                                    path_to_additional_definitions_as_parquet_file, \n",
    "                                                                    path_to_index_as_parquet_file, \n",
    "                                                                    path_to_additional_index_as_parquet_file, \n",
    "                                                                    path_to_workflow_as_parquet, \n",
    "                                                                    decryption_key=decryption_key)\n",
    "\n",
    "path_to_recitals_as_parquet_file = \"./inputs/recitals_gdpr.parquet\"\n",
    "df_recitals = load_parquet_data(path_to_recitals_as_parquet_file)"
   ]
  },
  {
   "cell_type": "code",
   "execution_count": 13,
   "metadata": {},
   "outputs": [
    {
     "name": "stdout",
     "output_type": "stream",
     "text": [
      "df_definitions contains all the mandatory columns\n",
      "df_index contains all the mandatory columns\n"
     ]
    }
   ],
   "source": [
    "# check the column names\n",
    "from regulations_rag.standard_regulation_index import \\\n",
    "     required_columns_definition, \\\n",
    "     required_columns_index, \\\n",
    "     required_columns_workflow \n",
    "\n",
    "def check_columns(df, expected_column_names, description):\n",
    "    contains_all_columns = True\n",
    "    columns = df.columns.to_list()\n",
    "    for name in expected_column_names:\n",
    "        if name not in columns:\n",
    "            print(f\"{name} is a required column name for {description} but it does not appear in the regulation DataFrame\")\n",
    "            contains_all_columns = False\n",
    "    if contains_all_columns:\n",
    "        print(f\"{description} contains all the mandatory columns\")    \n",
    "\n",
    "check_columns(df_definitions, required_columns_definition, \"df_definitions\")\n",
    "check_columns(df_index, required_columns_index, \"df_index\")\n",
    "#check_columns(df_workflow, required_columns_workflow, \"df_workflow\")\n",
    "#check_columns(df_recitals, required_columns_recitals, \"df_recitals\")\n"
   ]
  },
  {
   "cell_type": "markdown",
   "metadata": {},
   "source": [
    "Encrypt index"
   ]
  },
  {
   "cell_type": "code",
   "execution_count": 19,
   "metadata": {},
   "outputs": [],
   "source": [
    "import os\n",
    "gdrp_key = os.getenv(\"encryption_key_gdpr\")\n",
    "#save_parquet_data(df_index, path_to_index_as_parquet_file, gdrp_key)\n",
    "#save_parquet_data(df_index, \"./regs/original_index_unencrypted.parquet\")\n",
    "df_index.to_parquet(\"./regs/original_index_unencrypted.parquet\")"
   ]
  },
  {
   "cell_type": "code",
   "execution_count": null,
   "metadata": {},
   "outputs": [],
   "source": [
    "model = \"text-embedding-3-large\"\n",
    "dimensions = 1024\n",
    "\n",
    "increment = 10\n",
    "for i in range(0, len(df_index), increment):\n",
    "    chunk = df_index.iloc[i:i+increment].copy()\n",
    "    chunk[\"embedding\"] = chunk[\"text\"].apply(lambda x: get_ada_embedding(openai_client, x, model, dimensions))\n",
    "    df_index.loc[chunk.index, \"embedding\"] = chunk[\"embedding\"]\n",
    "    print(f\"Completed {i+increment} lines\")\n",
    "\n"
   ]
  },
  {
   "cell_type": "code",
   "execution_count": null,
   "metadata": {},
   "outputs": [],
   "source": [
    "df_index.to_parquet('./inputs/index_gdpr.parquet', engine = 'pyarrow')"
   ]
  },
  {
   "cell_type": "code",
   "execution_count": null,
   "metadata": {},
   "outputs": [],
   "source": [
    "df_recitals[\"embedding\"] = df_recitals[\"text\"].apply(lambda x: get_ada_embedding(openai_client, x, model, dimensions))\n",
    "df_recitals.to_parquet('./inputs/recitals_gdpr.parquet', engine = 'pyarrow')"
   ]
  },
  {
   "cell_type": "code",
   "execution_count": null,
   "metadata": {},
   "outputs": [],
   "source": [
    "df_definitions[\"embedding\"] = df_definitions[\"text\"].apply(lambda x: get_ada_embedding(openai_client, x, model, dimensions))\n",
    "df_definitions.to_parquet('./inputs/definitions_gdpr.parquet', engine = 'pyarrow')\n"
   ]
  }
 ],
 "metadata": {
  "kernelspec": {
   "display_name": "Python 3.10.4 ('env': venv)",
   "language": "python",
   "name": "python3"
  },
  "language_info": {
   "codemirror_mode": {
    "name": "ipython",
    "version": 3
   },
   "file_extension": ".py",
   "mimetype": "text/x-python",
   "name": "python",
   "nbconvert_exporter": "python",
   "pygments_lexer": "ipython3",
   "version": "3.10.4"
  },
  "orig_nbformat": 4,
  "vscode": {
   "interpreter": {
    "hash": "20591bc9273590117cdd0f52559c248ef39f0181da66e3521068e03aa47654cd"
   }
  }
 },
 "nbformat": 4,
 "nbformat_minor": 2
}
