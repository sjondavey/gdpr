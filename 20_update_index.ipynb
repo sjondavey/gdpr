{
 "cells": [
  {
   "cell_type": "code",
   "execution_count": 1,
   "metadata": {},
   "outputs": [],
   "source": [
    "import logging\n",
    "log_level = logging.INFO\n",
    "# log_level = logging.DEBUG\n",
    "log_level = 15\n",
    "logging.basicConfig(level=log_level)\n",
    "logger = logging.getLogger(__name__)\n",
    "logger.setLevel(log_level)\n"
   ]
  },
  {
   "cell_type": "code",
   "execution_count": 18,
   "metadata": {},
   "outputs": [],
   "source": [
    "import os\n",
    "import importlib\n",
    "\n",
    "from openai import OpenAI\n",
    "\n",
    "from regulations_rag.file_tools import load_parquet_data, save_parquet_data\n",
    "\n",
    "\n",
    "import data_tools.index_tools\n",
    "importlib.reload(data_tools.index_tools)\n",
    "from data_tools.index_tools import update_text_in_index, add_to_index, remove_from_index\n",
    "\n",
    "openai_client = OpenAI(api_key=os.environ.get(\"OPENAI_API_KEY\"),)\n",
    "key = os.getenv('encryption_key_gdpr')\n",
    "\n",
    "#data  = CEMADData(key)"
   ]
  },
  {
   "cell_type": "code",
   "execution_count": 3,
   "metadata": {},
   "outputs": [],
   "source": [
    "file = \"./inputs/index/consent.parquet\"\n",
    "\n",
    "doc_index = load_parquet_data(file, key)\n",
    "\n",
    "embedding_model =  \"text-embedding-3-large\"\n",
    "embedding_dimensions = 1024\n"
   ]
  },
  {
   "cell_type": "code",
   "execution_count": 14,
   "metadata": {},
   "outputs": [
    {
     "name": "stdout",
     "output_type": "stream",
     "text": [
      "--Freely given consent requires a genuine choice without pressure, intimidation, or significant negative consequences. Public authorities usually cannot rely on consent due to power imbalances, but there are exceptions, such as voluntary subscription to updates on road works.\n",
      "\n",
      "In employment, the employer-employee relationship creates a dependency that generally undermines the ability to give free consent. Employees are unlikely to freely consent to actions like workplace monitoring due to fear of repercussions. Employers can rely on consent only in exceptional cases where no adverse consequences arise from refusal.\n",
      "\n",
      "Imbalances of power are not limited to public authorities or employers and can also appear in other contexts. Valid consent requires the absence of compulsion, pressure, or an inability to exercise free will.\n",
      "--When is there an imbalance of power in data processing?\n",
      "--Can public authorities rely on consent for processing data?\n",
      "--Can employers use consent as a basis for data processing?\n",
      "--What constitutes a real choice for consent?\n",
      "--How can employees give free consent to data processing?\n",
      "--Can I covertly monitor my employees without breaching GDPR?\n"
     ]
    }
   ],
   "source": [
    "tmp = doc_index[doc_index[\"section_reference\"] == \"3.1.1\"]\n",
    "for index, row in tmp.iterrows():\n",
    "    print(\"--\" + row['text'])"
   ]
  },
  {
   "cell_type": "code",
   "execution_count": 12,
   "metadata": {},
   "outputs": [
    {
     "data": {
      "text/html": [
       "<div>\n",
       "<style scoped>\n",
       "    .dataframe tbody tr th:only-of-type {\n",
       "        vertical-align: middle;\n",
       "    }\n",
       "\n",
       "    .dataframe tbody tr th {\n",
       "        vertical-align: top;\n",
       "    }\n",
       "\n",
       "    .dataframe thead th {\n",
       "        text-align: right;\n",
       "    }\n",
       "</style>\n",
       "<table border=\"1\" class=\"dataframe\">\n",
       "  <thead>\n",
       "    <tr style=\"text-align: right;\">\n",
       "      <th></th>\n",
       "      <th>section_reference</th>\n",
       "      <th>text</th>\n",
       "      <th>source</th>\n",
       "      <th>embedding</th>\n",
       "      <th>document</th>\n",
       "    </tr>\n",
       "  </thead>\n",
       "  <tbody>\n",
       "    <tr>\n",
       "      <th>3</th>\n",
       "      <td>3.1.1</td>\n",
       "      <td>Freely given consent requires a genuine choice...</td>\n",
       "      <td>summary</td>\n",
       "      <td>[-0.03908756002783775, -0.04293598607182503, -...</td>\n",
       "      <td>Consent</td>\n",
       "    </tr>\n",
       "    <tr>\n",
       "      <th>30</th>\n",
       "      <td>3.1.1</td>\n",
       "      <td>When is there an imbalance of power in data pr...</td>\n",
       "      <td>question</td>\n",
       "      <td>[-0.024126196280121803, -0.010877548716962337,...</td>\n",
       "      <td>Consent</td>\n",
       "    </tr>\n",
       "    <tr>\n",
       "      <th>31</th>\n",
       "      <td>3.1.1</td>\n",
       "      <td>Can public authorities rely on consent for pro...</td>\n",
       "      <td>question</td>\n",
       "      <td>[-0.04015662521123886, -0.0452830046415329, -0...</td>\n",
       "      <td>Consent</td>\n",
       "    </tr>\n",
       "    <tr>\n",
       "      <th>32</th>\n",
       "      <td>3.1.1</td>\n",
       "      <td>Can employers use consent as a basis for data ...</td>\n",
       "      <td>question</td>\n",
       "      <td>[-0.027924824506044388, -0.03840619698166847, ...</td>\n",
       "      <td>Consent</td>\n",
       "    </tr>\n",
       "    <tr>\n",
       "      <th>33</th>\n",
       "      <td>3.1.1</td>\n",
       "      <td>What constitutes a real choice for consent?</td>\n",
       "      <td>question</td>\n",
       "      <td>[0.02379072643816471, -0.04665195569396019, -0...</td>\n",
       "      <td>Consent</td>\n",
       "    </tr>\n",
       "    <tr>\n",
       "      <th>34</th>\n",
       "      <td>3.1.1</td>\n",
       "      <td>How can employees give free consent to data pr...</td>\n",
       "      <td>question</td>\n",
       "      <td>[-0.03558824583888054, -0.04410198703408241, -...</td>\n",
       "      <td>Consent</td>\n",
       "    </tr>\n",
       "  </tbody>\n",
       "</table>\n",
       "</div>"
      ],
      "text/plain": [
       "   section_reference                                               text  \\\n",
       "3              3.1.1  Freely given consent requires a genuine choice...   \n",
       "30             3.1.1  When is there an imbalance of power in data pr...   \n",
       "31             3.1.1  Can public authorities rely on consent for pro...   \n",
       "32             3.1.1  Can employers use consent as a basis for data ...   \n",
       "33             3.1.1        What constitutes a real choice for consent?   \n",
       "34             3.1.1  How can employees give free consent to data pr...   \n",
       "\n",
       "      source                                          embedding document  \n",
       "3    summary  [-0.03908756002783775, -0.04293598607182503, -...  Consent  \n",
       "30  question  [-0.024126196280121803, -0.010877548716962337,...  Consent  \n",
       "31  question  [-0.04015662521123886, -0.0452830046415329, -0...  Consent  \n",
       "32  question  [-0.027924824506044388, -0.03840619698166847, ...  Consent  \n",
       "33  question  [0.02379072643816471, -0.04665195569396019, -0...  Consent  \n",
       "34  question  [-0.03558824583888054, -0.04410198703408241, -...  Consent  "
      ]
     },
     "execution_count": 12,
     "metadata": {},
     "output_type": "execute_result"
    }
   ],
   "source": [
    "tmp"
   ]
  },
  {
   "cell_type": "markdown",
   "metadata": {},
   "source": [
    "## Add an entry"
   ]
  },
  {
   "cell_type": "code",
   "execution_count": 13,
   "metadata": {},
   "outputs": [
    {
     "name": "stderr",
     "output_type": "stream",
     "text": [
      "INFO:httpx:HTTP Request: POST https://api.openai.com/v1/embeddings \"HTTP/1.1 200 OK\"\n"
     ]
    }
   ],
   "source": [
    "document = 'Consent'\n",
    "text_to_add = \"Can I covertly monitor my employees without breaching GDPR?\"\n",
    "section_reference = \"3.1.1\"\n",
    "source = \"question\"\n",
    "doc_index = add_to_index(openai_client = openai_client, index_df = doc_index, text = text_to_add, section_reference = section_reference, source = source, embedding_model = embedding_model, embedding_dimensions= embedding_dimensions, document=document)"
   ]
  },
  {
   "cell_type": "code",
   "execution_count": 20,
   "metadata": {},
   "outputs": [],
   "source": [
    "# SAVE IT\n",
    "save_parquet_data(doc_index, file, key)"
   ]
  },
  {
   "cell_type": "markdown",
   "metadata": {},
   "source": [
    "## Change an entry"
   ]
  },
  {
   "cell_type": "code",
   "execution_count": 19,
   "metadata": {},
   "outputs": [
    {
     "name": "stderr",
     "output_type": "stream",
     "text": [
      "INFO:httpx:HTTP Request: POST https://api.openai.com/v1/embeddings \"HTTP/1.1 200 OK\"\n"
     ]
    }
   ],
   "source": [
    "text_to_change = \"Can I covertly monitor my employees without breaching GDPR?\"\n",
    "changed_text = \"Am I able to use the messages and calls made by an employee on a business device in a disciplinary without consent from the employee or the recipient of the messages or calls?\"\n",
    "\n",
    "doc_index = update_text_in_index(openai_client = openai_client, index_df = doc_index , text_to_change=text_to_change, changed_text=changed_text, embedding_model=embedding_model, embedding_dimensions=embedding_dimensions)\n",
    "\n",
    "# SAVE IT\n",
    "# save_parquet_data(doc_index, file, key)"
   ]
  },
  {
   "cell_type": "code",
   "execution_count": null,
   "metadata": {},
   "outputs": [],
   "source": []
  }
 ],
 "metadata": {
  "kernelspec": {
   "display_name": "Python 3.10.4 ('env': venv)",
   "language": "python",
   "name": "python3"
  },
  "language_info": {
   "codemirror_mode": {
    "name": "ipython",
    "version": 3
   },
   "file_extension": ".py",
   "mimetype": "text/x-python",
   "name": "python",
   "nbconvert_exporter": "python",
   "pygments_lexer": "ipython3",
   "version": "3.10.4"
  },
  "orig_nbformat": 4,
  "vscode": {
   "interpreter": {
    "hash": "20591bc9273590117cdd0f52559c248ef39f0181da66e3521068e03aa47654cd"
   }
  }
 },
 "nbformat": 4,
 "nbformat_minor": 2
}
