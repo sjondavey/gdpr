{
 "cells": [
  {
   "cell_type": "code",
   "execution_count": 1,
   "metadata": {},
   "outputs": [],
   "source": [
    "import logging\n",
    "log_level = 25\n",
    "logging.basicConfig(level=log_level) # root logger\n",
    "\n",
    "import re\n",
    "import pandas as pd\n",
    "\n",
    "import sys\n",
    "sys.path.append('E:/Code/chat/gdpr')\n"
   ]
  },
  {
   "cell_type": "code",
   "execution_count": 3,
   "metadata": {},
   "outputs": [],
   "source": [
    "import fitz\n",
    "\n",
    "import os\n",
    "path = 'E:/Code/chat/gdpr/pdf/guidelines'\n",
    "file_name = 'edpb_recommendations_20221_bcr-c_v2_en.pdf'\n",
    "paper_name = 'Recommendations 1/2022 on the Application for Approval and on the elements and principles to be found in Controller Binding Corporate Rules (Art. 47 GDPR)'\n",
    "full_path = os.path.join(path, file_name)\n",
    "doc = fitz.open(full_path)"
   ]
  },
  {
   "cell_type": "code",
   "execution_count": 4,
   "metadata": {},
   "outputs": [],
   "source": [
    "import importlib\n",
    "import src.extract_from_pdf\n",
    "importlib.reload(src.extract_from_pdf)\n",
    "from src.extract_from_pdf import output_doc_as_text\n",
    "\n",
    "lines_to_delete = [] \n",
    "characters_to_replace = []\n",
    "characters_to_replace.append(['“', '\"'])\n",
    "characters_to_replace.append(['”', '\"'])\n",
    "characters_to_replace.append(['‘', \"'\"])\n",
    "characters_to_replace.append(['’', \"'\"])\n",
    "document_text = output_doc_as_text(doc, start_page = 3, end_page = 0, header_size=80, footer_size=60, lines_to_delete = lines_to_delete, characters_to_replace = characters_to_replace)\n",
    "\n",
    "file = \"../tmp/article_47_bcr.txt\"\n",
    "with open(file, 'w', encoding='utf-8') as f:\n",
    "    f.write(document_text)"
   ]
  },
  {
   "cell_type": "code",
   "execution_count": 2,
   "metadata": {},
   "outputs": [],
   "source": [
    "file_path = \"../../original/article_47_bcr.md\"\n",
    "with open(file_path, 'r', encoding = \"utf-8\") as file:\n",
    "    text = file.read()\n",
    "\n",
    "lines = text.split('\\n')\n",
    "# get rid of empty lines\n",
    "lines = [line for line in lines if line]\n",
    "\n",
    "doc_as_array = []\n",
    "notes_as_array = []\n",
    "#footnote_pattern = re.compile(r'^(\\[\\^\\d{1,2}\\]:)(.*)$')\n",
    "footnote_pattern = re.compile(r'^\\[\\^(\\d{1,2})\\]:(.*)$')\n",
    "for entry in lines:\n",
    "    footnote_match = footnote_pattern.match(entry)\n",
    "    if footnote_match:\n",
    "        notes_as_array.append([footnote_match.group(1), footnote_match.group(2).strip()])\n",
    "    else:\n",
    "        doc_as_array.append(entry)\n",
    "\n",
    "columns = [\"note_number\", \"text\"]\n",
    "df_notes = pd.DataFrame(notes_as_array, columns = columns)"
   ]
  },
  {
   "cell_type": "code",
   "execution_count": 3,
   "metadata": {},
   "outputs": [
    {
     "name": "stdout",
     "output_type": "stream",
     "text": [
      "Row removed from table_data: ['Criteria for BCR-C approval', 'In BCR-C', 'In application form', 'Reference', 'Comments']\n",
      "Row removed from table_data: ['---', '---', '---', '---', '---']\n",
      "Row removed from table_data: ['<td colspan=6>Internally']\n",
      "Row removed from table_data: ['<td colspan=6>Externally']\n"
     ]
    }
   ],
   "source": [
    "columns = [\"section\", \"point\", \"heading\", \"text\", \"section_reference\"]\n",
    "section = \"\"\n",
    "point = \"\"\n",
    "heading = False\n",
    "text = \"\"\n",
    "section_reference = \"\"\n",
    "section_pattern = re.compile(r'^(\\d+)\\s+(.+)$') # number, space, text\n",
    "point_pattern = re.compile(r'^(\\d+)\\.\\s+(.+)$') # number, fill stop, space, text\n",
    "part_pattern = re.compile(r'^PART (\\d+):(.+)$') # PART, number, :,  text\n",
    "annex_pattern = re.compile(r'^ANNEX (\\d+):(.+)$') # PART, number, :,  text\n",
    "\n",
    "table_pattern = re.compile(r'\\|')\n",
    "table_entry_number_pattern = re.compile(r'(\\d+(\\.\\d+)?(\\.\\d+)?)\\s+(.+)')\n",
    "table_section = re.compile(r'<td colspan=6>(\\d+) - (.+)$')\n",
    "table_subsection = re.compile(r'<td colspan=6>\\s*(.+)\\s*')\n",
    "\n",
    "\n",
    "data = []\n",
    "table_data = []\n",
    "for entry in doc_as_array:\n",
    "    section_match = section_pattern.match(entry)\n",
    "    point_match = point_pattern.match(entry)\n",
    "    part_match = part_pattern.match(entry)\n",
    "    annex_match = annex_pattern.match(entry)\n",
    "    table_match = table_pattern.match(entry)\n",
    "    if section_match:\n",
    "        match = section_match\n",
    "        section = match.group(1)\n",
    "        point = \"\"\n",
    "        heading = True\n",
    "        text = match.group(2)\n",
    "        section_reference = section\n",
    "        data.append([section, point, heading, text, section_reference])\n",
    "    elif point_match:\n",
    "        match = point_match\n",
    "        section = section\n",
    "        point = match.group(1)\n",
    "        if \"Application\" in section:\n",
    "            heading = True\n",
    "        else:\n",
    "            heading = False\n",
    "        text = match.group(2)\n",
    "        section_reference = section + \".\" + point\n",
    "        data.append([section, point, heading, text, section_reference])\n",
    "    elif part_match:\n",
    "        match = part_match\n",
    "        section = \"Application. Part \" + match.group(1)\n",
    "        point = \"\"\n",
    "        heading = True\n",
    "        text = match.group(2)\n",
    "        section_reference = section\n",
    "        data.append([section, point, heading, text, section_reference])\n",
    "    elif annex_match:\n",
    "        match = annex_match\n",
    "        section = \"Application. Annex \" + match.group(1)\n",
    "        point = \"\"\n",
    "        heading = True\n",
    "        text = match.group(2)\n",
    "        section_reference = section\n",
    "        data.append([section, point, heading, text, section_reference])\n",
    "    elif table_match:\n",
    "        components = [component.strip() for component in entry.strip().strip('|').split('|')]\n",
    "        if len(components) == 5:\n",
    "            table_entry_number_match = table_entry_number_pattern.match(components[0])\n",
    "            if table_entry_number_match:\n",
    "                components = [table_entry_number_match.group(1), table_entry_number_match.group(4)] + components[1:]\n",
    "                table_data.append(components)\n",
    "            else:\n",
    "                print(f\"Row removed from table_data: {components}\")\n",
    "                #components = [\"\"] + components\n",
    "        elif len(components) == 1:\n",
    "            table_section_match = table_section.match(components[0])\n",
    "            table_subsection_match = table_subsection.match(components[0])\n",
    "            if table_section_match:\n",
    "                components = [table_section_match.group(1), table_section_match.group(2)]\n",
    "                table_data.append(components)\n",
    "            elif table_subsection_match:\n",
    "                print(f\"Row removed from table_data: {components}\")\n",
    "                # components = [\"\", table_subsection_match.group(1)]\n",
    "            else:\n",
    "                raise AttributeError(f\"A row with one element did not match the required patterns: {entry}\")\n",
    "        else:\n",
    "            raise AttributeError(\"A table entry did not have the correct number of elements\")\n",
    "    else:\n",
    "        section = section\n",
    "        point = point\n",
    "        heading = False\n",
    "        text = entry\n",
    "        section_reference = section\n",
    "        if point:\n",
    "            section_reference = section_reference + \".\" + point\n",
    "        data.append([\"\", \"\", heading, text, section_reference])\n",
    "\n",
    "\n",
    "\n",
    "df = pd.DataFrame(data, columns = columns)\n",
    "# Remove my note about the table\n",
    "df = df[df[\"text\"] != 'Note this table contains a column \"References to BCR-C, application form BCR-C, and / or supporting documents[^14]\" which is empty in the document because it is supposed to be filled out by the controller'] "
   ]
  },
  {
   "cell_type": "code",
   "execution_count": 7,
   "metadata": {},
   "outputs": [],
   "source": [
    "bcr_requirements = \"Points that need to be addressed in a binding corporate resolution for controllers (BCR-C) are:\\n\"\n",
    "bcr_requirement_comments = []\n",
    "columns = [\"section\", \"point\", \"heading\", \"text\", \"section_reference\"]\n",
    "\n",
    "section = '3'\n",
    "for row in table_data:\n",
    "    if len(row) == 2:\n",
    "        point = row[0]\n",
    "        heading = True \n",
    "        text = row[1] \n",
    "        section_reference = section + \".\" + point\n",
    "        bcr_requirement_comments.append([section, point, heading, text, section_reference])\n",
    "    else:\n",
    "        point = row[0]\n",
    "        heading = False \n",
    "        text = row[5] \n",
    "        section_reference = section + \".\" + point\n",
    "        bcr_requirement_comments.append([section, point, heading, text, section_reference])\n",
    "\n",
    "        bcr_requirements += f\"{section_reference}: {row[1]} ({row[4]}).\\n\"\n",
    "\n",
    "# NOTE: Add the table sections as a piece of analysis with its own numbering (not sure how clever this is?)\n",
    "bcr_requirement_comments.append([\"Analysis\", \"1\", False, bcr_requirements, f\"Analysis 1\"])\n",
    "\n",
    "df_table = pd.DataFrame(bcr_requirement_comments, columns = columns)\n",
    "\n",
    "combined = pd.concat([df, df_table], ignore_index=True)\n"
   ]
  },
  {
   "cell_type": "code",
   "execution_count": 8,
   "metadata": {},
   "outputs": [
    {
     "name": "stdout",
     "output_type": "stream",
     "text": [
      "Row 7 augmented with footnotes\n",
      "Row 9 augmented with footnotes\n",
      "Row 12 augmented with footnotes\n",
      "Row 13 augmented with footnotes\n",
      "Row 14 augmented with footnotes\n",
      "Row 15 augmented with footnotes\n",
      "Row 32 augmented with footnotes\n",
      "Row 60 augmented with footnotes\n",
      "Row 66 augmented with footnotes\n",
      "Row 114 augmented with footnotes\n",
      "Row 120 augmented with footnotes\n",
      "Row 126 augmented with footnotes\n",
      "Row 128 augmented with footnotes\n",
      "Row 139 augmented with footnotes\n",
      "Row 141 augmented with footnotes\n",
      "Row 144 augmented with footnotes\n",
      "Row 145 augmented with footnotes\n",
      "Row 154 augmented with footnotes\n"
     ]
    }
   ],
   "source": [
    "# Add footnotes\n",
    "import re\n",
    "\n",
    "def find_footnote_references(text):\n",
    "    pattern = r'\\[\\^(\\d+)\\]'\n",
    "    return re.findall(pattern, text)\n",
    "\n",
    "for index, row in combined.iterrows():\n",
    "    footnotes = find_footnote_references(row['text'])\n",
    "    if footnotes:\n",
    "        augmented_note = row['text']\n",
    "        for note in footnotes:\n",
    "            augmented_note += f\"\\n[^{note}]: {df_notes[df_notes['note_number'] == note].iloc[0]['text']}\"\n",
    "        print(f\"Row {index} augmented with footnotes\")\n",
    "        #print(augmented_note)\n",
    "        combined.at[index, \"text\"] = augmented_note\n",
    "        #print"
   ]
  },
  {
   "cell_type": "code",
   "execution_count": 9,
   "metadata": {},
   "outputs": [],
   "source": [
    "\n",
    "# doc.document_as_df.at[154, \"section_reference\"] = \"Analysis\"\n",
    "\n",
    "file = \"../../inputs/documents/article_47_bcr.csv\"\n",
    "combined.to_csv(file, encoding = \"utf-8\", sep=\"|\", index = False, na_rep=\"\")\n"
   ]
  },
  {
   "cell_type": "code",
   "execution_count": 13,
   "metadata": {},
   "outputs": [],
   "source": [
    "import importlib\n",
    "import gdpr_rag.documents.article_47_bcr\n",
    "importlib.reload(gdpr_rag.documents.article_47_bcr)\n",
    "from gdpr_rag.documents.article_47_bcr import Article_47_BCR\n",
    "\n",
    "import sys\n",
    "sys.path.append('E:/Code/chat/gdpr')\n",
    "path_to_manual_as_csv_file = \"../../inputs/documents/article_47_bcr.csv\"\n",
    "\n",
    "doc = Article_47_BCR(path_to_manual_as_csv_file)\n"
   ]
  },
  {
   "cell_type": "code",
   "execution_count": 18,
   "metadata": {},
   "outputs": [
    {
     "name": "stdout",
     "output_type": "stream",
     "text": [
      "3 ELEMENTS AND PRINCIPLES TO BE FOUND IN BCR-C\n",
      "3.5 DATA PROTECTION SAFEGUARDS\n"
     ]
    },
    {
     "data": {
      "text/markdown": [
       "# 3 ELEMENTS AND PRINCIPLES TO BE FOUND IN BCR-C\n",
       "\n",
       "## 3.5 DATA PROTECTION SAFEGUARDS\n",
       "\n",
       "The BCR C shall contain a clear commitment that BCR members will use the BCR-C as a tool for transfers only where they have assessed that the law and practices in the third country of destination applicable to the processing of the personal data by the BCR member acting as data importer, including any requirements to disclose personal data or measures authorising access by public authorities, do not prevent it from fulfilling its obligations under these BCR-C. <br>The BCR-C should further specify that this is based on the understanding that laws and practices that respect the essence of the fundamental rights and freedoms, and do not exceed what is necessary and proportionate in a democratic society[^24] to safeguard one of the objectives listed in Article 23(1) GDPR, are not in contradiction with the BCR-C.<br> The BCR-C should also contain a commitment that, in assessing the laws and practices of the third country which may affect the respect of the commitments contained in the BCR-C, the BCR members have taken due account, in particular, of the following elements: <ol type=\"i\"> <li>The specific circumstances of the transfers or set of transfers, and of any envisaged onward transfers within the same third country or to another third country, including: <ul><li> purposes for which the data are transferred and processed (e.g. marketing, HR, storage, IT support, clinical trials); </li><li> types of entities involved in the processing (the data importer and any further recipient of any onward transfer); </li><li> economic sector in which the transfer or set of transfers occur; </li><li> categories and format of the personal data transferred; </li><li> location of the processing, including storage; and </li><li> transmission channels used. </ul> </li><li> The laws and practices of the third country of destination relevant in light of the circumstances of the transfer[^25], including those requiring to disclose data to public authorities or authorising access by such authorities and those providing for access to these data during the transit between the country of the data exporter and the country of the data importer, as well as the applicable limitations and safeguards[^26]. </li><li> Any relevant contractual, technical or organisational safeguards put in place to supplement the safeguards under the BCR-C, including measures applied during the transmission and to the processing of the personal data in the country of destination. </li></ol> The BCR-C should also contain a commitment that where any safeguards in addition to those envisaged under the BCR-C should be put in place, the Liable BCR member(s), and the relevant Privacy officer or Function will be informed and involved in such assessment. <br>The BCR-C should contain also an obligation for the BCR members to document appropriately such assessment, as well as the supplementary measures selected and implemented. They should make such documentation available to the competent SAs upon request. <br>The BCR-C should oblige any BCR member acting as data importer to promptly notify the data exporter if, when using these BCR-C as a tool for transfers, and for the duration of the BCR membership, it has reasons to believe that it is or has become subject to laws or practices that would prevent it from fulfilling its obligations under the BCR-C, including following a change in the laws in the third country or a measure (such as a disclosure request). This information should also be provided to the Liable BCR member(s). <br>Upon verification of such notification, the BCR member acting as data exporter, along with the Liable BCR member(s) and the relevant Privacy officer or Function, should commit to promptly identify supplementary measures (e.g. technical or organisational measures to ensure security and confidentiality) to be adopted by the BCR member acting as data exporter and/or data importer, in order to enable them to fulfil their obligations under the BCR-C. The same applies if a BCR member acting as data exporter has reasons to believe that a BCR member acting as its data importer can no longer fulfil its obligations under this BCR-C. <br>Where the BCR member acting as data exporter, along with the Liable BCR member(s) and the relevant Privacy officer or Function, assesses that the BCR-C – even if accompanied by supplementary measures – cannot be complied with for a transfer or set of transfers, or if instructed by the Competent SAs, it commits to suspend the transfer or set of transfers at stake, as well as all transfers for which the same assessment and reasoning would lead to a similar result, until compliance is again ensured or the transfer is ended. <br>The BCR-C should contain a commitment that following such a suspension, the BCR member acting as data exporter has to end the transfer or set of transfers if the BCR C cannot be complied with and compliance with the BCR is not restored within one month of suspension. In this case, personal data that have been transferred prior to the suspension, and any copies thereof, should, at the choice of the BCR member acting as data exporter, be returned to it or destroyed in their entirety. <br>The BCR-C should contain a commitment that the Liable BCR member(s) and the relevant Privacy officer or Function will inform all other BCR members of the assessment carried out and of its results, so that the identified supplementary measures will be applied in case the same type of transfers is carried out by any other BCR member or, where effective supplementary measures could not be put in place, the transfers at stake are suspended or ended. <br>The BCR-C needs to include a duty for data exporters to monitor, on an ongoing basis, and where appropriate in collaboration with data importers, developments in the third countries to which the data exporters have transferred personal data that could affect the initial assessment of the level of protection and the decisions taken accordingly on such transfers.\n",
       "\n",
       "  \n",
       "[^24]: See EDPB Recommendations 02/2020 on the European Essential Guarantees for surveillance measures.  \n",
       "[^25]: As regards the assessment of the impact of the laws and practices of the third countries, please see EDPB Recommendations 01/2020 on measures that supplement transfer tools to ensure compliance with the EU level of protection of personal data.  \n",
       "[^26]: As regards the impact of such laws and practices on compliance with the BCR, different elements may be considered as part of an overall assessment. Such elements may include relevant and documented practical experience with prior instances of requests for disclosure from public authorities, or the absence of such requests, covering a sufficiently representative time-frame. This refers in particular to internal records or other documentation, drawn up on a continuous basis in accordance with due diligence and certified at senior management level, provided that this information can be lawfully shared with third parties. Where this practical experience is relied upon to conclude that the data importer will not be prevented from complying with the BCR, it needs to be supported by other relevant, objective elements, and it is for the BCR members to consider carefully whether these elements together carry sufficient weight, in terms of their reliability and representativeness, to support this conclusion. In particular, the BCR members have to take into account whether their practical experience is corroborated and not contradicted by publicly available or otherwise accessible, reliable information on the existence or absence of requests within the same sector and/or the application of the law in practice, such as case law and reports by independent oversight bodies."
      ],
      "text/plain": [
       "<IPython.core.display.Markdown object>"
      ]
     },
     "metadata": {},
     "output_type": "display_data"
    }
   ],
   "source": [
    "from IPython.display import Markdown, display\n",
    "\n",
    "section = \"1\"\n",
    "section = \"1.3\"\n",
    "# section = \"3.3.1\"\n",
    "section = \"3.5.4.1\"\n",
    "# section = \"Application. Annex 1\"\n",
    "# section = \"Analysis\"\n",
    "#section = \"1.10\"\n",
    "print(doc.get_heading(section))\n",
    "display(Markdown(doc.get_text(section)))\n"
   ]
  },
  {
   "cell_type": "code",
   "execution_count": 126,
   "metadata": {},
   "outputs": [
    {
     "name": "stdout",
     "output_type": "stream",
     "text": [
      "\n",
      "Application. Part 1  APPLICANT INFORMATION\n",
      "\n"
     ]
    }
   ],
   "source": [
    "print(doc.get_heading(\"Application. Part 1\"))"
   ]
  },
  {
   "cell_type": "code",
   "execution_count": null,
   "metadata": {},
   "outputs": [],
   "source": []
  }
 ],
 "metadata": {
  "kernelspec": {
   "display_name": "Python 3.10.4 ('env': venv)",
   "language": "python",
   "name": "python3"
  },
  "language_info": {
   "codemirror_mode": {
    "name": "ipython",
    "version": 3
   },
   "file_extension": ".py",
   "mimetype": "text/x-python",
   "name": "python",
   "nbconvert_exporter": "python",
   "pygments_lexer": "ipython3",
   "version": "3.10.4"
  },
  "orig_nbformat": 4,
  "vscode": {
   "interpreter": {
    "hash": "20591bc9273590117cdd0f52559c248ef39f0181da66e3521068e03aa47654cd"
   }
  }
 },
 "nbformat": 4,
 "nbformat_minor": 2
}
