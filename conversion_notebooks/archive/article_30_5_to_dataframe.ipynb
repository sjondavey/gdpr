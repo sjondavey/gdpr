{
 "cells": [
  {
   "cell_type": "code",
   "execution_count": 1,
   "metadata": {},
   "outputs": [],
   "source": [
    "import logging\n",
    "log_level = 25\n",
    "logging.basicConfig(level=log_level) # root logger\n"
   ]
  },
  {
   "cell_type": "code",
   "execution_count": 2,
   "metadata": {},
   "outputs": [],
   "source": [
    "import re\n",
    "import fitz\n",
    "import pandas as pd\n",
    "\n",
    "import sys\n",
    "sys.path.append('E:\\Code\\chat\\gdpr')\n",
    "\n",
    "import os\n",
    "path = 'E:/Code/chat/gdpr/pdf/guidlines'\n",
    "file_name = '20180419_art29_wp_position_paper_art_30_publish_AF01E86A-01CE-DBDD-6368D0296A2413B0_51422.pdf'\n",
    "paper_name = 'WORKING PARTY 29 POSITION PAPER on the derogations from the obligation to maintain records of processing activities pursuant to Article 30(5) GDPR'\n",
    "full_path = os.path.join(path, file_name)\n",
    "doc = fitz.open(full_path)"
   ]
  },
  {
   "cell_type": "code",
   "execution_count": 17,
   "metadata": {},
   "outputs": [],
   "source": [
    "import importlib\n",
    "import src.extract_from_pdf\n",
    "importlib.reload(src.extract_from_pdf)\n",
    "from src.extract_from_pdf import output_doc_as_text\n",
    "\n",
    "lines_to_delete = [] \n",
    "characters_to_replace = []\n",
    "characters_to_replace.append(['“', '\"'])\n",
    "characters_to_replace.append(['”', '\"'])\n",
    "characters_to_replace.append(['‘', \"'\"])\n",
    "characters_to_replace.append(['’', \"'\"])\n",
    "document_text = output_doc_as_text(doc, start_page = 0, end_page = 0, header_size=80, footer_size=40, lines_to_delete = lines_to_delete, characters_to_replace = characters_to_replace)"
   ]
  },
  {
   "cell_type": "code",
   "execution_count": 18,
   "metadata": {},
   "outputs": [
    {
     "name": "stdout",
     "output_type": "stream",
     "text": [
      "\n",
      "The Working Party 29 has examined the obligation, under Article 30 of the GDPR, for controllers and processors to maintain a record of processing activities. This paper sets out the WP29's position on the derogation from this obligation. Recital 13 of the GDPR says:\n",
      "'To take account of the specific situation of micro, small and medium-sized enterprises, this Regulation includes a derogation for organisations with fewer than 250 employees with regard to record-keeping'.\n",
      "Article 30(5) gives effect to Recital 13. It says that the obligation to keep a record of processing activities does not apply 'to an enterprise or an organisation employing fewer than 250 persons unless the processing it carries out is likely to result in a risk to the rights and freedoms of data subjects, the processing is not occasional, or the processing includes special categories of data as referred to in Article 9(1) or personal data relating to criminal convictions and offences referred to in Article 10.' Some clarifications on the interpretation of this provision appear necessary, as shown by the high number of requests coming from companies and received in the last few months by national Supervisory Authorities.\n",
      "The derogation provided by Article 30(5) is not absolute. There are three types of processing to which it does not apply. These are:\n",
      "·         Processing that is likely to result in a risk to the rights and freedoms of data subjects.\n",
      "·         Processing that is not occasional.\n",
      "·         Processing that includes special categories of data or personal data relating to criminal convictions and offences.\n",
      "\n",
      "The WP29 underlines that the wording of Article 30(5) is clear in providing that the three types of processing to which the derogation does not apply are alternative (\"or\") and the occurrence of any one of them alone triggers the obligation to maintain the record of processing activities.\n",
      "Therefore, although endowed with less than 250 employees, data controllers or processors who find themselves in the position of either carrying out processing likely to result in a risk (not just a high risk) to the rights of the data subjects, or processing personal data on a non-occasional basis, or processing special categories of data under Article 9(1) or data relating to criminal convictions under Article 10 are obliged to maintain the record of processing activities. \n",
      "However, such organisations need only maintain records of processing activities for the types of processing mentioned by Article 30(5).\n",
      "For example, a small organisation is likely to regularly process data regarding its employees. As a result, such processing cannot be considered \"occasional\" and must therefore be included in the record of processing activities.1 Other processing activities which are in fact \"occasional\", however, do not need to be included in the record of processing activities, provided they are unlikely to result in a risk to the right and freedoms of data subjects and do not involve special categories of data or personal data relating to criminal convictions and offences.\n",
      "The WP29 highlights that the record of processing activities is a very useful means to support an analysis of the implications of any processing whether existing or planned. The record facilitates the factual assessment of the risk of the processing activities performed by a controller or processor on individuals' rights, and the identification and implementation of appropriate security measures to safeguard personal data – both key components of the principle of accountability contained in the GDPR.\n",
      "For many micro, small and medium-sized organisations, maintaining a record of processing activities is unlikely to constitute a particularly heavy burden. However, the WP29 recognises that Article 30 represents a new administrative requirement for controllers and processors, and therefore encourages national Supervisory Authorities to support SMEs by providing tools to facilitate the set up and management of records of processing activities. For example, a Supervisory Authority might make available on its website a simplified model that can be used by SMEs to keep records of processing activities not covered by the derogation in Article 30(5).\n",
      "\n",
      "\n",
      "1 The WP29 considers that a processing activity can only be considered as \"occasional\" if it is not carried out regularly, and occurs outside the regular course of business or activity of the controller or processor. See WP29 Guidelines on Article 49 of Regulation 2016/679 (WP262). \n",
      "\n"
     ]
    }
   ],
   "source": [
    "# remove footnote on page 1\n",
    "document_text = document_text.replace(\"This Working Party was set up under Article 29 of Directive 95/46/EC. It is an independent European advisory body on data protection and privacy. Its tasks are described in Article 30 of Directive 95/46/EC and Article 15 of Directive 2002/58/EC. The secretariat is provided by Directorate C (Fundamental Rights and Union Citizenship) of the European Commission, Directorate General Justice, B-1049 Brussels, Belgium, Office No MO-59 02/013. Website: http://ec europa eu/newsroom/article29/news cfm?item type=1358&tpa id=6936 WORKING PARTY 29 POSITION PAPER on the derogations from the obligation to maintain records of processing activities pursuant to Article 30(5) GDPR\", \"\")\n",
    "# add paragraphs\n",
    "document_text = document_text.replace(\"However, such organisations need only maintain records of processing activities for the types of processing mentioned by Article 30(5). \", \"\\nHowever, such organisations need only maintain records of processing activities for the types of processing mentioned by Article 30(5).\\n\")\n",
    "document_text = document_text.replace(\"personal data relating to criminal convictions and offences. \", \"personal data relating to criminal convictions and offences.\\n\")\n",
    "document_text = document_text.replace(\"both key components of the principle of accountability contained in the GDPR. \", \"both key components of the principle of accountability contained in the GDPR.\\n\")\n",
    "document_text = document_text.replace(\"SMEs to keep records of processing activities not covered by the derogation in Article 30(5).\", \"SMEs to keep records of processing activities not covered by the derogation in Article 30(5).\\n\\n\")\n",
    "\n",
    "print(document_text)"
   ]
  },
  {
   "cell_type": "code",
   "execution_count": 27,
   "metadata": {},
   "outputs": [
    {
     "name": "stdout",
     "output_type": "stream",
     "text": [
      "The document consists of 853 tokens\n"
     ]
    }
   ],
   "source": [
    "from regulations_rag.embeddings import num_tokens_from_string\n",
    "print(f\"The document consists of {num_tokens_from_string(document_text)} tokens\")\n",
    "\n",
    "data = [[\"\", False, document_text]]\n",
    "df=pd.DataFrame(data, columns = [\"section_reference\", \"heading\", \"text\"])\n",
    "df.to_csv(\"../inputs/documents/article_30_5.csv\", sep = \"|\", encoding = \"utf-8\", index = False)"
   ]
  },
  {
   "cell_type": "code",
   "execution_count": 19,
   "metadata": {},
   "outputs": [],
   "source": [
    "import importlib\n",
    "import regulations_rag.reference_checker\n",
    "importlib.reload(regulations_rag.reference_checker)\n",
    "from regulations_rag.reference_checker import ReferenceChecker\n",
    "class EmptyReferenceChecker(ReferenceChecker):\n",
    "    def __init__(self):\n",
    "        exclusion_list = []\n",
    "        index_patterns = [r\"\"]    \n",
    "        text_pattern = \"\"\n",
    "\n",
    "        super().__init__(regex_list_of_indices = index_patterns, text_version = text_pattern, exclusion_list=exclusion_list)\n",
    "\n",
    "    def is_valid(self, reference):\n",
    "        if reference == \"\":\n",
    "            return True\n",
    "        return False\n",
    "\n",
    "    def extract_valid_reference(self, input_string):\n",
    "        return \"\"\n",
    "    \n",
    "    def split_reference(self, reference):\n",
    "        return \"\"\n",
    "\n",
    "    def get_parent_reference(self, input_string):\n",
    "        return \"\"\n",
    "\n",
    "    def get_current_and_parent_references(self, reference):\n",
    "        return [\"\"]\n",
    "\n",
    "    def is_reference_or_parents_in_list(self, reference, list_of_references):\n",
    "        super().is_reference_or_parents_in_list(reference, list_of_references) \n",
    "\n",
    "    def _extract_reference_from_string(self, s):\n",
    "        return \"\"\n",
    "\n",
    "no_index = EmptyReferenceChecker()"
   ]
  },
  {
   "cell_type": "code",
   "execution_count": 20,
   "metadata": {},
   "outputs": [
    {
     "data": {
      "text/plain": [
       "False"
      ]
     },
     "execution_count": 20,
     "metadata": {},
     "output_type": "execute_result"
    }
   ],
   "source": [
    "unindex.is_valid(r\"\")"
   ]
  },
  {
   "cell_type": "code",
   "execution_count": 32,
   "metadata": {},
   "outputs": [],
   "source": [
    "a_30_5 = Article_30_5()"
   ]
  },
  {
   "cell_type": "code",
   "execution_count": 34,
   "metadata": {},
   "outputs": [
    {
     "name": "stdout",
     "output_type": "stream",
     "text": [
      "\n",
      "The Working Party 29 has examined the obligation, under Article 30 of the GDPR, for controllers and processors to maintain a record of processing activities. This paper sets out the WP29's position on the derogation from this obligation. Recital 13 of the GDPR says:\n",
      "'To take account of the specific situation of micro, small and medium-sized enterprises, this Regulation includes a derogation for organisations with fewer than 250 employees with regard to record-keeping'.\n",
      "Article 30(5) gives effect to Recital 13. It says that the obligation to keep a record of processing activities does not apply 'to an enterprise or an organisation employing fewer than 250 persons unless the processing it carries out is likely to result in a risk to the rights and freedoms of data subjects, the processing is not occasional, or the processing includes special categories of data as referred to in Article 9(1) or personal data relating to criminal convictions and offences referred to in Article 10.' Some clarifications on the interpretation of this provision appear necessary, as shown by the high number of requests coming from companies and received in the last few months by national Supervisory Authorities.\n",
      "The derogation provided by Article 30(5) is not absolute. There are three types of processing to which it does not apply. These are:\n",
      "·         Processing that is likely to result in a risk to the rights and freedoms of data subjects.\n",
      "·         Processing that is not occasional.\n",
      "·         Processing that includes special categories of data or personal data relating to criminal convictions and offences.\n",
      "\n",
      "The WP29 underlines that the wording of Article 30(5) is clear in providing that the three types of processing to which the derogation does not apply are alternative (\"or\") and the occurrence of any one of them alone triggers the obligation to maintain the record of processing activities.\n",
      "Therefore, although endowed with less than 250 employees, data controllers or processors who find themselves in the position of either carrying out processing likely to result in a risk (not just a high risk) to the rights of the data subjects, or processing personal data on a non-occasional basis, or processing special categories of data under Article 9(1) or data relating to criminal convictions under Article 10 are obliged to maintain the record of processing activities. \n",
      "However, such organisations need only maintain records of processing activities for the types of processing mentioned by Article 30(5).\n",
      "For example, a small organisation is likely to regularly process data regarding its employees. As a result, such processing cannot be considered \"occasional\" and must therefore be included in the record of processing activities.1 Other processing activities which are in fact \"occasional\", however, do not need to be included in the record of processing activities, provided they are unlikely to result in a risk to the right and freedoms of data subjects and do not involve special categories of data or personal data relating to criminal convictions and offences.\n",
      "The WP29 highlights that the record of processing activities is a very useful means to support an analysis of the implications of any processing whether existing or planned. The record facilitates the factual assessment of the risk of the processing activities performed by a controller or processor on individuals' rights, and the identification and implementation of appropriate security measures to safeguard personal data – both key components of the principle of accountability contained in the GDPR.\n",
      "For many micro, small and medium-sized organisations, maintaining a record of processing activities is unlikely to constitute a particularly heavy burden. However, the WP29 recognises that Article 30 represents a new administrative requirement for controllers and processors, and therefore encourages national Supervisory Authorities to support SMEs by providing tools to facilitate the set up and management of records of processing activities. For example, a Supervisory Authority might make available on its website a simplified model that can be used by SMEs to keep records of processing activities not covered by the derogation in Article 30(5).\n",
      "\n",
      "\n",
      "1 The WP29 considers that a processing activity can only be considered as \"occasional\" if it is not carried out regularly, and occurs outside the regular course of business or activity of the controller or processor. See WP29 Guidelines on Article 49 of Regulation 2016/679 (WP262). \n",
      "\n"
     ]
    }
   ],
   "source": [
    "print(a_30_5.get_text(\"\"))"
   ]
  },
  {
   "cell_type": "code",
   "execution_count": 45,
   "metadata": {},
   "outputs": [],
   "source": [
    "import os\n",
    "from regulations_rag.standard_regulation_index import load_parquet_data\n",
    "key = os.getenv('encryption_key_gdpr')\n",
    "index_df = load_parquet_data(\"../inputs/index_gdpr.parquet\", key)"
   ]
  },
  {
   "cell_type": "code",
   "execution_count": 47,
   "metadata": {},
   "outputs": [],
   "source": [
    "from openai import OpenAI\n",
    "openai_client = OpenAI(api_key=os.environ.get(\"OPENAI_API_KEY\"),)\n",
    "\n",
    "import src.summarise_and_question\n",
    "importlib.reload(src.summarise_and_question)\n",
    "from src.summarise_and_question import get_summary_and_questions_for\n"
   ]
  },
  {
   "cell_type": "code",
   "execution_count": 49,
   "metadata": {},
   "outputs": [
    {
     "name": "stdout",
     "output_type": "stream",
     "text": [
      "##############\n",
      "\n",
      "The Working Party 29 has examined the obligation, under Article 30 of the GDPR, for controllers and processors to maintain a record of processing activities. This paper sets out the WP29's position on the derogation from this obligation. Recital 13 of the GDPR says:\n",
      "'To take account of the specific situation of micro, small and medium-sized enterprises, this Regulation includes a derogation for organisations with fewer than 250 employees with regard to record-keeping'.\n",
      "Article 30(5) gives effect to Recital 13. It says that the obligation to keep a record of processing activities does not apply 'to an enterprise or an organisation employing fewer than 250 persons unless the processing it carries out is likely to result in a risk to the rights and freedoms of data subjects, the processing is not occasional, or the processing includes special categories of data as referred to in Article 9(1) or personal data relating to criminal convictions and offences referred to in Article 10.' Some clarifications on the interpretation of this provision appear necessary, as shown by the high number of requests coming from companies and received in the last few months by national Supervisory Authorities.\n",
      "The derogation provided by Article 30(5) is not absolute. There are three types of processing to which it does not apply. These are:\n",
      "·         Processing that is likely to result in a risk to the rights and freedoms of data subjects.\n",
      "·         Processing that is not occasional.\n",
      "·         Processing that includes special categories of data or personal data relating to criminal convictions and offences.\n",
      "\n",
      "The WP29 underlines that the wording of Article 30(5) is clear in providing that the three types of processing to which the derogation does not apply are alternative (\"or\") and the occurrence of any one of them alone triggers the obligation to maintain the record of processing activities.\n",
      "Therefore, although endowed with less than 250 employees, data controllers or processors who find themselves in the position of either carrying out processing likely to result in a risk (not just a high risk) to the rights of the data subjects, or processing personal data on a non-occasional basis, or processing special categories of data under Article 9(1) or data relating to criminal convictions under Article 10 are obliged to maintain the record of processing activities. \n",
      "However, such organisations need only maintain records of processing activities for the types of processing mentioned by Article 30(5).\n",
      "For example, a small organisation is likely to regularly process data regarding its employees. As a result, such processing cannot be considered \"occasional\" and must therefore be included in the record of processing activities.1 Other processing activities which are in fact \"occasional\", however, do not need to be included in the record of processing activities, provided they are unlikely to result in a risk to the right and freedoms of data subjects and do not involve special categories of data or personal data relating to criminal convictions and offences.\n",
      "The WP29 highlights that the record of processing activities is a very useful means to support an analysis of the implications of any processing whether existing or planned. The record facilitates the factual assessment of the risk of the processing activities performed by a controller or processor on individuals' rights, and the identification and implementation of appropriate security measures to safeguard personal data – both key components of the principle of accountability contained in the GDPR.\n",
      "For many micro, small and medium-sized organisations, maintaining a record of processing activities is unlikely to constitute a particularly heavy burden. However, the WP29 recognises that Article 30 represents a new administrative requirement for controllers and processors, and therefore encourages national Supervisory Authorities to support SMEs by providing tools to facilitate the set up and management of records of processing activities. For example, a Supervisory Authority might make available on its website a simplified model that can be used by SMEs to keep records of processing activities not covered by the derogation in Article 30(5).\n",
      "\n",
      "\n",
      "1 The WP29 considers that a processing activity can only be considered as \"occasional\" if it is not carried out regularly, and occurs outside the regular course of business or activity of the controller or processor. See WP29 Guidelines on Article 49 of Regulation 2016/679 (WP262). \n",
      "\n",
      "##############\n"
     ]
    },
    {
     "ename": "NameError",
     "evalue": "name 'sectioned_df' is not defined",
     "output_type": "error",
     "traceback": [
      "\u001b[1;31m---------------------------------------------------------------------------\u001b[0m",
      "\u001b[1;31mNameError\u001b[0m                                 Traceback (most recent call last)",
      "Cell \u001b[1;32mIn[49], line 14\u001b[0m\n\u001b[0;32m     11\u001b[0m model_summary, model_questions \u001b[38;5;241m=\u001b[39m get_summary_and_questions_for(openai_client \u001b[38;5;241m=\u001b[39m openai_client, text \u001b[38;5;241m=\u001b[39m reg_text, model \u001b[38;5;241m=\u001b[39m model)\n\u001b[0;32m     13\u001b[0m \u001b[38;5;66;03m#format output\u001b[39;00m\n\u001b[1;32m---> 14\u001b[0m article \u001b[38;5;241m=\u001b[39m \u001b[43msectioned_df\u001b[49m\u001b[38;5;241m.\u001b[39mloc[index][\u001b[38;5;124m'\u001b[39m\u001b[38;5;124marticle\u001b[39m\u001b[38;5;124m'\u001b[39m]\n\u001b[0;32m     15\u001b[0m \u001b[38;5;28mprint\u001b[39m(\u001b[38;5;124mf\u001b[39m\u001b[38;5;124m'\u001b[39m\u001b[38;5;124mdf_summary.loc[index, \u001b[39m\u001b[38;5;124m\"\u001b[39m\u001b[38;5;124marticle\u001b[39m\u001b[38;5;124m\"\u001b[39m\u001b[38;5;124m] = \u001b[39m\u001b[38;5;124m\"\u001b[39m\u001b[38;5;132;01m{\u001b[39;00marticle\u001b[38;5;132;01m}\u001b[39;00m\u001b[38;5;124m\"\u001b[39m\u001b[38;5;124m'\u001b[39m)\n\u001b[0;32m     16\u001b[0m \u001b[38;5;28mprint\u001b[39m(\u001b[38;5;124mf\u001b[39m\u001b[38;5;124m'\u001b[39m\u001b[38;5;124mdf_summary.loc[index, \u001b[39m\u001b[38;5;124m\"\u001b[39m\u001b[38;5;124mtext\u001b[39m\u001b[38;5;124m\"\u001b[39m\u001b[38;5;124m] = \u001b[39m\u001b[38;5;124m\"\u001b[39m\u001b[38;5;132;01m{\u001b[39;00mmodel_summary\u001b[38;5;132;01m}\u001b[39;00m\u001b[38;5;124m\"\u001b[39m\u001b[38;5;124m'\u001b[39m)\n",
      "\u001b[1;31mNameError\u001b[0m: name 'sectioned_df' is not defined"
     ]
    }
   ],
   "source": [
    "#model = \"gpt-3.5-turbo\"\n",
    "#model=\"gpt-4\"\n",
    "model = \"gpt-4-0125-preview\"\n",
    "model = \"gpt-4-turbo-2024-04-09\"\n",
    "\n",
    "reg_text = a_30_5.get_text(\"\")\n",
    "print(\"##############\")\n",
    "print(reg_text)\n",
    "print(\"##############\")\n",
    "\n",
    "model_summary, model_questions = get_summary_and_questions_for(openai_client = openai_client, text = reg_text, model = model)\n",
    "\n",
    "#format output\n",
    "article = sectioned_df.loc[index]['article']\n",
    "print(f'df_summary.loc[index, \"article\"] = \"{article}\"')\n",
    "print(f'df_summary.loc[index, \"text\"] = \"{model_summary}\"')\n",
    "print()\n",
    "print(f'df_questions.loc[index, \"article\"] = \"{article}\"')\n",
    "print(f'df_questions.loc[index, \"text\"] = \"{model_questions}\"')"
   ]
  },
  {
   "cell_type": "code",
   "execution_count": 50,
   "metadata": {},
   "outputs": [
    {
     "data": {
      "text/plain": [
       "\"If you have fewer than 250 employees, you usually don't need to keep a record of processing activities. However, this exemption does not apply if any of the following conditions are met:\\n\\n1. The processing is likely to result in a risk to the rights and freedoms of individuals.\\n2. The processing is not occasional, meaning it is carried out regularly or is part of the regular business.\\n3. The processing involves special categories of data as outlined in Article 9(1), or personal data relating to criminal convictions and offences as referred to in Article 10.\\n\\nIf any one of these conditions is met, you must maintain a record of those processing activities, even if other activities can be exempt under this rule. For instance, regular processing of employee data must be recorded, but occasional processing that poses no risk and does not involve special data categories might not need to be documented.\\n\\nMaintaining a record of processing activities aids in assessing the implications of processing on individual rights and helps identify necessary security measures, fulfilling the accountability principle of the GDPR.\\n\\nAlthough this might introduce a new administrative task, it is generally not considered onerous for micro, small, and medium-sized enterprises. Supervisory Authorities are encouraged to offer support, such as simplified recording templates, to facilitate compliance for smaller organisations.\""
      ]
     },
     "execution_count": 50,
     "metadata": {},
     "output_type": "execute_result"
    }
   ],
   "source": [
    "model_summary"
   ]
  },
  {
   "cell_type": "code",
   "execution_count": 51,
   "metadata": {},
   "outputs": [
    {
     "data": {
      "text/plain": [
       "'What are the record-keeping exceptions for organisations with fewer than 250 employees?|When must smaller organisations maintain a record of processing activities despite the general exception?|What types of processing activities still require record-keeping even for smaller organisations?|How do the rights and freedoms of individuals affect the record-keeping requirements for small organisations?|Why is maintaining a record of processing activities important?|How can national Supervisory Authorities support small to medium-sized enterprises in managing records of processing activities?|What defines occasional processing in the context of GDPR?|What assistance is available for SMEs to manage their record-keeping obligations?|How does the principle of accountability related to record-keeping in GDPR?'"
      ]
     },
     "execution_count": 51,
     "metadata": {},
     "output_type": "execute_result"
    }
   ],
   "source": [
    "model_questions"
   ]
  },
  {
   "cell_type": "code",
   "execution_count": 62,
   "metadata": {},
   "outputs": [],
   "source": [
    "df_summary = pd.DataFrame([], columns = [\"section_reference\", \"text\", \"source\", \"embedding\", \"document\"])\n",
    "df_questions = pd.DataFrame([], columns = [\"section_reference\", \"text\", \"source\", \"embedding\", \"document\"])\n"
   ]
  },
  {
   "cell_type": "code",
   "execution_count": 55,
   "metadata": {},
   "outputs": [
    {
     "name": "stdout",
     "output_type": "stream",
     "text": [
      "df_summary.loc[index, \"document\"] = \"article_30_5\"\n",
      "df_summary.loc[index, \"text\"] = \"If you have fewer than 250 employees, you usually don't need to keep a record of processing activities. However, this exemption does not apply if any of the following conditions are met:\n",
      "\n",
      "1. The processing is likely to result in a risk to the rights and freedoms of individuals.\n",
      "2. The processing is not occasional, meaning it is carried out regularly or is part of the regular business.\n",
      "3. The processing involves special categories of data as outlined in Article 9(1), or personal data relating to criminal convictions and offences as referred to in Article 10.\n",
      "\n",
      "If any one of these conditions is met, you must maintain a record of those processing activities, even if other activities can be exempt under this rule. For instance, regular processing of employee data must be recorded, but occasional processing that poses no risk and does not involve special data categories might not need to be documented.\n",
      "\n",
      "Maintaining a record of processing activities aids in assessing the implications of processing on individual rights and helps identify necessary security measures, fulfilling the accountability principle of the GDPR.\n",
      "\n",
      "Although this might introduce a new administrative task, it is generally not considered onerous for micro, small, and medium-sized enterprises. Supervisory Authorities are encouraged to offer support, such as simplified recording templates, to facilitate compliance for smaller organisations.\"\n",
      "\n",
      "df_questions.loc[index, \"article\"] = \"article_30_5\"\n",
      "df_questions.loc[index, \"text\"] = \"What are the record-keeping exceptions for organisations with fewer than 250 employees?|When must smaller organisations maintain a record of processing activities despite the general exception?|What types of processing activities still require record-keeping even for smaller organisations?|How do the rights and freedoms of individuals affect the record-keeping requirements for small organisations?|Why is maintaining a record of processing activities important?|How can national Supervisory Authorities support small to medium-sized enterprises in managing records of processing activities?|What defines occasional processing in the context of GDPR?|What assistance is available for SMEs to manage their record-keeping obligations?|How does the principle of accountability related to record-keeping in GDPR?\"\n"
     ]
    }
   ],
   "source": [
    "index = 0\n",
    "print(f'df_summary.loc[index, \"document\"] = \"article_30_5\"')\n",
    "print(f'df_summary.loc[index, \"text\"] = \"{model_summary}\"')\n",
    "print()\n",
    "print(f'df_questions.loc[index, \"article\"] = \"article_30_5\"')\n",
    "print(f'df_questions.loc[index, \"text\"] = \"{model_questions}\"')\n"
   ]
  },
  {
   "cell_type": "code",
   "execution_count": 63,
   "metadata": {},
   "outputs": [],
   "source": [
    "df_summary.loc[index, \"document\"] = \"article_30_5\"\n",
    "df_summary.loc[index, \"text\"] = \"If you have fewer than 250 employees, you usually don't need to keep a record of processing activities. However, this exemption does not apply if any of the following conditions are met:\\n\\\n",
    "1. The processing is likely to result in a risk to the rights and freedoms of individuals.\\n\\\n",
    "2. The processing is not occasional, meaning it is carried out regularly or is part of the regular business.\\n\\\n",
    "3. The processing involves special categories of data as outlined in Article 9(1), or personal data relating to criminal convictions and offences as referred to in Article 10.\\n\\\n",
    "If any one of these conditions is met, you must maintain a record of those processing activities, even if other activities can be exempt under this rule. For instance, regular processing of employee data must be recorded, but occasional processing that poses no risk and does not involve special data categories might not need to be documented.\\n\\\n",
    "Maintaining a record of processing activities aids in assessing the implications of processing on individual rights and helps identify necessary security measures, fulfilling the accountability principle of the GDPR.\\n\\\n",
    "Although this might introduce a new administrative task, it is generally not considered onerous for micro, small, and medium-sized enterprises. Supervisory Authorities are encouraged to offer support, such as simplified recording templates, to facilitate compliance for smaller organisations.\"\n",
    "\n",
    "df_questions.loc[index, \"document\"] = \"article_30_5\"\n",
    "df_questions.loc[index, \"text\"] = \"What are the record-keeping exceptions for small organisations?|When must smaller organisations maintain a record of processing activities despite the general exception?|What types of processing activities still require record-keeping even for smaller organisations? |Why is maintaining a record of processing activities important? |What defines occasional processing?|What assistance is available for SMEs to manage their record-keeping obligations?|How does the principle of accountability related to record-keeping in GDPR?\"\n"
   ]
  },
  {
   "cell_type": "code",
   "execution_count": 64,
   "metadata": {},
   "outputs": [],
   "source": [
    "df_questions = df_questions.drop(\"text\", axis=1).join(df_questions[\"text\"].str.split(\"|\", expand=True).stack().reset_index(level=1, drop=True).rename(\"text\"))"
   ]
  },
  {
   "cell_type": "code",
   "execution_count": 67,
   "metadata": {},
   "outputs": [],
   "source": [
    "df_index = pd.concat([df_summary, df_questions], ignore_index = True)"
   ]
  },
  {
   "cell_type": "code",
   "execution_count": 70,
   "metadata": {},
   "outputs": [
    {
     "name": "stdout",
     "output_type": "stream",
     "text": [
      "Completed 10 lines\n"
     ]
    }
   ],
   "source": [
    "from regulations_rag.embeddings import get_ada_embedding\n",
    "model = \"text-embedding-3-large\"\n",
    "dimensions = 1024\n",
    "\n",
    "increment = 10\n",
    "for i in range(0, len(df_index), increment):\n",
    "    chunk = df_index.iloc[i:i+increment].copy()\n",
    "    chunk[\"embedding\"] = chunk[\"text\"].apply(lambda x: get_ada_embedding(openai_client, x, model, dimensions))\n",
    "    df_index.loc[chunk.index, \"embedding\"] = chunk[\"embedding\"]\n",
    "    print(f\"Completed {i+increment} lines\")\n"
   ]
  },
  {
   "cell_type": "code",
   "execution_count": 78,
   "metadata": {},
   "outputs": [],
   "source": [
    "index_df = load_parquet_data(\"../inputs/index_gdpr.parquet\", key)"
   ]
  },
  {
   "cell_type": "code",
   "execution_count": 75,
   "metadata": {},
   "outputs": [],
   "source": [
    "updated_index = pd.concat([index_df, df_index], ignore_index=True)"
   ]
  },
  {
   "cell_type": "code",
   "execution_count": 77,
   "metadata": {},
   "outputs": [],
   "source": [
    "save_parquet_data(updated_index, \"../inputs/index_gdpr.parquet\", key)\n"
   ]
  },
  {
   "cell_type": "code",
   "execution_count": 99,
   "metadata": {},
   "outputs": [
    {
     "data": {
      "text/html": [
       "<div>\n",
       "<style scoped>\n",
       "    .dataframe tbody tr th:only-of-type {\n",
       "        vertical-align: middle;\n",
       "    }\n",
       "\n",
       "    .dataframe tbody tr th {\n",
       "        vertical-align: top;\n",
       "    }\n",
       "\n",
       "    .dataframe thead th {\n",
       "        text-align: right;\n",
       "    }\n",
       "</style>\n",
       "<table border=\"1\" class=\"dataframe\">\n",
       "  <thead>\n",
       "    <tr style=\"text-align: right;\">\n",
       "      <th></th>\n",
       "      <th>section_reference</th>\n",
       "      <th>text</th>\n",
       "      <th>source</th>\n",
       "      <th>embedding</th>\n",
       "      <th>document</th>\n",
       "    </tr>\n",
       "  </thead>\n",
       "  <tbody>\n",
       "    <tr>\n",
       "      <th>147</th>\n",
       "      <td>None</td>\n",
       "      <td>Under what conditions could you be exempt from...</td>\n",
       "      <td>None</td>\n",
       "      <td>[-0.03439036011695862, -0.0008122794097289443,...</td>\n",
       "      <td>article_30_5</td>\n",
       "    </tr>\n",
       "  </tbody>\n",
       "</table>\n",
       "</div>"
      ],
      "text/plain": [
       "    section_reference                                               text  \\\n",
       "147              None  Under what conditions could you be exempt from...   \n",
       "\n",
       "    source                                          embedding      document  \n",
       "147   None  [-0.03439036011695862, -0.0008122794097289443,...  article_30_5  "
      ]
     },
     "execution_count": 99,
     "metadata": {},
     "output_type": "execute_result"
    }
   ],
   "source": [
    "index_df = load_parquet_data(\"../inputs/index_gdpr.parquet\", key)\n",
    "\n",
    "index_df[index_df['text'] == 'Under what conditions could you be exempt from keeping records of your data processing?']\n",
    "\n",
    "\n",
    "# for index, row in index_df[index_df[\"section_reference\"] == '30'].iterrows():\n",
    "#     print(f\"* {row['text']}\")"
   ]
  },
  {
   "cell_type": "code",
   "execution_count": 94,
   "metadata": {},
   "outputs": [],
   "source": [
    "index_df.at[147, \"section_reference\"] = None\n",
    "index_df.at[147, \"source\"] = None\n",
    "index_df.at[147, \"document\"] = \"article_30_5\"\n",
    "\n"
   ]
  },
  {
   "cell_type": "code",
   "execution_count": 96,
   "metadata": {},
   "outputs": [
    {
     "data": {
      "text/html": [
       "<div>\n",
       "<style scoped>\n",
       "    .dataframe tbody tr th:only-of-type {\n",
       "        vertical-align: middle;\n",
       "    }\n",
       "\n",
       "    .dataframe tbody tr th {\n",
       "        vertical-align: top;\n",
       "    }\n",
       "\n",
       "    .dataframe thead th {\n",
       "        text-align: right;\n",
       "    }\n",
       "</style>\n",
       "<table border=\"1\" class=\"dataframe\">\n",
       "  <thead>\n",
       "    <tr style=\"text-align: right;\">\n",
       "      <th></th>\n",
       "      <th>section_reference</th>\n",
       "      <th>text</th>\n",
       "      <th>source</th>\n",
       "      <th>embedding</th>\n",
       "      <th>document</th>\n",
       "    </tr>\n",
       "  </thead>\n",
       "  <tbody>\n",
       "    <tr>\n",
       "      <th>147</th>\n",
       "      <td>None</td>\n",
       "      <td>Under what conditions could you be exempt from...</td>\n",
       "      <td>None</td>\n",
       "      <td>[-0.03439036011695862, -0.0008122794097289443,...</td>\n",
       "      <td>article_30_5</td>\n",
       "    </tr>\n",
       "  </tbody>\n",
       "</table>\n",
       "</div>"
      ],
      "text/plain": [
       "    section_reference                                               text  \\\n",
       "147              None  Under what conditions could you be exempt from...   \n",
       "\n",
       "    source                                          embedding      document  \n",
       "147   None  [-0.03439036011695862, -0.0008122794097289443,...  article_30_5  "
      ]
     },
     "execution_count": 96,
     "metadata": {},
     "output_type": "execute_result"
    }
   ],
   "source": [
    "index_df[index_df['text'] == 'Under what conditions could you be exempt from keeping records of your data processing?']"
   ]
  },
  {
   "cell_type": "code",
   "execution_count": 98,
   "metadata": {},
   "outputs": [],
   "source": [
    "save_parquet_data(index_df, \"../inputs/index_gdpr.parquet\", key)"
   ]
  },
  {
   "cell_type": "code",
   "execution_count": 100,
   "metadata": {},
   "outputs": [
    {
     "data": {
      "text/html": [
       "<div>\n",
       "<style scoped>\n",
       "    .dataframe tbody tr th:only-of-type {\n",
       "        vertical-align: middle;\n",
       "    }\n",
       "\n",
       "    .dataframe tbody tr th {\n",
       "        vertical-align: top;\n",
       "    }\n",
       "\n",
       "    .dataframe thead th {\n",
       "        text-align: right;\n",
       "    }\n",
       "</style>\n",
       "<table border=\"1\" class=\"dataframe\">\n",
       "  <thead>\n",
       "    <tr style=\"text-align: right;\">\n",
       "      <th></th>\n",
       "      <th>section_reference</th>\n",
       "      <th>text</th>\n",
       "      <th>source</th>\n",
       "      <th>embedding</th>\n",
       "      <th>document</th>\n",
       "    </tr>\n",
       "  </thead>\n",
       "  <tbody>\n",
       "    <tr>\n",
       "      <th>147</th>\n",
       "      <td>None</td>\n",
       "      <td>Under what conditions could you be exempt from...</td>\n",
       "      <td>None</td>\n",
       "      <td>[-0.03439036011695862, -0.0008122794097289443,...</td>\n",
       "      <td>article_30_5</td>\n",
       "    </tr>\n",
       "    <tr>\n",
       "      <th>647</th>\n",
       "      <td>None</td>\n",
       "      <td>If you have fewer than 250 employees, you usua...</td>\n",
       "      <td>None</td>\n",
       "      <td>[-0.026084575802087784, 0.014087163843214512, ...</td>\n",
       "      <td>article_30_5</td>\n",
       "    </tr>\n",
       "    <tr>\n",
       "      <th>648</th>\n",
       "      <td>None</td>\n",
       "      <td>What are the record-keeping exceptions for sma...</td>\n",
       "      <td>None</td>\n",
       "      <td>[0.007615841459482908, 0.02034611813724041, -0...</td>\n",
       "      <td>article_30_5</td>\n",
       "    </tr>\n",
       "    <tr>\n",
       "      <th>649</th>\n",
       "      <td>None</td>\n",
       "      <td>When must smaller organisations maintain a rec...</td>\n",
       "      <td>None</td>\n",
       "      <td>[0.00046261242823675275, 0.006825227290391922,...</td>\n",
       "      <td>article_30_5</td>\n",
       "    </tr>\n",
       "    <tr>\n",
       "      <th>650</th>\n",
       "      <td>None</td>\n",
       "      <td>What types of processing activities still requ...</td>\n",
       "      <td>None</td>\n",
       "      <td>[0.011152287945151329, 0.021851062774658203, -...</td>\n",
       "      <td>article_30_5</td>\n",
       "    </tr>\n",
       "    <tr>\n",
       "      <th>651</th>\n",
       "      <td>None</td>\n",
       "      <td>Why is maintaining a record of processing acti...</td>\n",
       "      <td>None</td>\n",
       "      <td>[-0.011760201305150986, -0.011568896472454071,...</td>\n",
       "      <td>article_30_5</td>\n",
       "    </tr>\n",
       "    <tr>\n",
       "      <th>652</th>\n",
       "      <td>None</td>\n",
       "      <td>What defines occasional processing?</td>\n",
       "      <td>None</td>\n",
       "      <td>[-0.0750560611486435, 0.04036270081996918, -0....</td>\n",
       "      <td>article_30_5</td>\n",
       "    </tr>\n",
       "    <tr>\n",
       "      <th>653</th>\n",
       "      <td>None</td>\n",
       "      <td>What assistance is available for SMEs to manag...</td>\n",
       "      <td>None</td>\n",
       "      <td>[0.011198482476174831, 0.03537283092737198, -0...</td>\n",
       "      <td>article_30_5</td>\n",
       "    </tr>\n",
       "    <tr>\n",
       "      <th>654</th>\n",
       "      <td>None</td>\n",
       "      <td>How does the principle of accountability relat...</td>\n",
       "      <td>None</td>\n",
       "      <td>[-0.045358121395111084, -0.04111029952764511, ...</td>\n",
       "      <td>article_30_5</td>\n",
       "    </tr>\n",
       "  </tbody>\n",
       "</table>\n",
       "</div>"
      ],
      "text/plain": [
       "    section_reference                                               text  \\\n",
       "147              None  Under what conditions could you be exempt from...   \n",
       "647              None  If you have fewer than 250 employees, you usua...   \n",
       "648              None  What are the record-keeping exceptions for sma...   \n",
       "649              None  When must smaller organisations maintain a rec...   \n",
       "650              None  What types of processing activities still requ...   \n",
       "651              None  Why is maintaining a record of processing acti...   \n",
       "652              None                What defines occasional processing?   \n",
       "653              None  What assistance is available for SMEs to manag...   \n",
       "654              None  How does the principle of accountability relat...   \n",
       "\n",
       "    source                                          embedding      document  \n",
       "147   None  [-0.03439036011695862, -0.0008122794097289443,...  article_30_5  \n",
       "647   None  [-0.026084575802087784, 0.014087163843214512, ...  article_30_5  \n",
       "648   None  [0.007615841459482908, 0.02034611813724041, -0...  article_30_5  \n",
       "649   None  [0.00046261242823675275, 0.006825227290391922,...  article_30_5  \n",
       "650   None  [0.011152287945151329, 0.021851062774658203, -...  article_30_5  \n",
       "651   None  [-0.011760201305150986, -0.011568896472454071,...  article_30_5  \n",
       "652   None  [-0.0750560611486435, 0.04036270081996918, -0....  article_30_5  \n",
       "653   None  [0.011198482476174831, 0.03537283092737198, -0...  article_30_5  \n",
       "654   None  [-0.045358121395111084, -0.04111029952764511, ...  article_30_5  "
      ]
     },
     "execution_count": 100,
     "metadata": {},
     "output_type": "execute_result"
    }
   ],
   "source": [
    "index_df[index_df['document'] == \"article_30_5\"]"
   ]
  },
  {
   "cell_type": "code",
   "execution_count": null,
   "metadata": {},
   "outputs": [],
   "source": []
  }
 ],
 "metadata": {
  "kernelspec": {
   "display_name": "Python 3.10.4 ('env': venv)",
   "language": "python",
   "name": "python3"
  },
  "language_info": {
   "codemirror_mode": {
    "name": "ipython",
    "version": 3
   },
   "file_extension": ".py",
   "mimetype": "text/x-python",
   "name": "python",
   "nbconvert_exporter": "python",
   "pygments_lexer": "ipython3",
   "version": "3.10.4"
  },
  "orig_nbformat": 4,
  "vscode": {
   "interpreter": {
    "hash": "20591bc9273590117cdd0f52559c248ef39f0181da66e3521068e03aa47654cd"
   }
  }
 },
 "nbformat": 4,
 "nbformat_minor": 2
}
