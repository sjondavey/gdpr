{
 "cells": [
  {
   "cell_type": "code",
   "execution_count": 1,
   "metadata": {},
   "outputs": [],
   "source": [
    "import logging\n",
    "log_level = 25\n",
    "logging.basicConfig(level=log_level) # root logger\n"
   ]
  },
  {
   "cell_type": "code",
   "execution_count": 2,
   "metadata": {},
   "outputs": [],
   "source": [
    "import re\n",
    "import pandas as pd\n",
    "\n",
    "import sys\n",
    "sys.path.append('E:/Code/chat/gdpr')\n",
    "\n",
    "import os\n",
    "file_name = '../../inputs/documents/article_30_5.csv'\n",
    "paper_name = 'WORKING PARTY 29 POSITION PAPER on the derogations from the obligation to maintain records of processing activities pursuant to Article 30(5) GDPR'\n"
   ]
  },
  {
   "cell_type": "code",
   "execution_count": 3,
   "metadata": {},
   "outputs": [],
   "source": [
    "from regulations_rag.reference_checker import EmptyReferenceChecker\n",
    "\n",
    "no_index = EmptyReferenceChecker()"
   ]
  },
  {
   "cell_type": "code",
   "execution_count": 4,
   "metadata": {},
   "outputs": [
    {
     "data": {
      "text/plain": [
       "True"
      ]
     },
     "execution_count": 4,
     "metadata": {},
     "output_type": "execute_result"
    }
   ],
   "source": [
    "no_index.is_valid(\"\")"
   ]
  },
  {
   "cell_type": "code",
   "execution_count": 5,
   "metadata": {},
   "outputs": [
    {
     "name": "stdout",
     "output_type": "stream",
     "text": [
      "Entire document\n"
     ]
    }
   ],
   "source": [
    "import importlib\n",
    "import gdpr_rag.documents.article_30_5\n",
    "importlib.reload(gdpr_rag.documents.article_30_5)\n",
    "from gdpr_rag.documents.article_30_5 import Article_30_5\n",
    "\n",
    "doc = Article_30_5(file_name)\n",
    "\n",
    "#print(doc.get_text(\"\"))\n",
    "print(doc.get_heading(\"\"))"
   ]
  },
  {
   "cell_type": "code",
   "execution_count": 6,
   "metadata": {},
   "outputs": [],
   "source": [
    "toc = doc.get_toc()"
   ]
  },
  {
   "cell_type": "code",
   "execution_count": 8,
   "metadata": {},
   "outputs": [
    {
     "name": "stdout",
     "output_type": "stream",
     "text": [
      "WORKING PARTY 29 POSITION PAPER on the derogations from the obligation to maintain records of processing activities pursuant to Article 30(5) GDPR []\n"
     ]
    }
   ],
   "source": [
    "toc.print_tree()"
   ]
  },
  {
   "cell_type": "code",
   "execution_count": 21,
   "metadata": {},
   "outputs": [],
   "source": [
    "import os\n",
    "from regulations_rag.standard_regulation_index import load_parquet_data, save_parquet_data\n",
    "key = os.getenv('encryption_key_gdpr')\n",
    "#index_df = load_parquet_data(\"../inputs/index_gdpr.parquet\", key)"
   ]
  },
  {
   "cell_type": "code",
   "execution_count": 7,
   "metadata": {},
   "outputs": [],
   "source": [
    "from openai import OpenAI\n",
    "openai_client = OpenAI(api_key=os.environ.get(\"OPENAI_API_KEY\"),)\n",
    "\n",
    "import src.summarise_and_question\n",
    "importlib.reload(src.summarise_and_question)\n",
    "from src.summarise_and_question import get_summary_and_questions_for\n"
   ]
  },
  {
   "cell_type": "code",
   "execution_count": 49,
   "metadata": {},
   "outputs": [
    {
     "name": "stdout",
     "output_type": "stream",
     "text": [
      "##############\n",
      "\n",
      "The Working Party 29 has examined the obligation, under Article 30 of the GDPR, for controllers and processors to maintain a record of processing activities. This paper sets out the WP29's position on the derogation from this obligation. Recital 13 of the GDPR says:\n",
      "'To take account of the specific situation of micro, small and medium-sized enterprises, this Regulation includes a derogation for organisations with fewer than 250 employees with regard to record-keeping'.\n",
      "Article 30(5) gives effect to Recital 13. It says that the obligation to keep a record of processing activities does not apply 'to an enterprise or an organisation employing fewer than 250 persons unless the processing it carries out is likely to result in a risk to the rights and freedoms of data subjects, the processing is not occasional, or the processing includes special categories of data as referred to in Article 9(1) or personal data relating to criminal convictions and offences referred to in Article 10.' Some clarifications on the interpretation of this provision appear necessary, as shown by the high number of requests coming from companies and received in the last few months by national Supervisory Authorities.\n",
      "The derogation provided by Article 30(5) is not absolute. There are three types of processing to which it does not apply. These are:\n",
      "·         Processing that is likely to result in a risk to the rights and freedoms of data subjects.\n",
      "·         Processing that is not occasional.\n",
      "·         Processing that includes special categories of data or personal data relating to criminal convictions and offences.\n",
      "\n",
      "The WP29 underlines that the wording of Article 30(5) is clear in providing that the three types of processing to which the derogation does not apply are alternative (\"or\") and the occurrence of any one of them alone triggers the obligation to maintain the record of processing activities.\n",
      "Therefore, although endowed with less than 250 employees, data controllers or processors who find themselves in the position of either carrying out processing likely to result in a risk (not just a high risk) to the rights of the data subjects, or processing personal data on a non-occasional basis, or processing special categories of data under Article 9(1) or data relating to criminal convictions under Article 10 are obliged to maintain the record of processing activities. \n",
      "However, such organisations need only maintain records of processing activities for the types of processing mentioned by Article 30(5).\n",
      "For example, a small organisation is likely to regularly process data regarding its employees. As a result, such processing cannot be considered \"occasional\" and must therefore be included in the record of processing activities.1 Other processing activities which are in fact \"occasional\", however, do not need to be included in the record of processing activities, provided they are unlikely to result in a risk to the right and freedoms of data subjects and do not involve special categories of data or personal data relating to criminal convictions and offences.\n",
      "The WP29 highlights that the record of processing activities is a very useful means to support an analysis of the implications of any processing whether existing or planned. The record facilitates the factual assessment of the risk of the processing activities performed by a controller or processor on individuals' rights, and the identification and implementation of appropriate security measures to safeguard personal data – both key components of the principle of accountability contained in the GDPR.\n",
      "For many micro, small and medium-sized organisations, maintaining a record of processing activities is unlikely to constitute a particularly heavy burden. However, the WP29 recognises that Article 30 represents a new administrative requirement for controllers and processors, and therefore encourages national Supervisory Authorities to support SMEs by providing tools to facilitate the set up and management of records of processing activities. For example, a Supervisory Authority might make available on its website a simplified model that can be used by SMEs to keep records of processing activities not covered by the derogation in Article 30(5).\n",
      "\n",
      "\n",
      "1 The WP29 considers that a processing activity can only be considered as \"occasional\" if it is not carried out regularly, and occurs outside the regular course of business or activity of the controller or processor. See WP29 Guidelines on Article 49 of Regulation 2016/679 (WP262). \n",
      "\n",
      "##############\n"
     ]
    },
    {
     "ename": "NameError",
     "evalue": "name 'sectioned_df' is not defined",
     "output_type": "error",
     "traceback": [
      "\u001b[1;31m---------------------------------------------------------------------------\u001b[0m",
      "\u001b[1;31mNameError\u001b[0m                                 Traceback (most recent call last)",
      "Cell \u001b[1;32mIn[49], line 14\u001b[0m\n\u001b[0;32m     11\u001b[0m model_summary, model_questions \u001b[38;5;241m=\u001b[39m get_summary_and_questions_for(openai_client \u001b[38;5;241m=\u001b[39m openai_client, text \u001b[38;5;241m=\u001b[39m reg_text, model \u001b[38;5;241m=\u001b[39m model)\n\u001b[0;32m     13\u001b[0m \u001b[38;5;66;03m#format output\u001b[39;00m\n\u001b[1;32m---> 14\u001b[0m article \u001b[38;5;241m=\u001b[39m \u001b[43msectioned_df\u001b[49m\u001b[38;5;241m.\u001b[39mloc[index][\u001b[38;5;124m'\u001b[39m\u001b[38;5;124marticle\u001b[39m\u001b[38;5;124m'\u001b[39m]\n\u001b[0;32m     15\u001b[0m \u001b[38;5;28mprint\u001b[39m(\u001b[38;5;124mf\u001b[39m\u001b[38;5;124m'\u001b[39m\u001b[38;5;124mdf_summary.loc[index, \u001b[39m\u001b[38;5;124m\"\u001b[39m\u001b[38;5;124marticle\u001b[39m\u001b[38;5;124m\"\u001b[39m\u001b[38;5;124m] = \u001b[39m\u001b[38;5;124m\"\u001b[39m\u001b[38;5;132;01m{\u001b[39;00marticle\u001b[38;5;132;01m}\u001b[39;00m\u001b[38;5;124m\"\u001b[39m\u001b[38;5;124m'\u001b[39m)\n\u001b[0;32m     16\u001b[0m \u001b[38;5;28mprint\u001b[39m(\u001b[38;5;124mf\u001b[39m\u001b[38;5;124m'\u001b[39m\u001b[38;5;124mdf_summary.loc[index, \u001b[39m\u001b[38;5;124m\"\u001b[39m\u001b[38;5;124mtext\u001b[39m\u001b[38;5;124m\"\u001b[39m\u001b[38;5;124m] = \u001b[39m\u001b[38;5;124m\"\u001b[39m\u001b[38;5;132;01m{\u001b[39;00mmodel_summary\u001b[38;5;132;01m}\u001b[39;00m\u001b[38;5;124m\"\u001b[39m\u001b[38;5;124m'\u001b[39m)\n",
      "\u001b[1;31mNameError\u001b[0m: name 'sectioned_df' is not defined"
     ]
    }
   ],
   "source": [
    "#model = \"gpt-3.5-turbo\"\n",
    "#model=\"gpt-4\"\n",
    "model = \"gpt-4-0125-preview\"\n",
    "model = \"gpt-4-turbo-2024-04-09\"\n",
    "\n",
    "reg_text = a_30_5.get_text(\"\")\n",
    "print(\"##############\")\n",
    "print(reg_text)\n",
    "print(\"##############\")\n",
    "\n",
    "model_summary, model_questions = get_summary_and_questions_for(openai_client = openai_client, text = reg_text, model = model)\n",
    "\n",
    "#format output\n",
    "article = sectioned_df.loc[index]['article']\n",
    "print(f'df_summary.loc[index, \"article\"] = \"{article}\"')\n",
    "print(f'df_summary.loc[index, \"text\"] = \"{model_summary}\"')\n",
    "print()\n",
    "print(f'df_questions.loc[index, \"article\"] = \"{article}\"')\n",
    "print(f'df_questions.loc[index, \"text\"] = \"{model_questions}\"')"
   ]
  },
  {
   "cell_type": "code",
   "execution_count": 8,
   "metadata": {},
   "outputs": [
    {
     "data": {
      "text/plain": [
       "\"If you have fewer than 250 employees, you usually don't need to keep a record of processing activities. However, this exemption does not apply if any of the following conditions are met:\\n\\n1. The processing is likely to result in a risk to the rights and freedoms of individuals.\\n2. The processing is not occasional, meaning it is carried out regularly or is part of the regular business.\\n3. The processing involves special categories of data as outlined in Article 9(1), or personal data relating to criminal convictions and offences as referred to in Article 10.\\n\\nIf any one of these conditions is met, you must maintain a record of those processing activities, even if other activities can be exempt under this rule. For instance, regular processing of employee data must be recorded, but occasional processing that poses no risk and does not involve special data categories might not need to be documented.\\n\\nMaintaining a record of processing activities aids in assessing the implications of processing on individual rights and helps identify necessary security measures, fulfilling the accountability principle of the GDPR.\\n\\nAlthough this might introduce a new administrative task, it is generally not considered onerous for micro, small, and medium-sized enterprises. Supervisory Authorities are encouraged to offer support, such as simplified recording templates, to facilitate compliance for smaller organisations.\""
      ]
     },
     "execution_count": 8,
     "metadata": {},
     "output_type": "execute_result"
    }
   ],
   "source": [
    "model_summary = \"If you have fewer than 250 employees, you usually don't need to keep a record of processing activities. However, this exemption does not apply if any of the following conditions are met:\\n\\n1. The processing is likely to result in a risk to the rights and freedoms of individuals.\\n2. The processing is not occasional, meaning it is carried out regularly or is part of the regular business.\\n3. The processing involves special categories of data as outlined in Article 9(1), or personal data relating to criminal convictions and offences as referred to in Article 10.\\n\\nIf any one of these conditions is met, you must maintain a record of those processing activities, even if other activities can be exempt under this rule. For instance, regular processing of employee data must be recorded, but occasional processing that poses no risk and does not involve special data categories might not need to be documented.\\n\\nMaintaining a record of processing activities aids in assessing the implications of processing on individual rights and helps identify necessary security measures, fulfilling the accountability principle of the GDPR.\\n\\nAlthough this might introduce a new administrative task, it is generally not considered onerous for micro, small, and medium-sized enterprises. Supervisory Authorities are encouraged to offer support, such as simplified recording templates, to facilitate compliance for smaller organisations.\"\n",
    "model_summary"
   ]
  },
  {
   "cell_type": "code",
   "execution_count": 51,
   "metadata": {},
   "outputs": [
    {
     "data": {
      "text/plain": [
       "'What are the record-keeping exceptions for organisations with fewer than 250 employees?|When must smaller organisations maintain a record of processing activities despite the general exception?|What types of processing activities still require record-keeping even for smaller organisations?|How do the rights and freedoms of individuals affect the record-keeping requirements for small organisations?|Why is maintaining a record of processing activities important?|How can national Supervisory Authorities support small to medium-sized enterprises in managing records of processing activities?|What defines occasional processing in the context of GDPR?|What assistance is available for SMEs to manage their record-keeping obligations?|How does the principle of accountability related to record-keeping in GDPR?'"
      ]
     },
     "execution_count": 51,
     "metadata": {},
     "output_type": "execute_result"
    }
   ],
   "source": [
    "model_questions = "
   ]
  },
  {
   "cell_type": "code",
   "execution_count": 9,
   "metadata": {},
   "outputs": [],
   "source": [
    "df_summary = pd.DataFrame([], columns = [\"section_reference\", \"text\", \"source\", \"embedding\", \"document\"])\n",
    "\n",
    "df_questions = pd.DataFrame([], columns = [\"section_reference\", \"text\", \"source\", \"embedding\", \"document\"])\n"
   ]
  },
  {
   "cell_type": "code",
   "execution_count": 55,
   "metadata": {},
   "outputs": [
    {
     "name": "stdout",
     "output_type": "stream",
     "text": [
      "df_summary.loc[index, \"document\"] = \"article_30_5\"\n",
      "df_summary.loc[index, \"text\"] = \"If you have fewer than 250 employees, you usually don't need to keep a record of processing activities. However, this exemption does not apply if any of the following conditions are met:\n",
      "\n",
      "1. The processing is likely to result in a risk to the rights and freedoms of individuals.\n",
      "2. The processing is not occasional, meaning it is carried out regularly or is part of the regular business.\n",
      "3. The processing involves special categories of data as outlined in Article 9(1), or personal data relating to criminal convictions and offences as referred to in Article 10.\n",
      "\n",
      "If any one of these conditions is met, you must maintain a record of those processing activities, even if other activities can be exempt under this rule. For instance, regular processing of employee data must be recorded, but occasional processing that poses no risk and does not involve special data categories might not need to be documented.\n",
      "\n",
      "Maintaining a record of processing activities aids in assessing the implications of processing on individual rights and helps identify necessary security measures, fulfilling the accountability principle of the GDPR.\n",
      "\n",
      "Although this might introduce a new administrative task, it is generally not considered onerous for micro, small, and medium-sized enterprises. Supervisory Authorities are encouraged to offer support, such as simplified recording templates, to facilitate compliance for smaller organisations.\"\n",
      "\n",
      "df_questions.loc[index, \"article\"] = \"article_30_5\"\n",
      "df_questions.loc[index, \"text\"] = \"What are the record-keeping exceptions for organisations with fewer than 250 employees?|When must smaller organisations maintain a record of processing activities despite the general exception?|What types of processing activities still require record-keeping even for smaller organisations?|How do the rights and freedoms of individuals affect the record-keeping requirements for small organisations?|Why is maintaining a record of processing activities important?|How can national Supervisory Authorities support small to medium-sized enterprises in managing records of processing activities?|What defines occasional processing in the context of GDPR?|What assistance is available for SMEs to manage their record-keeping obligations?|How does the principle of accountability related to record-keeping in GDPR?\"\n"
     ]
    }
   ],
   "source": [
    "index = 0\n",
    "print(f'df_summary.loc[index, \"document\"] = \"article_30_5\"')\n",
    "print(f'df_summary.loc[index, \"text\"] = \"{model_summary}\"')\n",
    "print()\n",
    "print(f'df_questions.loc[index, \"article\"] = \"article_30_5\"')\n",
    "print(f'df_questions.loc[index, \"text\"] = \"{model_questions}\"')\n"
   ]
  },
  {
   "cell_type": "code",
   "execution_count": 11,
   "metadata": {},
   "outputs": [],
   "source": [
    "index = 0\n",
    "df_summary.loc[index, \"document\"] = \"article_30_5\"\n",
    "df_summary.loc[index, \"text\"] = \"If you have fewer than 250 employees, you usually don't need to keep a record of processing activities. However, this exemption does not apply if any of the following conditions are met:\\n\\\n",
    "1. The processing is likely to result in a risk to the rights and freedoms of individuals.\\n\\\n",
    "2. The processing is not occasional, meaning it is carried out regularly or is part of the regular business.\\n\\\n",
    "3. The processing involves special categories of data as outlined in Article 9(1), or personal data relating to criminal convictions and offences as referred to in Article 10.\\n\\\n",
    "If any one of these conditions is met, you must maintain a record of those processing activities, even if other activities can be exempt under this rule. For instance, regular processing of employee data must be recorded, but occasional processing that poses no risk and does not involve special data categories might not need to be documented.\\n\\\n",
    "Maintaining a record of processing activities aids in assessing the implications of processing on individual rights and helps identify necessary security measures, fulfilling the accountability principle of the GDPR.\\n\\\n",
    "Although this might introduce a new administrative task, it is generally not considered onerous for micro, small, and medium-sized enterprises. Supervisory Authorities are encouraged to offer support, such as simplified recording templates, to facilitate compliance for smaller organisations.\"\n",
    "\n",
    "df_questions.loc[index, \"document\"] = \"article_30_5\"\n",
    "df_questions.loc[index, \"text\"] = \"What are the record-keeping exceptions for small organisations?|When must smaller organisations maintain a record of processing activities despite the general exception?|What types of processing activities still require record-keeping even for smaller organisations? |Why is maintaining a record of processing activities important? |What defines occasional processing?|What assistance is available for SMEs to manage their record-keeping obligations?|How does the principle of accountability related to record-keeping in GDPR?\"\n"
   ]
  },
  {
   "cell_type": "code",
   "execution_count": 12,
   "metadata": {},
   "outputs": [],
   "source": [
    "df_questions = df_questions.drop(\"text\", axis=1).join(df_questions[\"text\"].str.split(\"|\", expand=True).stack().reset_index(level=1, drop=True).rename(\"text\"))"
   ]
  },
  {
   "cell_type": "code",
   "execution_count": 15,
   "metadata": {},
   "outputs": [],
   "source": [
    "df_summary[\"source\"] = \"summary\"\n",
    "df_summary[\"section_reference\"] = \"all\"\n",
    "df_questions[\"source\"] = \"questions\"\n",
    "df_questions[\"section_reference\"] = \"all\"\n"
   ]
  },
  {
   "cell_type": "code",
   "execution_count": 16,
   "metadata": {},
   "outputs": [],
   "source": [
    "df_index = pd.concat([df_summary, df_questions], ignore_index = True)"
   ]
  },
  {
   "cell_type": "code",
   "execution_count": 19,
   "metadata": {},
   "outputs": [
    {
     "data": {
      "text/html": [
       "<div>\n",
       "<style scoped>\n",
       "    .dataframe tbody tr th:only-of-type {\n",
       "        vertical-align: middle;\n",
       "    }\n",
       "\n",
       "    .dataframe tbody tr th {\n",
       "        vertical-align: top;\n",
       "    }\n",
       "\n",
       "    .dataframe thead th {\n",
       "        text-align: right;\n",
       "    }\n",
       "</style>\n",
       "<table border=\"1\" class=\"dataframe\">\n",
       "  <thead>\n",
       "    <tr style=\"text-align: right;\">\n",
       "      <th></th>\n",
       "      <th>section_reference</th>\n",
       "      <th>text</th>\n",
       "      <th>source</th>\n",
       "      <th>embedding</th>\n",
       "      <th>document</th>\n",
       "    </tr>\n",
       "  </thead>\n",
       "  <tbody>\n",
       "    <tr>\n",
       "      <th>0</th>\n",
       "      <td>all</td>\n",
       "      <td>If you have fewer than 250 employees, you usua...</td>\n",
       "      <td>summary</td>\n",
       "      <td>[-0.026057356968522072, 0.014008629135787487, ...</td>\n",
       "      <td>article_30_5</td>\n",
       "    </tr>\n",
       "    <tr>\n",
       "      <th>1</th>\n",
       "      <td>all</td>\n",
       "      <td>What are the record-keeping exceptions for sma...</td>\n",
       "      <td>questions</td>\n",
       "      <td>[0.007615841459482908, 0.02034611813724041, -0...</td>\n",
       "      <td>article_30_5</td>\n",
       "    </tr>\n",
       "    <tr>\n",
       "      <th>2</th>\n",
       "      <td>all</td>\n",
       "      <td>When must smaller organisations maintain a rec...</td>\n",
       "      <td>questions</td>\n",
       "      <td>[0.00046261242823675275, 0.006825227290391922,...</td>\n",
       "      <td>article_30_5</td>\n",
       "    </tr>\n",
       "    <tr>\n",
       "      <th>3</th>\n",
       "      <td>all</td>\n",
       "      <td>What types of processing activities still requ...</td>\n",
       "      <td>questions</td>\n",
       "      <td>[0.011152287945151329, 0.021851062774658203, -...</td>\n",
       "      <td>article_30_5</td>\n",
       "    </tr>\n",
       "    <tr>\n",
       "      <th>4</th>\n",
       "      <td>all</td>\n",
       "      <td>Why is maintaining a record of processing acti...</td>\n",
       "      <td>questions</td>\n",
       "      <td>[-0.011836612597107887, -0.011333354748785496,...</td>\n",
       "      <td>article_30_5</td>\n",
       "    </tr>\n",
       "    <tr>\n",
       "      <th>5</th>\n",
       "      <td>all</td>\n",
       "      <td>What defines occasional processing?</td>\n",
       "      <td>questions</td>\n",
       "      <td>[-0.0750560611486435, 0.04036270081996918, -0....</td>\n",
       "      <td>article_30_5</td>\n",
       "    </tr>\n",
       "    <tr>\n",
       "      <th>6</th>\n",
       "      <td>all</td>\n",
       "      <td>What assistance is available for SMEs to manag...</td>\n",
       "      <td>questions</td>\n",
       "      <td>[0.011198482476174831, 0.03537283092737198, -0...</td>\n",
       "      <td>article_30_5</td>\n",
       "    </tr>\n",
       "    <tr>\n",
       "      <th>7</th>\n",
       "      <td>all</td>\n",
       "      <td>How does the principle of accountability relat...</td>\n",
       "      <td>questions</td>\n",
       "      <td>[-0.045358121395111084, -0.04111029952764511, ...</td>\n",
       "      <td>article_30_5</td>\n",
       "    </tr>\n",
       "  </tbody>\n",
       "</table>\n",
       "</div>"
      ],
      "text/plain": [
       "  section_reference                                               text  \\\n",
       "0               all  If you have fewer than 250 employees, you usua...   \n",
       "1               all  What are the record-keeping exceptions for sma...   \n",
       "2               all  When must smaller organisations maintain a rec...   \n",
       "3               all  What types of processing activities still requ...   \n",
       "4               all  Why is maintaining a record of processing acti...   \n",
       "5               all                What defines occasional processing?   \n",
       "6               all  What assistance is available for SMEs to manag...   \n",
       "7               all  How does the principle of accountability relat...   \n",
       "\n",
       "      source                                          embedding      document  \n",
       "0    summary  [-0.026057356968522072, 0.014008629135787487, ...  article_30_5  \n",
       "1  questions  [0.007615841459482908, 0.02034611813724041, -0...  article_30_5  \n",
       "2  questions  [0.00046261242823675275, 0.006825227290391922,...  article_30_5  \n",
       "3  questions  [0.011152287945151329, 0.021851062774658203, -...  article_30_5  \n",
       "4  questions  [-0.011836612597107887, -0.011333354748785496,...  article_30_5  \n",
       "5  questions  [-0.0750560611486435, 0.04036270081996918, -0....  article_30_5  \n",
       "6  questions  [0.011198482476174831, 0.03537283092737198, -0...  article_30_5  \n",
       "7  questions  [-0.045358121395111084, -0.04111029952764511, ...  article_30_5  "
      ]
     },
     "execution_count": 19,
     "metadata": {},
     "output_type": "execute_result"
    }
   ],
   "source": [
    "df_index"
   ]
  },
  {
   "cell_type": "code",
   "execution_count": 18,
   "metadata": {},
   "outputs": [
    {
     "name": "stdout",
     "output_type": "stream",
     "text": [
      "Completed 10 lines\n"
     ]
    }
   ],
   "source": [
    "from regulations_rag.embeddings import get_ada_embedding\n",
    "model = \"text-embedding-3-large\"\n",
    "dimensions = 1024\n",
    "\n",
    "increment = 10\n",
    "for i in range(0, len(df_index), increment):\n",
    "    chunk = df_index.iloc[i:i+increment].copy()\n",
    "    chunk[\"embedding\"] = chunk[\"text\"].apply(lambda x: get_ada_embedding(openai_client, x, model, dimensions))\n",
    "    df_index.loc[chunk.index, \"embedding\"] = chunk[\"embedding\"]\n",
    "    print(f\"Completed {i+increment} lines\")\n"
   ]
  },
  {
   "cell_type": "code",
   "execution_count": 22,
   "metadata": {},
   "outputs": [],
   "source": [
    "file = \"../inputs/index/article_30_5.parquet\"\n",
    "# df_index.to_parquet(file, engine = \"pyarrow\")\n",
    "save_parquet_data(df_index, file, key)\n"
   ]
  },
  {
   "cell_type": "code",
   "execution_count": 25,
   "metadata": {},
   "outputs": [
    {
     "data": {
      "text/html": [
       "<div>\n",
       "<style scoped>\n",
       "    .dataframe tbody tr th:only-of-type {\n",
       "        vertical-align: middle;\n",
       "    }\n",
       "\n",
       "    .dataframe tbody tr th {\n",
       "        vertical-align: top;\n",
       "    }\n",
       "\n",
       "    .dataframe thead th {\n",
       "        text-align: right;\n",
       "    }\n",
       "</style>\n",
       "<table border=\"1\" class=\"dataframe\">\n",
       "  <thead>\n",
       "    <tr style=\"text-align: right;\">\n",
       "      <th></th>\n",
       "      <th>text</th>\n",
       "      <th>embedding</th>\n",
       "      <th>source</th>\n",
       "      <th>section_reference</th>\n",
       "      <th>document</th>\n",
       "    </tr>\n",
       "  </thead>\n",
       "  <tbody>\n",
       "    <tr>\n",
       "      <th>147</th>\n",
       "      <td>Under what conditions could you be exempt from...</td>\n",
       "      <td>[-0.03439036011695862, -0.0008122794097289443,...</td>\n",
       "      <td>question</td>\n",
       "      <td>30</td>\n",
       "      <td>gdpr</td>\n",
       "    </tr>\n",
       "  </tbody>\n",
       "</table>\n",
       "</div>"
      ],
      "text/plain": [
       "                                                  text  \\\n",
       "147  Under what conditions could you be exempt from...   \n",
       "\n",
       "                                             embedding    source  \\\n",
       "147  [-0.03439036011695862, -0.0008122794097289443,...  question   \n",
       "\n",
       "    section_reference document  \n",
       "147                30     gdpr  "
      ]
     },
     "execution_count": 25,
     "metadata": {},
     "output_type": "execute_result"
    }
   ],
   "source": [
    "index_df = load_parquet_data(\"../inputs/index/gdpr.parquet\", key)\n",
    "\n",
    "index_df[index_df['text'] == 'Under what conditions could you be exempt from keeping records of your data processing?']\n",
    "\n",
    "\n",
    "# for index, row in index_df[index_df[\"section_reference\"] == '30'].iterrows():\n",
    "#     print(f\"* {row['text']}\")"
   ]
  },
  {
   "cell_type": "code",
   "execution_count": 28,
   "metadata": {},
   "outputs": [],
   "source": [
    "index_df.at[147, \"section_reference\"] = \"all\"\n",
    "index_df.at[147, \"source\"] = \"question\"\n",
    "index_df.at[147, \"document\"] = \"article_30_5\"\n",
    "\n"
   ]
  },
  {
   "cell_type": "code",
   "execution_count": 29,
   "metadata": {},
   "outputs": [
    {
     "data": {
      "text/html": [
       "<div>\n",
       "<style scoped>\n",
       "    .dataframe tbody tr th:only-of-type {\n",
       "        vertical-align: middle;\n",
       "    }\n",
       "\n",
       "    .dataframe tbody tr th {\n",
       "        vertical-align: top;\n",
       "    }\n",
       "\n",
       "    .dataframe thead th {\n",
       "        text-align: right;\n",
       "    }\n",
       "</style>\n",
       "<table border=\"1\" class=\"dataframe\">\n",
       "  <thead>\n",
       "    <tr style=\"text-align: right;\">\n",
       "      <th></th>\n",
       "      <th>text</th>\n",
       "      <th>embedding</th>\n",
       "      <th>source</th>\n",
       "      <th>section_reference</th>\n",
       "      <th>document</th>\n",
       "    </tr>\n",
       "  </thead>\n",
       "  <tbody>\n",
       "    <tr>\n",
       "      <th>147</th>\n",
       "      <td>Under what conditions could you be exempt from...</td>\n",
       "      <td>[-0.03439036011695862, -0.0008122794097289443,...</td>\n",
       "      <td>question</td>\n",
       "      <td>all</td>\n",
       "      <td>article_30_5</td>\n",
       "    </tr>\n",
       "  </tbody>\n",
       "</table>\n",
       "</div>"
      ],
      "text/plain": [
       "                                                  text  \\\n",
       "147  Under what conditions could you be exempt from...   \n",
       "\n",
       "                                             embedding    source  \\\n",
       "147  [-0.03439036011695862, -0.0008122794097289443,...  question   \n",
       "\n",
       "    section_reference      document  \n",
       "147               all  article_30_5  "
      ]
     },
     "execution_count": 29,
     "metadata": {},
     "output_type": "execute_result"
    }
   ],
   "source": [
    "index_df[index_df['text'] == 'Under what conditions could you be exempt from keeping records of your data processing?']"
   ]
  },
  {
   "cell_type": "code",
   "execution_count": 30,
   "metadata": {},
   "outputs": [],
   "source": [
    "save_parquet_data(index_df, \"../inputs/index/gdpr.parquet\", key)"
   ]
  },
  {
   "cell_type": "code",
   "execution_count": 31,
   "metadata": {},
   "outputs": [
    {
     "data": {
      "text/html": [
       "<div>\n",
       "<style scoped>\n",
       "    .dataframe tbody tr th:only-of-type {\n",
       "        vertical-align: middle;\n",
       "    }\n",
       "\n",
       "    .dataframe tbody tr th {\n",
       "        vertical-align: top;\n",
       "    }\n",
       "\n",
       "    .dataframe thead th {\n",
       "        text-align: right;\n",
       "    }\n",
       "</style>\n",
       "<table border=\"1\" class=\"dataframe\">\n",
       "  <thead>\n",
       "    <tr style=\"text-align: right;\">\n",
       "      <th></th>\n",
       "      <th>text</th>\n",
       "      <th>embedding</th>\n",
       "      <th>source</th>\n",
       "      <th>section_reference</th>\n",
       "      <th>document</th>\n",
       "    </tr>\n",
       "  </thead>\n",
       "  <tbody>\n",
       "    <tr>\n",
       "      <th>147</th>\n",
       "      <td>Under what conditions could you be exempt from...</td>\n",
       "      <td>[-0.03439036011695862, -0.0008122794097289443,...</td>\n",
       "      <td>question</td>\n",
       "      <td>all</td>\n",
       "      <td>article_30_5</td>\n",
       "    </tr>\n",
       "  </tbody>\n",
       "</table>\n",
       "</div>"
      ],
      "text/plain": [
       "                                                  text  \\\n",
       "147  Under what conditions could you be exempt from...   \n",
       "\n",
       "                                             embedding    source  \\\n",
       "147  [-0.03439036011695862, -0.0008122794097289443,...  question   \n",
       "\n",
       "    section_reference      document  \n",
       "147               all  article_30_5  "
      ]
     },
     "execution_count": 31,
     "metadata": {},
     "output_type": "execute_result"
    }
   ],
   "source": [
    "index_df[index_df['document'] == \"article_30_5\"]"
   ]
  },
  {
   "cell_type": "code",
   "execution_count": 9,
   "metadata": {},
   "outputs": [],
   "source": [
    "import os\n",
    "from regulations_rag.standard_regulation_index import load_parquet_data, save_parquet_data\n",
    "key = os.getenv('encryption_key_gdpr')\n",
    "\n",
    "path_to_file = \"../inputs/index/article_30_5.parquet\"\n",
    "index = load_parquet_data(path_to_file, key)"
   ]
  },
  {
   "cell_type": "code",
   "execution_count": 10,
   "metadata": {},
   "outputs": [
    {
     "data": {
      "text/html": [
       "<div>\n",
       "<style scoped>\n",
       "    .dataframe tbody tr th:only-of-type {\n",
       "        vertical-align: middle;\n",
       "    }\n",
       "\n",
       "    .dataframe tbody tr th {\n",
       "        vertical-align: top;\n",
       "    }\n",
       "\n",
       "    .dataframe thead th {\n",
       "        text-align: right;\n",
       "    }\n",
       "</style>\n",
       "<table border=\"1\" class=\"dataframe\">\n",
       "  <thead>\n",
       "    <tr style=\"text-align: right;\">\n",
       "      <th></th>\n",
       "      <th>section_reference</th>\n",
       "      <th>text</th>\n",
       "      <th>source</th>\n",
       "      <th>embedding</th>\n",
       "      <th>document</th>\n",
       "    </tr>\n",
       "  </thead>\n",
       "  <tbody>\n",
       "    <tr>\n",
       "      <th>0</th>\n",
       "      <td>all</td>\n",
       "      <td>If you have fewer than 250 employees, you usua...</td>\n",
       "      <td>summary</td>\n",
       "      <td>[-0.026057356968522072, 0.014008629135787487, ...</td>\n",
       "      <td>Article_30_5</td>\n",
       "    </tr>\n",
       "    <tr>\n",
       "      <th>1</th>\n",
       "      <td>all</td>\n",
       "      <td>What are the record-keeping exceptions for sma...</td>\n",
       "      <td>questions</td>\n",
       "      <td>[0.007615841459482908, 0.02034611813724041, -0...</td>\n",
       "      <td>Article_30_5</td>\n",
       "    </tr>\n",
       "    <tr>\n",
       "      <th>2</th>\n",
       "      <td>all</td>\n",
       "      <td>When must smaller organisations maintain a rec...</td>\n",
       "      <td>questions</td>\n",
       "      <td>[0.00046261242823675275, 0.006825227290391922,...</td>\n",
       "      <td>Article_30_5</td>\n",
       "    </tr>\n",
       "    <tr>\n",
       "      <th>3</th>\n",
       "      <td>all</td>\n",
       "      <td>What types of processing activities still requ...</td>\n",
       "      <td>questions</td>\n",
       "      <td>[0.011152287945151329, 0.021851062774658203, -...</td>\n",
       "      <td>Article_30_5</td>\n",
       "    </tr>\n",
       "    <tr>\n",
       "      <th>4</th>\n",
       "      <td>all</td>\n",
       "      <td>Why is maintaining a record of processing acti...</td>\n",
       "      <td>questions</td>\n",
       "      <td>[-0.011836612597107887, -0.011333354748785496,...</td>\n",
       "      <td>Article_30_5</td>\n",
       "    </tr>\n",
       "    <tr>\n",
       "      <th>5</th>\n",
       "      <td>all</td>\n",
       "      <td>What defines occasional processing?</td>\n",
       "      <td>questions</td>\n",
       "      <td>[-0.0750560611486435, 0.04036270081996918, -0....</td>\n",
       "      <td>Article_30_5</td>\n",
       "    </tr>\n",
       "    <tr>\n",
       "      <th>6</th>\n",
       "      <td>all</td>\n",
       "      <td>What assistance is available for SMEs to manag...</td>\n",
       "      <td>questions</td>\n",
       "      <td>[0.011198482476174831, 0.03537283092737198, -0...</td>\n",
       "      <td>Article_30_5</td>\n",
       "    </tr>\n",
       "    <tr>\n",
       "      <th>7</th>\n",
       "      <td>all</td>\n",
       "      <td>How does the principle of accountability relat...</td>\n",
       "      <td>questions</td>\n",
       "      <td>[-0.045358121395111084, -0.04111029952764511, ...</td>\n",
       "      <td>Article_30_5</td>\n",
       "    </tr>\n",
       "  </tbody>\n",
       "</table>\n",
       "</div>"
      ],
      "text/plain": [
       "  section_reference  ...      document\n",
       "0               all  ...  Article_30_5\n",
       "1               all  ...  Article_30_5\n",
       "2               all  ...  Article_30_5\n",
       "3               all  ...  Article_30_5\n",
       "4               all  ...  Article_30_5\n",
       "5               all  ...  Article_30_5\n",
       "6               all  ...  Article_30_5\n",
       "7               all  ...  Article_30_5\n",
       "\n",
       "[8 rows x 5 columns]"
      ]
     },
     "execution_count": 10,
     "metadata": {},
     "output_type": "execute_result"
    }
   ],
   "source": [
    "#index[\"document\"] = \"Article_30_5\"\n",
    "index"
   ]
  },
  {
   "cell_type": "code",
   "execution_count": 6,
   "metadata": {},
   "outputs": [],
   "source": [
    "save_parquet_data(index, path_to_file, key)"
   ]
  },
  {
   "cell_type": "code",
   "execution_count": null,
   "metadata": {},
   "outputs": [],
   "source": []
  }
 ],
 "metadata": {
  "kernelspec": {
   "display_name": "Python 3.10.4 ('env': venv)",
   "language": "python",
   "name": "python3"
  },
  "language_info": {
   "codemirror_mode": {
    "name": "ipython",
    "version": 3
   },
   "file_extension": ".py",
   "mimetype": "text/x-python",
   "name": "python",
   "nbconvert_exporter": "python",
   "pygments_lexer": "ipython3",
   "version": "3.10.4"
  },
  "orig_nbformat": 4,
  "vscode": {
   "interpreter": {
    "hash": "20591bc9273590117cdd0f52559c248ef39f0181da66e3521068e03aa47654cd"
   }
  }
 },
 "nbformat": 4,
 "nbformat_minor": 2
}
