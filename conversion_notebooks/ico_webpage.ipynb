{
 "cells": [
  {
   "cell_type": "code",
   "execution_count": 1,
   "metadata": {},
   "outputs": [],
   "source": [
    "import re\n",
    "from bs4 import BeautifulSoup"
   ]
  },
  {
   "cell_type": "code",
   "execution_count": 45,
   "metadata": {},
   "outputs": [],
   "source": [
    "import json\n",
    "data_file = \"../ico/guidelines/guidelines/monitor_worker.json\"\n",
    "with open(data_file, 'r', encoding='utf-8') as file:\n",
    "    data = json.load(file)"
   ]
  },
  {
   "cell_type": "code",
   "execution_count": 57,
   "metadata": {},
   "outputs": [
    {
     "name": "stdout",
     "output_type": "stream",
     "text": [
      "Employment practices and data protection: monitoring workers contains only content, and no FAQ\n",
      "Data protection and monitoring workers is an FAQ page\n",
      "What do we need to do if we use monitoring tools that use solely automated processes? is an FAQ page\n",
      "Specific data protection considerations for different ways or methods of monitoring workers is an FAQ page\n",
      "Can we use biometric data for time and access control and monitoring? is an FAQ page\n",
      "Checklists contains only content, and no FAQ\n"
     ]
    }
   ],
   "source": [
    "\n",
    "def find_faq_questions_and_links(content):\n",
    "\n",
    "    start_pos = content.find(\"In detail\")\n",
    "    \n",
    "    # If \"In detail\" is found, slice the content to start after it\n",
    "    if start_pos != -1:\n",
    "        content = content[start_pos:]\n",
    "    \n",
    "    # Regular expression to find all <a> tags with href and the associated text. The # here ensures we only find links in the input content\n",
    "    matches = re.findall(r'<a href=\"#([^\"]+)\"[^>]*>(.*?)</a>', content)\n",
    "\n",
    "    # Initialize an empty set to track unique href references\n",
    "    seen_hrefs = set()\n",
    "\n",
    "    # Filter the list to include only valid and unique references that appear later in the document\n",
    "    questions_with_references = []\n",
    "    for href, question in matches:\n",
    "        if href not in seen_hrefs and f'id=\"{href}\"' in content:\n",
    "            questions_with_references.append((question, href))\n",
    "            seen_hrefs.add(href)\n",
    "\n",
    "    return questions_with_references\n",
    "\n",
    "# Usage\n",
    "for page in data:\n",
    "    name = page[\"section\"]\n",
    "    questions_with_references = find_faq_questions_and_links(page['content'])\n",
    "    if len(questions_with_references) > 0:\n",
    "        print(name + \" is an FAQ page\")\n",
    "    else:\n",
    "        print(name + \" contains only content, and no FAQ\")"
   ]
  },
  {
   "cell_type": "code",
   "execution_count": 58,
   "metadata": {},
   "outputs": [],
   "source": [
    "def subdivide_content_into_faq(content, questions_with_references):\n",
    "\n",
    "    # this is the pattern of the question in the body of the content\n",
    "    section_pattern = r'<a id=\\\"{}\\\"></a>.*?'\n",
    "\n",
    "    # List to store the subsections\n",
    "    subsections = []\n",
    "\n",
    "    # Keep track of the last position in the content but only start the search after the heading \"In detail\" if it exists\n",
    "    last_pos = 0\n",
    "\n",
    "    for question, href in questions_with_references:\n",
    "        # Compile the pattern for the current href\n",
    "        pattern = re.compile(section_pattern.format(href))\n",
    "        \n",
    "        # Find the section start position\n",
    "        match = pattern.search(content, last_pos)\n",
    "        \n",
    "        if match:\n",
    "            # Get the position of the match\n",
    "            start_pos = match.start()\n",
    "            \n",
    "            if last_pos == 0 and start_pos > 0:\n",
    "                # Capture text before the first section if there is any\n",
    "                subsections.append(content[last_pos:start_pos].strip())\n",
    "            \n",
    "            # Find the next occurrence of any section or the end of the content\n",
    "            next_section_match = None\n",
    "            for next_question, next_href in questions_with_references:\n",
    "                if next_href != href:\n",
    "                    next_pattern = re.compile(section_pattern.format(next_href))\n",
    "                    next_section_match = next_pattern.search(content, start_pos + len(match.group()))\n",
    "                    if next_section_match:\n",
    "                        break\n",
    "            \n",
    "            if next_section_match:\n",
    "                end_pos = next_section_match.start()\n",
    "            else:\n",
    "                end_pos = len(content)\n",
    "            \n",
    "            # Extract the subsection\n",
    "            subsection = content[start_pos:end_pos].strip()\n",
    "            subsections.append(subsection)\n",
    "            \n",
    "            # Update the last position\n",
    "            last_pos = end_pos\n",
    "\n",
    "    # Capture any remaining content after the last section\n",
    "    if last_pos < len(content):\n",
    "        subsections.append(content[last_pos:].strip())\n",
    "\n",
    "    # The variable subsections now contains the list of content parts split by the questions_with_references\n",
    "    return subsections"
   ]
  },
  {
   "cell_type": "code",
   "execution_count": 68,
   "metadata": {},
   "outputs": [
    {
     "name": "stdout",
     "output_type": "stream",
     "text": [
      "0\n",
      "1\n"
     ]
    }
   ],
   "source": [
    "page = data[4]\n",
    "questions_with_references = find_faq_questions_and_links(content)\n",
    "print(len(questions_with_references))\n",
    "subsections = subdivide_content_into_faq(content, questions_with_references)\n",
    "print(len(subsections))\n"
   ]
  },
  {
   "cell_type": "code",
   "execution_count": 73,
   "metadata": {},
   "outputs": [
    {
     "data": {
      "text/plain": [
       "[('What is biometric data?', 'can1'),\n",
       " ('When might we use biometric data for time and attendance control and monitoring?',\n",
       "  'can2'),\n",
       " ('What are access controls?', 'can3'),\n",
       " ('What is biometric attendance monitoring?', 'monitoring'),\n",
       " ('How do we determine if using biometric data for access control is necessary and proportionate?',\n",
       "  'can4'),\n",
       " ('What lawful basis and condition for processing can we rely on when using biometric data?',\n",
       "  'can5'),\n",
       " ('Do we need to carry out a data protection impact assessment (DPIA)?',\n",
       "  'can6'),\n",
       " ('What about accuracy, fairness and rights relating to automated decision-making?',\n",
       "  'can7'),\n",
       " ('What do we need to tell workers about biometric data and access controls?',\n",
       "  'can8'),\n",
       " ('Can workers object to the use of biometric data for access control?',\n",
       "  'can9'),\n",
       " ('<span>What about the security of biometric data?</span>', 'can10'),\n",
       " ('Checklist', 'can11')]"
      ]
     },
     "execution_count": 73,
     "metadata": {},
     "output_type": "execute_result"
    }
   ],
   "source": [
    "questions_with_references = find_faq_questions_and_links(data[4][\"content\"])\n",
    "questions_with_references\n"
   ]
  },
  {
   "cell_type": "code",
   "execution_count": 76,
   "metadata": {},
   "outputs": [],
   "source": [
    "# create subdivided text\n",
    "\n",
    "subdivided_data = []\n",
    "for page in data:    \n",
    "    section = page[\"section\"]\n",
    "    url = page[\"url\"]\n",
    "    content = page['content']\n",
    "    questions_with_references = find_faq_questions_and_links(content)\n",
    "    if len(questions_with_references) == 0:\n",
    "        entry = {\n",
    "            \"section\": section,\n",
    "            \"url\": url,\n",
    "            \"content\": content,\n",
    "        }\n",
    "        subdivided_data.append(entry)\n",
    "    else:\n",
    "        subsections = subdivide_content_into_faq(content, questions_with_references)\n",
    "        if len(subsections) != len(questions_with_references) + 1:            \n",
    "            print(\"Could not find links for every FAQ in the ToC for page: \" + section)\n",
    "            break\n",
    "        else:\n",
    "            # entry for the ToC\n",
    "            entry = {\n",
    "                \"section\": section,\n",
    "                \"url\": url,\n",
    "                \"content\": subsections[0],\n",
    "            }\n",
    "            subdivided_data.append(entry)\n",
    "\n",
    "            for i in range(0, len(questions_with_references)):\n",
    "                question, href = questions_with_references[i]\n",
    "                entry = {\n",
    "                    \"section\": section,\n",
    "                    \"subsection\": question,\n",
    "                    \"url\": url + \"#\" + href,\n",
    "                    \"content\": subsections[i+1],\n",
    "                }\n",
    "                subdivided_data.append(entry)\n",
    "    \n",
    "    \n",
    "# Convert the list to JSON format\n",
    "# subdivided_data = json.dumps(data, indent=4)\n",
    "\n",
    "# Optionally, save it to a file\n",
    "\n",
    "split_data_file = \"../ico/guidelines/guidelines/monitor_worker_split.json\"\n",
    "with open(split_data_file, 'w', encoding='utf-8') as f:\n",
    "    json.dump(subdivided_data, f, indent=4)\n",
    "    \n"
   ]
  },
  {
   "cell_type": "code",
   "execution_count": 77,
   "metadata": {},
   "outputs": [],
   "source": [
    "def extract_visible_text(html_content):\n",
    "    # Parse the HTML content\n",
    "    soup = BeautifulSoup(html_content, 'html.parser')\n",
    "\n",
    "    # Replace <p> tags with double newlines\n",
    "    for p in soup.find_all('p'):\n",
    "        p.insert_after('\\n\\n')\n",
    "\n",
    "    # Get the visible text\n",
    "    visible_text = soup.get_text()\n",
    "\n",
    "    # Normalize whitespace and remove extra newlines\n",
    "    visible_text = '\\n\\n'.join([line.strip() for line in visible_text.splitlines() if line.strip()])\n",
    "\n",
    "    return visible_text"
   ]
  },
  {
   "cell_type": "code",
   "execution_count": 86,
   "metadata": {},
   "outputs": [
    {
     "name": "stdout",
     "output_type": "stream",
     "text": [
      "How do we identify a lawful basis?\n",
      "How you decide which lawful basis applies depends on your specific purpose and the context of the monitoring. You must think about why you want to monitor workers. You must identify which lawful basis best fits the circumstances. We have listed the available lawful bases below, along with some guidance to help you identify the right basis for your circumstances. You can also use our interactive guidance tool to help you. Carrying out a data protection impact assessment (DPIA) may also help you to identify the most appropriate basis.\n",
      "You must not adopt a one-size-fits-all approach. No one basis is always better, safer or more important than the others. However, some are likely to be more appropriate than others for employers. We highlight some of these below.\n",
      "Sometimes, more than one basis might apply. You should identify all those that apply, and document them from the start. Try to get it right first time, as you should not change it later without good reason.\n",
      "The six lawful bases are:\n",
      "Consent\n",
      "The worker gives consent for you to process their personal data for a specific purpose.\n",
      "A person must freely give their consent for it to be valid. This means that consent is not usually appropriate in the employment context, due to the imbalance of power between you and your workers. Workers are likely to feel that they have no choice but to give you consent.\n",
      "Consent must be unambiguous and include an affirmative action. You must:\n",
      "give workers the option to withdraw their consent without detriment;\n",
      "make this as easy as when they first provided it; and\n",
      "keep records of when and how you gained consent, and what exactly workers consented to.\n",
      "Consent is only appropriate if circumstances mean workers have a genuine choice and control over the monitoring.\n",
      "Contract\n",
      "The monitoring is necessary for a contract (such as the employment contract) you have with the worker, or because they asked you to take specific steps before entering into a contract.\n",
      "You should only use this lawful basis if it is necessary for your side of the contract as an employer. Whilst scenarios may exist where the use of employee monitoring is the only way for you to fulfil your side of a contract, these are hard to envisage.\n",
      "As monitoring is more often for internal business improvement purposes, it’s unlikely that it will be a suitable lawful basis for monitoring workers.\n",
      "Example\n",
      "An employer inserts a clause into its employment contracts to say that it employs video surveillance across its premises to monitor productivity and improve efficiency. This would not be sufficient justification to use this lawful basis for such monitoring as there are other less intrusive ways of improving productivity.\n",
      "Legal obligation\n",
      "The processing is necessary for you to comply with the law.\n",
      "You can rely on this lawful basis if you monitor workers to comply with a common law or statutory obligation. This does not apply to contractual obligations. In order to rely on this basis you must either identify the specific legal provision or an appropriate source of advice or guidance that clearly sets out your obligation.\n",
      "Example\n",
      "A logistics company needs to monitor driving time, speed and distance to comply with the rules on drivers’ working hours. Legal obligation is appropriate as a lawful basis. The logistics company documents the decision to rely on this lawful basis and signposts to the legislation which applies. The company does not process more information than necessary to fulfil obligations under the rules on drivers’ hours. They also do not use the information for any other purposes.\n",
      "Vital interests\n",
      "The processing is necessary to protect someone’s life.\n",
      "This is for emergencies, where you need to process personal information to protect someone’s life. This lawful basis is very limited in its scope and generally only applies to matters of life and death.\n",
      "Example\n",
      "A test pilot is monitored for several important factors, such as heart rate, blood pressure and brain activity. These factors may change in the demanding and dangerous job of test flights. These are vital to make sure the pilot is kept safe. On the other hand, an office worker would not expect to be monitored for these things, as there would be little in their job that would affect these factors. It is likely that another lawful basis for monitoring would be more suitable.\n",
      "Public task\n",
      "The processing is necessary for you to perform a task in the public interest or for your official functions.\n",
      "You must have a clear basis in law for the task or function. This is most relevant to public authorities, but it can apply to any organisation that exercises official authority or carries out tasks in the public interest that have a clear basis in law. For example, a private organisation or charity working under contract to a public authority to help deliver one of their defined legal functions.\n",
      "This basis may be appropriate if:\n",
      "you are a public authority or your organisation carries out tasks in the public interest; and\n",
      "you can demonstrate that monitoring workers is necessary to perform your tasks as set down in UK law.\n",
      "You should assess the basis in law of the specific monitoring activity. You cannot rely on this basis if you could achieve the same purpose in a less intrusive way.\n",
      "If monitoring is not necessary for you to perform your public task then you cannot reply upon this lawful basis.\n",
      "Legitimate interests\n",
      "The processing is necessary for your legitimate interests or those of a third party, unless the risks to the workers’ rights overrides them.\n",
      "This basis is the most flexible and could apply in a wide range of circumstances.\n",
      "Legitimate interests may not be the most appropriate lawful basis if:\n",
      "you are monitoring in ways workers do not understand and would not reasonably expect; or\n",
      "it is likely some workers would object if you explained it to them.\n",
      "You could use the DPIA process help you to assess this. (See the section on DPIAs).\n",
      "Depending on the work they undertake, and the contexts they work in, workers can reasonably expect different levels of monitoring to fall within the legitimate interest definition\n",
      "Example\n",
      "A miner would reasonably expect to wear a tracking device within a mine. This would be due to the dangerous work they undertake, the risks involved in potential accidents and the need to keep track of their location within the mine.\n",
      "However, an office worker would not reasonably expect to wear a tracking device in an office setting. There is far less risk working day-to-day in an office that a mine and office workers would not reasonably expect such a level of monitoring.\n",
      "When deciding if the proposed monitoring is appropriate, you must balance your legitimate interests and the necessity of the monitoring against the interests, rights and freedoms of workers, considering the particular circumstances. This is different to the other lawful bases which presume that your interests and those of the worker are balanced.\n",
      "You can break the key elements of the legitimate interests basis down into a three-part test:\n",
      "Purpose test– is there a legitimate interest behind the processing?\n",
      "Necessity test– is the processing necessary for that purpose?\n",
      "Balancing test– is the legitimate interest overridden by the person’s interests, rights or freedoms?\n",
      "You should assess each of the tests before processing and document the outcome, so you can demonstrate that legitimate interests applies. You should do this by carrying out a legitimate interests assessment.\n",
      "Further reading\n",
      "Please also see our separate lawful basis guidance for more general information about the different bases available.\n",
      "See also our legitimate interest assessment, including a template you can use.\n"
     ]
    }
   ],
   "source": [
    "subdivided_data[5]['subsection']\n",
    "# \"subsection\": \"How do we identify a lawful basis?\",\n",
    "print(extract_visible_text(subdivided_data[5]['content']).replace(\"\\n\\n\", \"\\n\"))"
   ]
  },
  {
   "cell_type": "code",
   "execution_count": 66,
   "metadata": {},
   "outputs": [
    {
     "ename": "IndexError",
     "evalue": "list index out of range",
     "output_type": "error",
     "traceback": [
      "\u001b[1;31m---------------------------------------------------------------------------\u001b[0m",
      "\u001b[1;31mIndexError\u001b[0m                                Traceback (most recent call last)",
      "Cell \u001b[1;32mIn[66], line 1\u001b[0m\n\u001b[1;32m----> 1\u001b[0m \u001b[43mquestions_with_references\u001b[49m\u001b[43m[\u001b[49m\u001b[38;5;241;43m0\u001b[39;49m\u001b[43m]\u001b[49m\n",
      "\u001b[1;31mIndexError\u001b[0m: list index out of range"
     ]
    }
   ],
   "source": [
    "questions_with_references[0]"
   ]
  },
  {
   "cell_type": "code",
   "execution_count": 27,
   "metadata": {},
   "outputs": [
    {
     "data": {
      "text/markdown": [
       "<a id=\"dp24\"></a>Checklist</h2>\n",
       "<div class=\"example example-letter\">\n",
       "<p>□ We have checked that the monitoring of workers is necessary for the purpose we have identified. We are satisfied there is no other reasonable and less intrusive way to achieve that purpose.</p>\n",
       "<p>□ We have considered whether we need to do a DPIA and either completed one or documented the reason we considered one wasn’t required.</p>\n",
       "<p>□ When making our DPIA decision, we have considered seeking the views of workers and representatives and either done this or documented our decision not to.</p>\n",
       "<p>□ We have identified a lawful basis for monitoring workers.</p>\n",
       "<p>□ Where required, we have identified an appropriate special category condition for monitoring workers if we’re likely to capture any special category data as part of our monitoring.</p>\n",
       "<p>□ We have documented what personal information we are processing when we monitor workers.</p>\n",
       "<p>□ Where required, we have an appropriate policy document in place.</p>\n",
       "<p>□ We have included specific information about monitoring workers in our privacy information so that workers are aware of any monitoring taking place. We have made sure that this information is readily accessible to workers.</p>\n",
       "<p>□ We have considered whether the risks associated with monitoring workers affects our other obligations around data minimisation, security, and appointing Data Protection Officers (DPOs) and representatives.</p>\n",
       "<p>□ We have considered data protection issues as part of the design and implementation of monitoring systems and practices, including where we use external suppliers for monitoring technology, and where we use the functionalities built into communication and collaboration work tools.</p>\n",
       "<p>□ Where necessary, we have considered the rules for international transfers.</p>\n",
       "</div>\n",
       "<p>You can also view and print off this checklist and all the checklists of this guidance on our <a rel=\"noopener\" data-udi=\"umb://document/c7011a82892041979f6979eaedc8b603\" href=\"/for-organisations/uk-gdpr-guidance-and-resources/employment/monitoring-workers/checklists/#_Checklists\" target=\"_blank\" title=\"Checklists\" data-anchor=\"#_Checklists\" class=\"link-external\">checklists page<span class=\"invisible\"></span></a>.</p>\r\n",
       "        </div>"
      ],
      "text/plain": [
       "<IPython.core.display.Markdown object>"
      ]
     },
     "metadata": {},
     "output_type": "display_data"
    }
   ],
   "source": [
    "from IPython.display import Markdown, display\n",
    "display(Markdown(subsections[24]))    \n"
   ]
  },
  {
   "cell_type": "code",
   "execution_count": null,
   "metadata": {},
   "outputs": [],
   "source": []
  }
 ],
 "metadata": {
  "kernelspec": {
   "display_name": "Python 3.10.4 ('env': venv)",
   "language": "python",
   "name": "python3"
  },
  "language_info": {
   "codemirror_mode": {
    "name": "ipython",
    "version": 3
   },
   "file_extension": ".py",
   "mimetype": "text/x-python",
   "name": "python",
   "nbconvert_exporter": "python",
   "pygments_lexer": "ipython3",
   "version": "3.10.4"
  },
  "orig_nbformat": 4,
  "vscode": {
   "interpreter": {
    "hash": "20591bc9273590117cdd0f52559c248ef39f0181da66e3521068e03aa47654cd"
   }
  }
 },
 "nbformat": 4,
 "nbformat_minor": 2
}
